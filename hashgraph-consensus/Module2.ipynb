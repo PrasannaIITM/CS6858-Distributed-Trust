{
  "nbformat": 4,
  "nbformat_minor": 0,
  "metadata": {
    "colab": {
      "provenance": []
    },
    "kernelspec": {
      "name": "python3",
      "display_name": "Python 3"
    },
    "language_info": {
      "name": "python"
    }
  },
  "cells": [
    {
      "cell_type": "markdown",
      "source": [
        "\n",
        "# Module 2 Assignment\n",
        "## Implementation of the consensus algorithm\n",
        "### Prasanna Bartakke EE19B106\n",
        "\n"
      ],
      "metadata": {
        "id": "x2CEfcGE_Kwa"
      }
    },
    {
      "cell_type": "markdown",
      "source": [
        "Enter the name of the file which has the input hashgraph"
      ],
      "metadata": {
        "id": "eMkJryi25gkK"
      }
    },
    {
      "cell_type": "code",
      "source": [
        "filename = \"test3.txt\""
      ],
      "metadata": {
        "id": "uHsKFGjA5gBj"
      },
      "execution_count": null,
      "outputs": []
    },
    {
      "cell_type": "markdown",
      "source": [
        "Go to Runtime and select Run All"
      ],
      "metadata": {
        "id": "xTRDWd5q_lOo"
      }
    },
    {
      "cell_type": "code",
      "source": [
        "from collections import defaultdict\n",
        "from enum import Enum\n",
        "from functools import lru_cache\n",
        "import statistics\n",
        "import graphviz\n",
        "\n",
        "# set debug = 1 to see the intermediate outputs\n",
        "DEBUG = 0\n",
        "\n",
        "class famous(Enum):\n",
        "  UNDECIDED = 0\n",
        "  NO = -1\n",
        "  YES = 1\n",
        "\n",
        "def log(s):\n",
        "  if DEBUG:\n",
        "    print(s)\n",
        "\n",
        "C = 10"
      ],
      "metadata": {
        "id": "jNYCIuwE53AY"
      },
      "execution_count": null,
      "outputs": []
    },
    {
      "cell_type": "code",
      "execution_count": null,
      "metadata": {
        "id": "Vn4Re7YfMVQa"
      },
      "outputs": [],
      "source": [
        "class Event:\n",
        "  def __init__(self, node_id, event_id, parent_event_id, self_parent_event_id, timestamp):\n",
        "    self.node_id = node_id\n",
        "    self.event_id = event_id\n",
        "    self.parent_event_id = parent_event_id\n",
        "    self.self_parent_event_id = self_parent_event_id\n",
        "    self.timestamp = timestamp\n",
        "    self.round = None\n",
        "    self.witness = False\n",
        "    self.famous = None\n",
        "    self.vote = None\n",
        "    self.round_received = None\n",
        "    self.consensus_timestamp = None"
      ]
    },
    {
      "cell_type": "code",
      "source": [
        "def print_events():\n",
        "  \"\"\"\n",
        "    prints all properties for all events\n",
        "  \"\"\"\n",
        "  for event in events:\n",
        "    log(f\"Id: {event.event_id} Node Id: {event.node_id} Parent: {event.parent_event_id} Self Parent: {event.self_parent_event_id} Round Created: {event.round} Witness: {event.witness} Fame: {event.famous} Round Received: {event.round_received} Consensus timestamp: {event.consensus_timestamp}\")\n",
        "\n",
        "def supermajority(N):\n",
        "    return (2/3) * N\n",
        "\n",
        "def get_max_parents_round(event: Event):\n",
        "  \"\"\"\n",
        "    returns the max round of the parents of the event, if no parents of event, returns 1\n",
        "  \"\"\"\n",
        "  if not event.parent_event_id:\n",
        "    parent_event_round = 1\n",
        "  else:  \n",
        "    parent_event_round = event_id_to_event_obj_map[event.parent_event_id].round\n",
        "\n",
        "  if not event.self_parent_event_id:\n",
        "    self_parent_event_round = 1\n",
        "  else:\n",
        "    self_parent_event_round = event_id_to_event_obj_map[event.self_parent_event_id].round\n",
        "    \n",
        "  return max(parent_event_round, self_parent_event_round)\n",
        "\n"
      ],
      "metadata": {
        "id": "ByWtIw43mte5"
      },
      "execution_count": null,
      "outputs": []
    },
    {
      "cell_type": "code",
      "source": [
        "@lru_cache(None)\n",
        "def see(y: Event, x: Event):\n",
        "  \"\"\"\n",
        "  returns distinct members in the path from event y to event x\n",
        "  if y cannot see x, returns empty set\n",
        "  \"\"\"\n",
        "  if not y:\n",
        "    return set()\n",
        "\n",
        "  if y.event_id == x.event_id:\n",
        "    return set([x.node_id])\n",
        "\n",
        "  y_parent_event = event_id_to_event_obj_map.get(y.parent_event_id)\n",
        "  y_self_parent_event = event_id_to_event_obj_map.get(y.self_parent_event_id)\n",
        "\n",
        "  can_see = see(y_parent_event, x) | see(y_self_parent_event, x)\n",
        "\n",
        "  if can_see:\n",
        "    can_see |= set([y.node_id])\n",
        "\n",
        "  if can_see:\n",
        "    log(f\"Event {y.event_id} can see event {x.event_id}\")\n",
        "  else:\n",
        "    log(f\"Event {y.event_id} cannot see event {x.event_id}\")\n",
        "\n",
        "  return can_see\n",
        "\n",
        "@lru_cache(None)\n",
        "def strongly_see(w: Event, x: Event, r):\n",
        "  \"\"\"\n",
        "  returns true if event w can strongly see event x\n",
        "  \"\"\"\n",
        "  if not see(w, x):\n",
        "    return False\n",
        "\n",
        "  # if w can see supermajority of events which can see x, then w can strongly see x\n",
        "  w_can_see = set()\n",
        "  for event in events:\n",
        "    if see(w, event) and see(event, x):\n",
        "      w_can_see |= see(w, event)\n",
        "\n",
        "  return len(w_can_see) > supermajority(N)\n",
        "\n",
        "@lru_cache(None)\n",
        "def ancestor(x: Event, y: Event):\n",
        "  \"\"\"\n",
        "    returns True if x is ancestor of y, i.e. y can see x\n",
        "  \"\"\"\n",
        "  return len(see(y, x)) > 0\n",
        "\n",
        "@lru_cache(None)\n",
        "def self_ancestor(x: Event, y: Event):\n",
        "  \"\"\"\n",
        "    returns True if x is self ancestor of y\n",
        "  \"\"\"\n",
        "\n",
        "  if not y:\n",
        "    return False\n",
        "\n",
        "  if y.event_id == x.event_id:\n",
        "    return True\n",
        "\n",
        "  \n",
        "  y_self_parent_event = event_id_to_event_obj_map.get(y.self_parent_event_id)\n",
        "\n",
        "  can_self_see = self_ancestor(x, y_self_parent_event)\n",
        "\n",
        " \n",
        "  if can_self_see:\n",
        "    log(f\"Event {y.event_id} can self see event {x.event_id}\")\n",
        "  else:\n",
        "    log(f\"Event {y.event_id} cannot self see event {x.event_id}\")\n",
        "\n",
        "  return can_self_see"
      ],
      "metadata": {
        "id": "hVzuQpM98Efx"
      },
      "execution_count": null,
      "outputs": []
    },
    {
      "cell_type": "markdown",
      "source": [
        "The divide_rounds procedure. As soon as an event is known, it is assigned a round number event.round, and the boolean value event.witness is calculated, indicating whether it is a \"witness\", the first event that a member created in that round."
      ],
      "metadata": {
        "id": "sLei1xEcEZFG"
      }
    },
    {
      "cell_type": "code",
      "source": [
        "def divide_rounds():\n",
        "  for event in events:\n",
        "    r = get_max_parents_round(event)\n",
        "\n",
        "    # increment event's round if it can strongly see > 2/3rd round r witnesses\n",
        "    count_strongly_seen_round_r_witness = 0\n",
        "\n",
        "    for witness_event_id in witness[r]:\n",
        "      rth_round_witness_event = event_id_to_event_obj_map[witness_event_id]\n",
        "      if r and strongly_see(event, rth_round_witness_event, r):\n",
        "        count_strongly_seen_round_r_witness += 1\n",
        "\n",
        "    if count_strongly_seen_round_r_witness > supermajority(N):\n",
        "      event.round = r + 1\n",
        "    else:\n",
        "      event.round = r\n",
        "\n",
        "    # check if witness\n",
        "    self_parent_event = event_id_to_event_obj_map.get(event.self_parent_event_id)\n",
        "\n",
        "    if (not self_parent_event) or (event.round > self_parent_event.round):\n",
        "      event.witness = True\n",
        "      witness[event.round].append(event.event_id)\n",
        "    "
      ],
      "metadata": {
        "id": "0-wc1uvqU8p0"
      },
      "execution_count": null,
      "outputs": []
    },
    {
      "cell_type": "markdown",
      "source": [
        "The decide_fame procedure. For each witness event (i.e., an event x where x.witness is true), decide whether it is famous (i.e., assign a boolean to x.famous). This decision is done by a Byzantine agreement protocol based on virtual voting. Each member runs it locally, on their own copy of the hashgraph, with no additional communication. It treats the events in the hashgraph as if they were sending votes to each other, though the calculation\n",
        "is purely local to a member’s computer. The member assigns votes to the witnesses of each round, for several rounds, until more than 2/3 of the population agrees. To find the fame of x, re-run this repeatedly on the growing hashgraph until x.famous receives a value."
      ],
      "metadata": {
        "id": "ZxFLAE1pJjGP"
      }
    },
    {
      "cell_type": "code",
      "source": [
        "def get_middle_bit(x):\n",
        "  bin_x = bin(x)[2:] \n",
        "\n",
        "  # if even length, return xor of middle 2 bits\n",
        "  if len(bin_x) % 2 == 0:\n",
        "    return int(bin_x[len(bin_x) // 2]) ^ int(bin_x[(len(bin_x)-1) // 2])\n",
        "  else:\n",
        "    return int(bin_x[len(bin_x) // 2])\n",
        "\n",
        "def decide_fame():\n",
        "  # for each event x in order from earlier rounds to later\n",
        "  for x in events:\n",
        "    x.famous = famous.UNDECIDED\n",
        "    # for each event y in order from earlier rounds to later\n",
        "    for y in events:\n",
        "      if x.witness and y.witness and y.round > x.round:\n",
        "\n",
        "        d = y.round - x.round\n",
        "        \n",
        "        # first round of election\n",
        "        if d == 1:\n",
        "          if see(y, x):\n",
        "            y.vote = famous.YES\n",
        "          else:\n",
        "            y.vote = famous.NO\n",
        "        else:\n",
        "\n",
        "          #set of witnesses in round y.round - 1 that y can strongly see\n",
        "          s = set()\n",
        "          for witness_event_id in witness[y.round - 1]:\n",
        "            witness_event = event_id_to_event_obj_map[witness_event_id]\n",
        "            if strongly_see(y, witness_event, y.round-1):\n",
        "              s.add(witness_event)\n",
        "\n",
        "          # v - majority vote in s(is famous.YES for a tie)\n",
        "          # t - number of events in s with a vote of v\n",
        "          vote_count = {famous.YES: 0, famous.NO: 0}\n",
        "          for event in s:\n",
        "            vote_count[event.vote] += 1\n",
        "          if vote_count[famous.YES] >= vote_count[famous.NO]:\n",
        "            v = famous.YES\n",
        "            t = vote_count[famous.YES]\n",
        "          else:\n",
        "            v = famous.NO\n",
        "            t = vote_count[famous.NO]\n",
        "\n",
        "          # normal round\n",
        "          if d % C > 0:\n",
        "            # if supermajority then decide\n",
        "            if t > supermajority(N):\n",
        "              x.famous = v\n",
        "              y.vote = v\n",
        "              break\n",
        "            # else, just vote\n",
        "            else:\n",
        "              y.vote = v\n",
        "          # coin round\n",
        "          else:\n",
        "            # if supermajority then vote\n",
        "            if t > supermajority(N):\n",
        "              y.vote = v\n",
        "            # else flip a coin\n",
        "            else:\n",
        "              # middle bit of event id of y\n",
        "              middle_bit = get_middle_bit(y.event_id)\n",
        "              if middle_bit:\n",
        "                y.vote = famous.NO\n",
        "              else:\n",
        "                y.vote = famous.YES"
      ],
      "metadata": {
        "id": "Pt1-5FvQnEnY"
      },
      "execution_count": null,
      "outputs": []
    },
    {
      "cell_type": "markdown",
      "source": [
        "The find_order procedure. Once all the witnesses in round r have their fame decided, find the set of famous witnesses in that round, then remove from that set any famous witness that has the same creator as any other in that set. The remaining famous witnesses are the unique famous witnesses. They act as the judges to assign earlier events a round received and consensus timestamp. An event is said to be \"received\" in the first round where all the unique famous witnesses have received it, if all earlier rounds have the fame of all witnesses decided. Its timestamp is the median of the timestamps of those events where each of those members first received it. Once these have been calculated, the events are sorted by round received. Any ties are subsorted by consensus timestamp. Any remaining ties are subsorted by whitened signature. The whitened signature is the signature XORed with the\n",
        "signatures of all unique famous witnesses in the received round."
      ],
      "metadata": {
        "id": "HC6u-31BKI3o"
      }
    },
    {
      "cell_type": "code",
      "source": [
        "def find_order():\n",
        "  # find the unique famous witnesses(having unique creators) in each round\n",
        "  unq_witness = defaultdict(list)\n",
        "\n",
        "  for r in witness:\n",
        "    seen_ = set()\n",
        "    for w_id in witness[r]:\n",
        "      w = event_id_to_event_obj_map[w_id]\n",
        "      if w.famous != famous.YES:\n",
        "        continue\n",
        "      if w.node_id not in seen_:\n",
        "        seen_.add(w.node_id)\n",
        "        unq_witness[r].append(w_id)\n",
        "\n",
        "    \n",
        "  for x in events:\n",
        "    r = None\n",
        "    for r_ in sorted(witness):\n",
        "      no_undecided_famous = True\n",
        "      x_ancestor_all = True\n",
        "\n",
        "      # if there is a round such that there is no event y in or before round r that\n",
        "      # has y.witness = True and y.famous = famous.UNDECIDED\n",
        "      for y_id in witness[r_]:\n",
        "        y = event_id_to_event_obj_map[y_id]\n",
        "        if y.famous == famous.UNDECIDED:\n",
        "          no_undecided_famous = False\n",
        "      \n",
        "      # x is an ancestor of every round r unique famous witness\n",
        "      for y_id in unq_witness[r_]:\n",
        "        y = event_id_to_event_obj_map[y_id]\n",
        "        if not ancestor(x, y):\n",
        "          x_ancestor_all = False\n",
        "\n",
        "      if no_undecided_famous and x_ancestor_all:\n",
        "        # if both conditions are True and as r_ is the first round where this happens\n",
        "        r = r_\n",
        "        break\n",
        "    else:\n",
        "      log(f\"Round received not found for Event id: {x.event_id}\")\n",
        "      continue\n",
        "\n",
        "    log(f\"Event id: {x.event_id} Round received: {r}\")\n",
        "    x.round_received = r\n",
        "\n",
        "    # set of each event z such that z is a self-ancestor of a round r unique famous\n",
        "    # witness, and x is an ancestor of z but not of the self-parent of z\n",
        "    s = set()\n",
        "    for z in events:\n",
        "      for w_id in unq_witness[r]:\n",
        "        w = event_id_to_event_obj_map[w_id]\n",
        "        if self_ancestor(z, w) and ancestor(x, z) and not ancestor(x, event_id_to_event_obj_map.get(z.self_parent_event_id)):\n",
        "          s.add(z.event_id)\n",
        "    \n",
        "    # consensus timestamp is the median of timestamps of all the events in s\n",
        "    ts = [event_id_to_event_obj_map[z].timestamp for z in s]\n",
        "    if ts:\n",
        "      x.consensus_timestamp = statistics.median(ts)\n",
        "\n",
        "  # consensus order sorted by round_received, consensus_timestamp and event_id\n",
        "  order = []\n",
        "  for event in events:\n",
        "    if event.round_received:\n",
        "      order.append([event.round_received, event.consensus_timestamp, event.event_id])\n",
        "  order.sort()\n",
        "  return order\n",
        "\n",
        "  "
      ],
      "metadata": {
        "id": "Xq2fAgWPoQR6"
      },
      "execution_count": null,
      "outputs": []
    },
    {
      "cell_type": "markdown",
      "source": [
        "Read events from the file and make the hashgraph."
      ],
      "metadata": {
        "id": "f4PQtdU6OAR5"
      }
    },
    {
      "cell_type": "code",
      "source": [
        "event_id_to_event_obj_map = {}\n",
        "events = []\n",
        "witness = defaultdict(list)\n",
        "\n",
        "\n",
        "hfile = open(filename)\n",
        "lines = hfile.readlines()\n",
        "N = int(lines[0].strip())\n",
        "i = 1\n",
        "while lines[i].strip() != \"Done\":\n",
        "  line = lines[i].strip().split()\n",
        "  node_id = int(line[0])\n",
        "  event_id = int(line[1])\n",
        "\n",
        "  if line[2] == \"NULL\":\n",
        "    parent_event_id = None\n",
        "  else:\n",
        "    parent_event_id = int(line[2])\n",
        "\n",
        "  if line[3] == \"NULL\":\n",
        "    self_parent_event_id = None\n",
        "  else:\n",
        "    self_parent_event_id = int(line[3])\n",
        "\n",
        "  timestamp = int(line[4])\n",
        "\n",
        "  event = Event(node_id, event_id, parent_event_id, self_parent_event_id, timestamp)\n",
        "\n",
        "  event_id_to_event_obj_map[event_id] = event\n",
        "\n",
        "  events.append(event)\n",
        "\n",
        "  i += 1"
      ],
      "metadata": {
        "id": "QQG6n9zwNdQ1"
      },
      "execution_count": null,
      "outputs": []
    },
    {
      "cell_type": "markdown",
      "source": [
        "Plot the input hashgraph"
      ],
      "metadata": {
        "id": "BVcaEy8yFIOj"
      }
    },
    {
      "cell_type": "code",
      "source": [
        "from IPython.display import Javascript\n",
        "display(Javascript('''google.colab.output.setIframeHeight(0, true, {maxHeight: 5000})'''))\n",
        "\n",
        "g = graphviz.Digraph('G', filename = \"input.png\", engine=\"neato\")\n",
        "\n",
        "for event in  events:\n",
        "  g.node(str(event.event_id), pos=f\"{event.node_id},{event.timestamp}!\")\n",
        "\n",
        "\n",
        "for event in events:\n",
        "  op = event_id_to_event_obj_map.get(event.parent_event_id)\n",
        "  sp = event_id_to_event_obj_map.get(event.self_parent_event_id)\n",
        "  if op:\n",
        "    g.edge(f\"{op.event_id}\", f\"{event.event_id}\")\n",
        "  if sp:\n",
        "    g.edge(f\"{sp.event_id}\", f\"{event.event_id}\")\n",
        "g"
      ],
      "metadata": {
        "colab": {
          "base_uri": "https://localhost:8080/",
          "height": 1903
        },
        "id": "JIUJ-qtEXvrm",
        "outputId": "1b81ad8b-3a78-469c-ea47-4d805d07ca6b"
      },
      "execution_count": null,
      "outputs": [
        {
          "output_type": "display_data",
          "data": {
            "text/plain": [
              "<IPython.core.display.Javascript object>"
            ],
            "application/javascript": [
              "google.colab.output.setIframeHeight(0, true, {maxHeight: 5000})"
            ]
          },
          "metadata": {}
        },
        {
          "output_type": "execute_result",
          "data": {
            "text/plain": [
              "<graphviz.dot.Digraph at 0x7fb4d8bfcb50>"
            ],
            "image/svg+xml": "<?xml version=\"1.0\" encoding=\"UTF-8\" standalone=\"no\"?>\n<!DOCTYPE svg PUBLIC \"-//W3C//DTD SVG 1.1//EN\"\n \"http://www.w3.org/Graphics/SVG/1.1/DTD/svg11.dtd\">\n<!-- Generated by graphviz version 2.40.1 (20161225.0304)\n -->\n<!-- Title: G Pages: 1 -->\n<svg width=\"285pt\" height=\"1412pt\"\n viewBox=\"0.00 0.00 285.09 1412.00\" xmlns=\"http://www.w3.org/2000/svg\" xmlns:xlink=\"http://www.w3.org/1999/xlink\">\n<g id=\"graph0\" class=\"graph\" transform=\"scale(1 1) rotate(0) translate(4 1408)\">\n<title>G</title>\n<polygon fill=\"#ffffff\" stroke=\"transparent\" points=\"-4,4 -4,-1408 281.0946,-1408 281.0946,4 -4,4\"/>\n<!-- 1001 -->\n<g id=\"node1\" class=\"node\">\n<title>1001</title>\n<ellipse fill=\"none\" stroke=\"#000000\" cx=\"30.5473\" cy=\"-18\" rx=\"30.5947\" ry=\"18\"/>\n<text text-anchor=\"middle\" x=\"30.5473\" y=\"-14.3\" font-family=\"Times,serif\" font-size=\"14.00\" fill=\"#000000\">1001</text>\n</g>\n<!-- 1009 -->\n<g id=\"node9\" class=\"node\">\n<title>1009</title>\n<ellipse fill=\"none\" stroke=\"#000000\" cx=\"30.5473\" cy=\"-234\" rx=\"30.5947\" ry=\"18\"/>\n<text text-anchor=\"middle\" x=\"30.5473\" y=\"-230.3\" font-family=\"Times,serif\" font-size=\"14.00\" fill=\"#000000\">1009</text>\n</g>\n<!-- 1001&#45;&gt;1009 -->\n<g id=\"edge10\" class=\"edge\">\n<title>1001&#45;&gt;1009</title>\n<path fill=\"none\" stroke=\"#000000\" d=\"M30.5473,-36.0445C30.5473,-73.6062 30.5473,-160.4459 30.5473,-205.5897\"/>\n<polygon fill=\"#000000\" stroke=\"#000000\" points=\"27.0474,-205.8549 30.5473,-215.8549 34.0474,-205.855 27.0474,-205.8549\"/>\n</g>\n<!-- 1002 -->\n<g id=\"node2\" class=\"node\">\n<title>1002</title>\n<ellipse fill=\"none\" stroke=\"#000000\" cx=\"102.5473\" cy=\"-18\" rx=\"30.5947\" ry=\"18\"/>\n<text text-anchor=\"middle\" x=\"102.5473\" y=\"-14.3\" font-family=\"Times,serif\" font-size=\"14.00\" fill=\"#000000\">1002</text>\n</g>\n<!-- 1005 -->\n<g id=\"node5\" class=\"node\">\n<title>1005</title>\n<ellipse fill=\"none\" stroke=\"#000000\" cx=\"246.5473\" cy=\"-90\" rx=\"30.5947\" ry=\"18\"/>\n<text text-anchor=\"middle\" x=\"246.5473\" y=\"-86.3\" font-family=\"Times,serif\" font-size=\"14.00\" fill=\"#000000\">1005</text>\n</g>\n<!-- 1002&#45;&gt;1005 -->\n<g id=\"edge1\" class=\"edge\">\n<title>1002&#45;&gt;1005</title>\n<path fill=\"none\" stroke=\"#000000\" d=\"M126.0039,-29.7283C149.9573,-41.705 187.3284,-60.3905 214.1091,-73.7809\"/>\n<polygon fill=\"#000000\" stroke=\"#000000\" points=\"212.5912,-76.935 223.1008,-78.2767 215.7217,-70.674 212.5912,-76.935\"/>\n</g>\n<!-- 1006 -->\n<g id=\"node6\" class=\"node\">\n<title>1006</title>\n<ellipse fill=\"none\" stroke=\"#000000\" cx=\"102.5473\" cy=\"-162\" rx=\"30.5947\" ry=\"18\"/>\n<text text-anchor=\"middle\" x=\"102.5473\" y=\"-158.3\" font-family=\"Times,serif\" font-size=\"14.00\" fill=\"#000000\">1006</text>\n</g>\n<!-- 1002&#45;&gt;1006 -->\n<g id=\"edge4\" class=\"edge\">\n<title>1002&#45;&gt;1006</title>\n<path fill=\"none\" stroke=\"#000000\" d=\"M102.5473,-36.2377C102.5473,-60.799 102.5473,-104.7526 102.5473,-133.6459\"/>\n<polygon fill=\"#000000\" stroke=\"#000000\" points=\"99.0474,-133.9103 102.5473,-143.9104 106.0474,-133.9104 99.0474,-133.9103\"/>\n</g>\n<!-- 1003 -->\n<g id=\"node3\" class=\"node\">\n<title>1003</title>\n<ellipse fill=\"none\" stroke=\"#000000\" cx=\"174.5473\" cy=\"-18\" rx=\"30.5947\" ry=\"18\"/>\n<text text-anchor=\"middle\" x=\"174.5473\" y=\"-14.3\" font-family=\"Times,serif\" font-size=\"14.00\" fill=\"#000000\">1003</text>\n</g>\n<!-- 1008 -->\n<g id=\"node8\" class=\"node\">\n<title>1008</title>\n<ellipse fill=\"none\" stroke=\"#000000\" cx=\"102.5473\" cy=\"-234\" rx=\"30.5947\" ry=\"18\"/>\n<text text-anchor=\"middle\" x=\"102.5473\" y=\"-230.3\" font-family=\"Times,serif\" font-size=\"14.00\" fill=\"#000000\">1008</text>\n</g>\n<!-- 1003&#45;&gt;1008 -->\n<g id=\"edge7\" class=\"edge\">\n<title>1003&#45;&gt;1008</title>\n<path fill=\"none\" stroke=\"#000000\" d=\"M168.6552,-35.6762C156.1296,-73.2531 126.7755,-161.3155 111.7551,-206.3765\"/>\n<polygon fill=\"#000000\" stroke=\"#000000\" points=\"108.3627,-205.4859 108.5208,-216.0796 115.0035,-207.6996 108.3627,-205.4859\"/>\n</g>\n<!-- 1011 -->\n<g id=\"node11\" class=\"node\">\n<title>1011</title>\n<ellipse fill=\"none\" stroke=\"#000000\" cx=\"174.5473\" cy=\"-306\" rx=\"29.795\" ry=\"18\"/>\n<text text-anchor=\"middle\" x=\"174.5473\" y=\"-302.3\" font-family=\"Times,serif\" font-size=\"14.00\" fill=\"#000000\">1011</text>\n</g>\n<!-- 1003&#45;&gt;1011 -->\n<g id=\"edge14\" class=\"edge\">\n<title>1003&#45;&gt;1011</title>\n<path fill=\"none\" stroke=\"#000000\" d=\"M174.5473,-36.0157C174.5473,-84.7061 174.5473,-219.2039 174.5473,-277.9427\"/>\n<polygon fill=\"#000000\" stroke=\"#000000\" points=\"171.0474,-277.9911 174.5473,-287.9911 178.0474,-277.9912 171.0474,-277.9911\"/>\n</g>\n<!-- 1004 -->\n<g id=\"node4\" class=\"node\">\n<title>1004</title>\n<ellipse fill=\"none\" stroke=\"#000000\" cx=\"246.5473\" cy=\"-18\" rx=\"30.5947\" ry=\"18\"/>\n<text text-anchor=\"middle\" x=\"246.5473\" y=\"-14.3\" font-family=\"Times,serif\" font-size=\"14.00\" fill=\"#000000\">1004</text>\n</g>\n<!-- 1004&#45;&gt;1005 -->\n<g id=\"edge2\" class=\"edge\">\n<title>1004&#45;&gt;1005</title>\n<path fill=\"none\" stroke=\"#000000\" d=\"M246.5473,-36.1686C246.5473,-43.869 246.5473,-53.0257 246.5473,-61.5834\"/>\n<polygon fill=\"#000000\" stroke=\"#000000\" points=\"243.0474,-61.5867 246.5473,-71.5867 250.0474,-61.5868 243.0474,-61.5867\"/>\n</g>\n<!-- 1005&#45;&gt;1006 -->\n<g id=\"edge3\" class=\"edge\">\n<title>1005&#45;&gt;1006</title>\n<path fill=\"none\" stroke=\"#000000\" d=\"M223.0907,-101.7283C199.1372,-113.705 161.7662,-132.3905 134.9855,-145.7809\"/>\n<polygon fill=\"#000000\" stroke=\"#000000\" points=\"133.3728,-142.674 125.9938,-150.2767 136.5034,-148.935 133.3728,-142.674\"/>\n</g>\n<!-- 1007 -->\n<g id=\"node7\" class=\"node\">\n<title>1007</title>\n<ellipse fill=\"none\" stroke=\"#000000\" cx=\"246.5473\" cy=\"-234\" rx=\"30.5947\" ry=\"18\"/>\n<text text-anchor=\"middle\" x=\"246.5473\" y=\"-230.3\" font-family=\"Times,serif\" font-size=\"14.00\" fill=\"#000000\">1007</text>\n</g>\n<!-- 1005&#45;&gt;1007 -->\n<g id=\"edge6\" class=\"edge\">\n<title>1005&#45;&gt;1007</title>\n<path fill=\"none\" stroke=\"#000000\" d=\"M246.5473,-108.2377C246.5473,-132.799 246.5473,-176.7526 246.5473,-205.6459\"/>\n<polygon fill=\"#000000\" stroke=\"#000000\" points=\"243.0474,-205.9103 246.5473,-215.9104 250.0474,-205.9104 243.0474,-205.9103\"/>\n</g>\n<!-- 1006&#45;&gt;1007 -->\n<g id=\"edge5\" class=\"edge\">\n<title>1006&#45;&gt;1007</title>\n<path fill=\"none\" stroke=\"#000000\" d=\"M126.0039,-173.7283C149.9573,-185.705 187.3284,-204.3905 214.1091,-217.7809\"/>\n<polygon fill=\"#000000\" stroke=\"#000000\" points=\"212.5912,-220.935 223.1008,-222.2767 215.7217,-214.674 212.5912,-220.935\"/>\n</g>\n<!-- 1006&#45;&gt;1008 -->\n<g id=\"edge8\" class=\"edge\">\n<title>1006&#45;&gt;1008</title>\n<path fill=\"none\" stroke=\"#000000\" d=\"M102.5473,-180.1686C102.5473,-187.869 102.5473,-197.0257 102.5473,-205.5834\"/>\n<polygon fill=\"#000000\" stroke=\"#000000\" points=\"99.0474,-205.5867 102.5473,-215.5867 106.0474,-205.5868 99.0474,-205.5867\"/>\n</g>\n<!-- 1006&#45;&gt;1009 -->\n<g id=\"edge9\" class=\"edge\">\n<title>1006&#45;&gt;1009</title>\n<path fill=\"none\" stroke=\"#000000\" d=\"M86.9244,-177.6229C77.112,-187.4353 64.288,-200.2593 53.3504,-211.1969\"/>\n<polygon fill=\"#000000\" stroke=\"#000000\" points=\"50.7359,-208.8616 46.1397,-218.4076 55.6857,-213.8113 50.7359,-208.8616\"/>\n</g>\n<!-- 1010 -->\n<g id=\"node10\" class=\"node\">\n<title>1010</title>\n<ellipse fill=\"none\" stroke=\"#000000\" cx=\"246.5473\" cy=\"-306\" rx=\"30.5947\" ry=\"18\"/>\n<text text-anchor=\"middle\" x=\"246.5473\" y=\"-302.3\" font-family=\"Times,serif\" font-size=\"14.00\" fill=\"#000000\">1010</text>\n</g>\n<!-- 1007&#45;&gt;1010 -->\n<g id=\"edge12\" class=\"edge\">\n<title>1007&#45;&gt;1010</title>\n<path fill=\"none\" stroke=\"#000000\" d=\"M246.5473,-252.1686C246.5473,-259.869 246.5473,-269.0257 246.5473,-277.5834\"/>\n<polygon fill=\"#000000\" stroke=\"#000000\" points=\"243.0474,-277.5867 246.5473,-287.5867 250.0474,-277.5868 243.0474,-277.5867\"/>\n</g>\n<!-- 1008&#45;&gt;1010 -->\n<g id=\"edge11\" class=\"edge\">\n<title>1008&#45;&gt;1010</title>\n<path fill=\"none\" stroke=\"#000000\" d=\"M126.0039,-245.7283C149.9573,-257.705 187.3284,-276.3905 214.1091,-289.7809\"/>\n<polygon fill=\"#000000\" stroke=\"#000000\" points=\"212.5912,-292.935 223.1008,-294.2767 215.7217,-286.674 212.5912,-292.935\"/>\n</g>\n<!-- 1008&#45;&gt;1011 -->\n<g id=\"edge13\" class=\"edge\">\n<title>1008&#45;&gt;1011</title>\n<path fill=\"none\" stroke=\"#000000\" d=\"M118.1702,-249.6229C127.9826,-259.4353 140.8066,-272.2593 151.7442,-283.1969\"/>\n<polygon fill=\"#000000\" stroke=\"#000000\" points=\"149.4089,-285.8113 158.9548,-290.4076 154.3586,-280.8616 149.4089,-285.8113\"/>\n</g>\n<!-- 1012 -->\n<g id=\"node12\" class=\"node\">\n<title>1012</title>\n<ellipse fill=\"none\" stroke=\"#000000\" cx=\"102.5473\" cy=\"-378\" rx=\"30.5947\" ry=\"18\"/>\n<text text-anchor=\"middle\" x=\"102.5473\" y=\"-374.3\" font-family=\"Times,serif\" font-size=\"14.00\" fill=\"#000000\">1012</text>\n</g>\n<!-- 1008&#45;&gt;1012 -->\n<g id=\"edge16\" class=\"edge\">\n<title>1008&#45;&gt;1012</title>\n<path fill=\"none\" stroke=\"#000000\" d=\"M102.5473,-252.2377C102.5473,-276.799 102.5473,-320.7526 102.5473,-349.646\"/>\n<polygon fill=\"#000000\" stroke=\"#000000\" points=\"99.0474,-349.9104 102.5473,-359.9104 106.0474,-349.9104 99.0474,-349.9104\"/>\n</g>\n<!-- 1013 -->\n<g id=\"node13\" class=\"node\">\n<title>1013</title>\n<ellipse fill=\"none\" stroke=\"#000000\" cx=\"246.5473\" cy=\"-450\" rx=\"30.5947\" ry=\"18\"/>\n<text text-anchor=\"middle\" x=\"246.5473\" y=\"-446.3\" font-family=\"Times,serif\" font-size=\"14.00\" fill=\"#000000\">1013</text>\n</g>\n<!-- 1009&#45;&gt;1013 -->\n<g id=\"edge17\" class=\"edge\">\n<title>1009&#45;&gt;1013</title>\n<path fill=\"none\" stroke=\"#000000\" d=\"M46.0815,-249.5342C83.6642,-287.1169 179.643,-383.0958 223.7507,-427.2035\"/>\n<polygon fill=\"#000000\" stroke=\"#000000\" points=\"221.3176,-429.7201 230.8636,-434.3164 226.2674,-424.7704 221.3176,-429.7201\"/>\n</g>\n<!-- 1014 -->\n<g id=\"node14\" class=\"node\">\n<title>1014</title>\n<ellipse fill=\"none\" stroke=\"#000000\" cx=\"30.5473\" cy=\"-522\" rx=\"30.5947\" ry=\"18\"/>\n<text text-anchor=\"middle\" x=\"30.5473\" y=\"-518.3\" font-family=\"Times,serif\" font-size=\"14.00\" fill=\"#000000\">1014</text>\n</g>\n<!-- 1009&#45;&gt;1014 -->\n<g id=\"edge20\" class=\"edge\">\n<title>1009&#45;&gt;1014</title>\n<path fill=\"none\" stroke=\"#000000\" d=\"M30.5473,-252.0157C30.5473,-300.7061 30.5473,-435.2039 30.5473,-493.9427\"/>\n<polygon fill=\"#000000\" stroke=\"#000000\" points=\"27.0474,-493.9911 30.5473,-503.9911 34.0474,-493.9912 27.0474,-493.9911\"/>\n</g>\n<!-- 1010&#45;&gt;1012 -->\n<g id=\"edge15\" class=\"edge\">\n<title>1010&#45;&gt;1012</title>\n<path fill=\"none\" stroke=\"#000000\" d=\"M223.0907,-317.7283C199.1372,-329.705 161.7662,-348.3905 134.9855,-361.7809\"/>\n<polygon fill=\"#000000\" stroke=\"#000000\" points=\"133.3728,-358.6741 125.9938,-366.2767 136.5034,-364.9351 133.3728,-358.6741\"/>\n</g>\n<!-- 1010&#45;&gt;1013 -->\n<g id=\"edge18\" class=\"edge\">\n<title>1010&#45;&gt;1013</title>\n<path fill=\"none\" stroke=\"#000000\" d=\"M246.5473,-324.2377C246.5473,-348.799 246.5473,-392.7526 246.5473,-421.646\"/>\n<polygon fill=\"#000000\" stroke=\"#000000\" points=\"243.0474,-421.9104 246.5473,-431.9104 250.0474,-421.9104 243.0474,-421.9104\"/>\n</g>\n<!-- 1016 -->\n<g id=\"node16\" class=\"node\">\n<title>1016</title>\n<ellipse fill=\"none\" stroke=\"#000000\" cx=\"30.5473\" cy=\"-594\" rx=\"30.5947\" ry=\"18\"/>\n<text text-anchor=\"middle\" x=\"30.5473\" y=\"-590.3\" font-family=\"Times,serif\" font-size=\"14.00\" fill=\"#000000\">1016</text>\n</g>\n<!-- 1011&#45;&gt;1016 -->\n<g id=\"edge23\" class=\"edge\">\n<title>1011&#45;&gt;1016</title>\n<path fill=\"none\" stroke=\"#000000\" d=\"M165.7562,-323.5822C141.3966,-372.3013 72.9156,-509.2634 43.8549,-567.3847\"/>\n<polygon fill=\"#000000\" stroke=\"#000000\" points=\"40.565,-566.1384 39.2233,-576.648 46.826,-569.269 40.565,-566.1384\"/>\n</g>\n<!-- 1018 -->\n<g id=\"node18\" class=\"node\">\n<title>1018</title>\n<ellipse fill=\"none\" stroke=\"#000000\" cx=\"174.5473\" cy=\"-666\" rx=\"30.5947\" ry=\"18\"/>\n<text text-anchor=\"middle\" x=\"174.5473\" y=\"-662.3\" font-family=\"Times,serif\" font-size=\"14.00\" fill=\"#000000\">1018</text>\n</g>\n<!-- 1011&#45;&gt;1018 -->\n<g id=\"edge28\" class=\"edge\">\n<title>1011&#45;&gt;1018</title>\n<path fill=\"none\" stroke=\"#000000\" d=\"M174.5473,-324.3474C174.5473,-382.9664 174.5473,-566.0448 174.5473,-637.2571\"/>\n<polygon fill=\"#000000\" stroke=\"#000000\" points=\"171.0474,-637.6895 174.5473,-647.6896 178.0474,-637.6896 171.0474,-637.6895\"/>\n</g>\n<!-- 1015 -->\n<g id=\"node15\" class=\"node\">\n<title>1015</title>\n<ellipse fill=\"none\" stroke=\"#000000\" cx=\"102.5473\" cy=\"-522\" rx=\"30.5947\" ry=\"18\"/>\n<text text-anchor=\"middle\" x=\"102.5473\" y=\"-518.3\" font-family=\"Times,serif\" font-size=\"14.00\" fill=\"#000000\">1015</text>\n</g>\n<!-- 1012&#45;&gt;1015 -->\n<g id=\"edge22\" class=\"edge\">\n<title>1012&#45;&gt;1015</title>\n<path fill=\"none\" stroke=\"#000000\" d=\"M102.5473,-396.2377C102.5473,-420.799 102.5473,-464.7526 102.5473,-493.646\"/>\n<polygon fill=\"#000000\" stroke=\"#000000\" points=\"99.0474,-493.9104 102.5473,-503.9104 106.0474,-493.9104 99.0474,-493.9104\"/>\n</g>\n<!-- 1013&#45;&gt;1014 -->\n<g id=\"edge19\" class=\"edge\">\n<title>1013&#45;&gt;1014</title>\n<path fill=\"none\" stroke=\"#000000\" d=\"M219.6275,-458.9733C181.1224,-471.8083 110.2136,-495.4446 67.0256,-509.8406\"/>\n<polygon fill=\"#000000\" stroke=\"#000000\" points=\"65.8463,-506.5443 57.4663,-513.027 68.0599,-513.1851 65.8463,-506.5443\"/>\n</g>\n<!-- 1013&#45;&gt;1015 -->\n<g id=\"edge21\" class=\"edge\">\n<title>1013&#45;&gt;1015</title>\n<path fill=\"none\" stroke=\"#000000\" d=\"M223.0907,-461.7283C199.1372,-473.705 161.7662,-492.3905 134.9855,-505.7809\"/>\n<polygon fill=\"#000000\" stroke=\"#000000\" points=\"133.3728,-502.6741 125.9938,-510.2767 136.5034,-508.9351 133.3728,-502.6741\"/>\n</g>\n<!-- 1017 -->\n<g id=\"node17\" class=\"node\">\n<title>1017</title>\n<ellipse fill=\"none\" stroke=\"#000000\" cx=\"246.5473\" cy=\"-594\" rx=\"30.5947\" ry=\"18\"/>\n<text text-anchor=\"middle\" x=\"246.5473\" y=\"-590.3\" font-family=\"Times,serif\" font-size=\"14.00\" fill=\"#000000\">1017</text>\n</g>\n<!-- 1013&#45;&gt;1017 -->\n<g id=\"edge26\" class=\"edge\">\n<title>1013&#45;&gt;1017</title>\n<path fill=\"none\" stroke=\"#000000\" d=\"M246.5473,-468.2377C246.5473,-492.799 246.5473,-536.7526 246.5473,-565.646\"/>\n<polygon fill=\"#000000\" stroke=\"#000000\" points=\"243.0474,-565.9104 246.5473,-575.9104 250.0474,-565.9104 243.0474,-565.9104\"/>\n</g>\n<!-- 1014&#45;&gt;1016 -->\n<g id=\"edge24\" class=\"edge\">\n<title>1014&#45;&gt;1016</title>\n<path fill=\"none\" stroke=\"#000000\" d=\"M30.5473,-540.1686C30.5473,-547.8691 30.5473,-557.0257 30.5473,-565.5834\"/>\n<polygon fill=\"#000000\" stroke=\"#000000\" points=\"27.0474,-565.5867 30.5473,-575.5867 34.0474,-565.5868 27.0474,-565.5867\"/>\n</g>\n<!-- 1015&#45;&gt;1017 -->\n<g id=\"edge25\" class=\"edge\">\n<title>1015&#45;&gt;1017</title>\n<path fill=\"none\" stroke=\"#000000\" d=\"M126.0039,-533.7283C149.9573,-545.705 187.3284,-564.3905 214.1091,-577.7809\"/>\n<polygon fill=\"#000000\" stroke=\"#000000\" points=\"212.5912,-580.935 223.1008,-582.2767 215.7217,-574.6741 212.5912,-580.935\"/>\n</g>\n<!-- 1019 -->\n<g id=\"node19\" class=\"node\">\n<title>1019</title>\n<ellipse fill=\"none\" stroke=\"#000000\" cx=\"30.5473\" cy=\"-666\" rx=\"30.5947\" ry=\"18\"/>\n<text text-anchor=\"middle\" x=\"30.5473\" y=\"-662.3\" font-family=\"Times,serif\" font-size=\"14.00\" fill=\"#000000\">1019</text>\n</g>\n<!-- 1015&#45;&gt;1019 -->\n<g id=\"edge29\" class=\"edge\">\n<title>1015&#45;&gt;1019</title>\n<path fill=\"none\" stroke=\"#000000\" d=\"M93.8624,-539.3698C81.4292,-564.2362 58.4509,-610.1928 43.8617,-639.3713\"/>\n<polygon fill=\"#000000\" stroke=\"#000000\" points=\"40.6047,-638.0591 39.263,-648.5686 46.8657,-641.1896 40.6047,-638.0591\"/>\n</g>\n<!-- 1021 -->\n<g id=\"node21\" class=\"node\">\n<title>1021</title>\n<ellipse fill=\"none\" stroke=\"#000000\" cx=\"102.5473\" cy=\"-738\" rx=\"30.5947\" ry=\"18\"/>\n<text text-anchor=\"middle\" x=\"102.5473\" y=\"-734.3\" font-family=\"Times,serif\" font-size=\"14.00\" fill=\"#000000\">1021</text>\n</g>\n<!-- 1015&#45;&gt;1021 -->\n<g id=\"edge34\" class=\"edge\">\n<title>1015&#45;&gt;1021</title>\n<path fill=\"none\" stroke=\"#000000\" d=\"M102.5473,-540.0445C102.5473,-577.6062 102.5473,-664.4459 102.5473,-709.5897\"/>\n<polygon fill=\"#000000\" stroke=\"#000000\" points=\"99.0474,-709.8549 102.5473,-719.8549 106.0474,-709.855 99.0474,-709.8549\"/>\n</g>\n<!-- 1016&#45;&gt;1018 -->\n<g id=\"edge27\" class=\"edge\">\n<title>1016&#45;&gt;1018</title>\n<path fill=\"none\" stroke=\"#000000\" d=\"M54.0039,-605.7283C77.9573,-617.705 115.3284,-636.3905 142.1091,-649.7809\"/>\n<polygon fill=\"#000000\" stroke=\"#000000\" points=\"140.5912,-652.935 151.1008,-654.2767 143.7217,-646.6741 140.5912,-652.935\"/>\n</g>\n<!-- 1016&#45;&gt;1019 -->\n<g id=\"edge30\" class=\"edge\">\n<title>1016&#45;&gt;1019</title>\n<path fill=\"none\" stroke=\"#000000\" d=\"M30.5473,-612.1686C30.5473,-619.8691 30.5473,-629.0257 30.5473,-637.5834\"/>\n<polygon fill=\"#000000\" stroke=\"#000000\" points=\"27.0474,-637.5867 30.5473,-647.5867 34.0474,-637.5868 27.0474,-637.5867\"/>\n</g>\n<!-- 1020 -->\n<g id=\"node20\" class=\"node\">\n<title>1020</title>\n<ellipse fill=\"none\" stroke=\"#000000\" cx=\"246.5473\" cy=\"-738\" rx=\"30.5947\" ry=\"18\"/>\n<text text-anchor=\"middle\" x=\"246.5473\" y=\"-734.3\" font-family=\"Times,serif\" font-size=\"14.00\" fill=\"#000000\">1020</text>\n</g>\n<!-- 1017&#45;&gt;1020 -->\n<g id=\"edge32\" class=\"edge\">\n<title>1017&#45;&gt;1020</title>\n<path fill=\"none\" stroke=\"#000000\" d=\"M246.5473,-612.2377C246.5473,-636.799 246.5473,-680.7526 246.5473,-709.646\"/>\n<polygon fill=\"#000000\" stroke=\"#000000\" points=\"243.0474,-709.9104 246.5473,-719.9104 250.0474,-709.9104 243.0474,-709.9104\"/>\n</g>\n<!-- 1026 -->\n<g id=\"node26\" class=\"node\">\n<title>1026</title>\n<ellipse fill=\"none\" stroke=\"#000000\" cx=\"246.5473\" cy=\"-954\" rx=\"30.5947\" ry=\"18\"/>\n<text text-anchor=\"middle\" x=\"246.5473\" y=\"-950.3\" font-family=\"Times,serif\" font-size=\"14.00\" fill=\"#000000\">1026</text>\n</g>\n<!-- 1018&#45;&gt;1026 -->\n<g id=\"edge43\" class=\"edge\">\n<title>1018&#45;&gt;1026</title>\n<path fill=\"none\" stroke=\"#000000\" d=\"M179.0512,-684.0157C191.2238,-732.7061 224.8483,-867.2039 239.533,-925.9427\"/>\n<polygon fill=\"#000000\" stroke=\"#000000\" points=\"236.2241,-927.1386 242.0451,-935.9911 243.0151,-925.4408 236.2241,-927.1386\"/>\n</g>\n<!-- 1027 -->\n<g id=\"node27\" class=\"node\">\n<title>1027</title>\n<ellipse fill=\"none\" stroke=\"#000000\" cx=\"174.5473\" cy=\"-1026\" rx=\"30.5947\" ry=\"18\"/>\n<text text-anchor=\"middle\" x=\"174.5473\" y=\"-1022.3\" font-family=\"Times,serif\" font-size=\"14.00\" fill=\"#000000\">1027</text>\n</g>\n<!-- 1018&#45;&gt;1027 -->\n<g id=\"edge46\" class=\"edge\">\n<title>1018&#45;&gt;1027</title>\n<path fill=\"none\" stroke=\"#000000\" d=\"M174.5473,-684.3474C174.5473,-742.9664 174.5473,-926.0448 174.5473,-997.2571\"/>\n<polygon fill=\"#000000\" stroke=\"#000000\" points=\"171.0474,-997.6895 174.5473,-1007.6896 178.0474,-997.6896 171.0474,-997.6895\"/>\n</g>\n<!-- 1019&#45;&gt;1020 -->\n<g id=\"edge31\" class=\"edge\">\n<title>1019&#45;&gt;1020</title>\n<path fill=\"none\" stroke=\"#000000\" d=\"M57.4671,-674.9733C95.9722,-687.8083 166.881,-711.4446 210.069,-725.8406\"/>\n<polygon fill=\"#000000\" stroke=\"#000000\" points=\"209.0347,-729.1851 219.6283,-729.027 211.2483,-722.5443 209.0347,-729.1851\"/>\n</g>\n<!-- 1019&#45;&gt;1021 -->\n<g id=\"edge33\" class=\"edge\">\n<title>1019&#45;&gt;1021</title>\n<path fill=\"none\" stroke=\"#000000\" d=\"M46.1702,-681.6229C55.9826,-691.4353 68.8066,-704.2593 79.7442,-715.1969\"/>\n<polygon fill=\"#000000\" stroke=\"#000000\" points=\"77.4089,-717.8114 86.9548,-722.4076 82.3586,-712.8616 77.4089,-717.8114\"/>\n</g>\n<!-- 1023 -->\n<g id=\"node23\" class=\"node\">\n<title>1023</title>\n<ellipse fill=\"none\" stroke=\"#000000\" cx=\"30.5473\" cy=\"-882\" rx=\"30.5947\" ry=\"18\"/>\n<text text-anchor=\"middle\" x=\"30.5473\" y=\"-878.3\" font-family=\"Times,serif\" font-size=\"14.00\" fill=\"#000000\">1023</text>\n</g>\n<!-- 1019&#45;&gt;1023 -->\n<g id=\"edge38\" class=\"edge\">\n<title>1019&#45;&gt;1023</title>\n<path fill=\"none\" stroke=\"#000000\" d=\"M30.5473,-684.0445C30.5473,-721.6062 30.5473,-808.4459 30.5473,-853.5897\"/>\n<polygon fill=\"#000000\" stroke=\"#000000\" points=\"27.0474,-853.8549 30.5473,-863.8549 34.0474,-853.855 27.0474,-853.8549\"/>\n</g>\n<!-- 1022 -->\n<g id=\"node22\" class=\"node\">\n<title>1022</title>\n<ellipse fill=\"none\" stroke=\"#000000\" cx=\"102.5473\" cy=\"-810\" rx=\"30.5947\" ry=\"18\"/>\n<text text-anchor=\"middle\" x=\"102.5473\" y=\"-806.3\" font-family=\"Times,serif\" font-size=\"14.00\" fill=\"#000000\">1022</text>\n</g>\n<!-- 1020&#45;&gt;1022 -->\n<g id=\"edge35\" class=\"edge\">\n<title>1020&#45;&gt;1022</title>\n<path fill=\"none\" stroke=\"#000000\" d=\"M223.0907,-749.7283C199.1372,-761.705 161.7662,-780.3905 134.9855,-793.7809\"/>\n<polygon fill=\"#000000\" stroke=\"#000000\" points=\"133.3728,-790.6741 125.9938,-798.2767 136.5034,-796.9351 133.3728,-790.6741\"/>\n</g>\n<!-- 1024 -->\n<g id=\"node24\" class=\"node\">\n<title>1024</title>\n<ellipse fill=\"none\" stroke=\"#000000\" cx=\"246.5473\" cy=\"-882\" rx=\"30.5947\" ry=\"18\"/>\n<text text-anchor=\"middle\" x=\"246.5473\" y=\"-878.3\" font-family=\"Times,serif\" font-size=\"14.00\" fill=\"#000000\">1024</text>\n</g>\n<!-- 1020&#45;&gt;1024 -->\n<g id=\"edge40\" class=\"edge\">\n<title>1020&#45;&gt;1024</title>\n<path fill=\"none\" stroke=\"#000000\" d=\"M246.5473,-756.2377C246.5473,-780.799 246.5473,-824.7526 246.5473,-853.646\"/>\n<polygon fill=\"#000000\" stroke=\"#000000\" points=\"243.0474,-853.9104 246.5473,-863.9104 250.0474,-853.9104 243.0474,-853.9104\"/>\n</g>\n<!-- 1021&#45;&gt;1022 -->\n<g id=\"edge36\" class=\"edge\">\n<title>1021&#45;&gt;1022</title>\n<path fill=\"none\" stroke=\"#000000\" d=\"M102.5473,-756.1687C102.5473,-763.8691 102.5473,-773.0257 102.5473,-781.5834\"/>\n<polygon fill=\"#000000\" stroke=\"#000000\" points=\"99.0474,-781.5867 102.5473,-791.5867 106.0474,-781.5868 99.0474,-781.5867\"/>\n</g>\n<!-- 1022&#45;&gt;1023 -->\n<g id=\"edge37\" class=\"edge\">\n<title>1022&#45;&gt;1023</title>\n<path fill=\"none\" stroke=\"#000000\" d=\"M86.9244,-825.6229C77.112,-835.4354 64.288,-848.2593 53.3504,-859.1969\"/>\n<polygon fill=\"#000000\" stroke=\"#000000\" points=\"50.7359,-856.8616 46.1397,-866.4076 55.6857,-861.8114 50.7359,-856.8616\"/>\n</g>\n<!-- 1022&#45;&gt;1024 -->\n<g id=\"edge39\" class=\"edge\">\n<title>1022&#45;&gt;1024</title>\n<path fill=\"none\" stroke=\"#000000\" d=\"M126.0039,-821.7283C149.9573,-833.705 187.3284,-852.3905 214.1091,-865.7809\"/>\n<polygon fill=\"#000000\" stroke=\"#000000\" points=\"212.5912,-868.9351 223.1008,-870.2767 215.7217,-862.6741 212.5912,-868.9351\"/>\n</g>\n<!-- 1025 -->\n<g id=\"node25\" class=\"node\">\n<title>1025</title>\n<ellipse fill=\"none\" stroke=\"#000000\" cx=\"102.5473\" cy=\"-954\" rx=\"30.5947\" ry=\"18\"/>\n<text text-anchor=\"middle\" x=\"102.5473\" y=\"-950.3\" font-family=\"Times,serif\" font-size=\"14.00\" fill=\"#000000\">1025</text>\n</g>\n<!-- 1022&#45;&gt;1025 -->\n<g id=\"edge42\" class=\"edge\">\n<title>1022&#45;&gt;1025</title>\n<path fill=\"none\" stroke=\"#000000\" d=\"M102.5473,-828.2377C102.5473,-852.799 102.5473,-896.7526 102.5473,-925.646\"/>\n<polygon fill=\"#000000\" stroke=\"#000000\" points=\"99.0474,-925.9104 102.5473,-935.9104 106.0474,-925.9104 99.0474,-925.9104\"/>\n</g>\n<!-- 1023&#45;&gt;1025 -->\n<g id=\"edge41\" class=\"edge\">\n<title>1023&#45;&gt;1025</title>\n<path fill=\"none\" stroke=\"#000000\" d=\"M46.1702,-897.6229C55.9826,-907.4353 68.8066,-920.2593 79.7442,-931.1969\"/>\n<polygon fill=\"#000000\" stroke=\"#000000\" points=\"77.4089,-933.8114 86.9548,-938.4076 82.3586,-928.8616 77.4089,-933.8114\"/>\n</g>\n<!-- 1028 -->\n<g id=\"node28\" class=\"node\">\n<title>1028</title>\n<ellipse fill=\"none\" stroke=\"#000000\" cx=\"102.5473\" cy=\"-1026\" rx=\"30.5947\" ry=\"18\"/>\n<text text-anchor=\"middle\" x=\"102.5473\" y=\"-1022.3\" font-family=\"Times,serif\" font-size=\"14.00\" fill=\"#000000\">1028</text>\n</g>\n<!-- 1023&#45;&gt;1028 -->\n<g id=\"edge47\" class=\"edge\">\n<title>1023&#45;&gt;1028</title>\n<path fill=\"none\" stroke=\"#000000\" d=\"M39.2322,-899.3698C51.6654,-924.2362 74.6437,-970.1928 89.2329,-999.3712\"/>\n<polygon fill=\"#000000\" stroke=\"#000000\" points=\"86.2289,-1001.1896 93.8316,-1008.5686 92.4899,-998.0591 86.2289,-1001.1896\"/>\n</g>\n<!-- 1029 -->\n<g id=\"node29\" class=\"node\">\n<title>1029</title>\n<ellipse fill=\"none\" stroke=\"#000000\" cx=\"30.5473\" cy=\"-1098\" rx=\"30.5947\" ry=\"18\"/>\n<text text-anchor=\"middle\" x=\"30.5473\" y=\"-1094.3\" font-family=\"Times,serif\" font-size=\"14.00\" fill=\"#000000\">1029</text>\n</g>\n<!-- 1023&#45;&gt;1029 -->\n<g id=\"edge50\" class=\"edge\">\n<title>1023&#45;&gt;1029</title>\n<path fill=\"none\" stroke=\"#000000\" d=\"M30.5473,-900.0445C30.5473,-937.6062 30.5473,-1024.4459 30.5473,-1069.5897\"/>\n<polygon fill=\"#000000\" stroke=\"#000000\" points=\"27.0474,-1069.8549 30.5473,-1079.8549 34.0474,-1069.855 27.0474,-1069.8549\"/>\n</g>\n<!-- 1024&#45;&gt;1026 -->\n<g id=\"edge44\" class=\"edge\">\n<title>1024&#45;&gt;1026</title>\n<path fill=\"none\" stroke=\"#000000\" d=\"M246.5473,-900.1687C246.5473,-907.8691 246.5473,-917.0257 246.5473,-925.5834\"/>\n<polygon fill=\"#000000\" stroke=\"#000000\" points=\"243.0474,-925.5867 246.5473,-935.5867 250.0474,-925.5868 243.0474,-925.5867\"/>\n</g>\n<!-- 1025&#45;&gt;1028 -->\n<g id=\"edge48\" class=\"edge\">\n<title>1025&#45;&gt;1028</title>\n<path fill=\"none\" stroke=\"#000000\" d=\"M102.5473,-972.1686C102.5473,-979.869 102.5473,-989.0257 102.5473,-997.5834\"/>\n<polygon fill=\"#000000\" stroke=\"#000000\" points=\"99.0474,-997.5867 102.5473,-1007.5867 106.0474,-997.5868 99.0474,-997.5867\"/>\n</g>\n<!-- 1026&#45;&gt;1027 -->\n<g id=\"edge45\" class=\"edge\">\n<title>1026&#45;&gt;1027</title>\n<path fill=\"none\" stroke=\"#000000\" d=\"M230.9244,-969.6229C221.112,-979.4353 208.288,-992.2593 197.3504,-1003.1969\"/>\n<polygon fill=\"#000000\" stroke=\"#000000\" points=\"194.7359,-1000.8616 190.1397,-1010.4076 199.6857,-1005.8113 194.7359,-1000.8616\"/>\n</g>\n<!-- 1030 -->\n<g id=\"node30\" class=\"node\">\n<title>1030</title>\n<ellipse fill=\"none\" stroke=\"#000000\" cx=\"102.5473\" cy=\"-1098\" rx=\"30.5947\" ry=\"18\"/>\n<text text-anchor=\"middle\" x=\"102.5473\" y=\"-1094.3\" font-family=\"Times,serif\" font-size=\"14.00\" fill=\"#000000\">1030</text>\n</g>\n<!-- 1026&#45;&gt;1030 -->\n<g id=\"edge51\" class=\"edge\">\n<title>1026&#45;&gt;1030</title>\n<path fill=\"none\" stroke=\"#000000\" d=\"M230.8626,-969.6846C205.4352,-995.1121 155.0945,-1045.4528 125.5904,-1074.9569\"/>\n<polygon fill=\"#000000\" stroke=\"#000000\" points=\"122.8088,-1072.7887 118.2126,-1082.3347 127.7586,-1077.7385 122.8088,-1072.7887\"/>\n</g>\n<!-- 1033 -->\n<g id=\"node33\" class=\"node\">\n<title>1033</title>\n<ellipse fill=\"none\" stroke=\"#000000\" cx=\"246.5473\" cy=\"-1242\" rx=\"30.5947\" ry=\"18\"/>\n<text text-anchor=\"middle\" x=\"246.5473\" y=\"-1238.3\" font-family=\"Times,serif\" font-size=\"14.00\" fill=\"#000000\">1033</text>\n</g>\n<!-- 1026&#45;&gt;1033 -->\n<g id=\"edge58\" class=\"edge\">\n<title>1026&#45;&gt;1033</title>\n<path fill=\"none\" stroke=\"#000000\" d=\"M246.5473,-972.0157C246.5473,-1020.7061 246.5473,-1155.2039 246.5473,-1213.9427\"/>\n<polygon fill=\"#000000\" stroke=\"#000000\" points=\"243.0474,-1213.9911 246.5473,-1223.9911 250.0474,-1213.9912 243.0474,-1213.9911\"/>\n</g>\n<!-- 1034 -->\n<g id=\"node34\" class=\"node\">\n<title>1034</title>\n<ellipse fill=\"none\" stroke=\"#000000\" cx=\"246.5473\" cy=\"-1314\" rx=\"30.5947\" ry=\"18\"/>\n<text text-anchor=\"middle\" x=\"246.5473\" y=\"-1310.3\" font-family=\"Times,serif\" font-size=\"14.00\" fill=\"#000000\">1034</text>\n</g>\n<!-- 1027&#45;&gt;1034 -->\n<g id=\"edge59\" class=\"edge\">\n<title>1027&#45;&gt;1034</title>\n<path fill=\"none\" stroke=\"#000000\" d=\"M179.0512,-1044.0157C191.2238,-1092.7061 224.8483,-1227.2039 239.533,-1285.9427\"/>\n<polygon fill=\"#000000\" stroke=\"#000000\" points=\"236.2241,-1287.1386 242.0451,-1295.9911 243.0151,-1285.4408 236.2241,-1287.1386\"/>\n</g>\n<!-- 1028&#45;&gt;1029 -->\n<g id=\"edge49\" class=\"edge\">\n<title>1028&#45;&gt;1029</title>\n<path fill=\"none\" stroke=\"#000000\" d=\"M86.9244,-1041.6229C77.112,-1051.4353 64.288,-1064.2593 53.3504,-1075.1969\"/>\n<polygon fill=\"#000000\" stroke=\"#000000\" points=\"50.7359,-1072.8616 46.1397,-1082.4076 55.6857,-1077.8113 50.7359,-1072.8616\"/>\n</g>\n<!-- 1028&#45;&gt;1030 -->\n<g id=\"edge52\" class=\"edge\">\n<title>1028&#45;&gt;1030</title>\n<path fill=\"none\" stroke=\"#000000\" d=\"M102.5473,-1044.1686C102.5473,-1051.869 102.5473,-1061.0257 102.5473,-1069.5834\"/>\n<polygon fill=\"#000000\" stroke=\"#000000\" points=\"99.0474,-1069.5867 102.5473,-1079.5867 106.0474,-1069.5868 99.0474,-1069.5867\"/>\n</g>\n<!-- 1031 -->\n<g id=\"node31\" class=\"node\">\n<title>1031</title>\n<ellipse fill=\"none\" stroke=\"#000000\" cx=\"30.5473\" cy=\"-1170\" rx=\"30.5947\" ry=\"18\"/>\n<text text-anchor=\"middle\" x=\"30.5473\" y=\"-1166.3\" font-family=\"Times,serif\" font-size=\"14.00\" fill=\"#000000\">1031</text>\n</g>\n<!-- 1029&#45;&gt;1031 -->\n<g id=\"edge54\" class=\"edge\">\n<title>1029&#45;&gt;1031</title>\n<path fill=\"none\" stroke=\"#000000\" d=\"M30.5473,-1116.1686C30.5473,-1123.869 30.5473,-1133.0257 30.5473,-1141.5834\"/>\n<polygon fill=\"#000000\" stroke=\"#000000\" points=\"27.0474,-1141.5867 30.5473,-1151.5867 34.0474,-1141.5868 27.0474,-1141.5867\"/>\n</g>\n<!-- 1030&#45;&gt;1031 -->\n<g id=\"edge53\" class=\"edge\">\n<title>1030&#45;&gt;1031</title>\n<path fill=\"none\" stroke=\"#000000\" d=\"M86.9244,-1113.6229C77.112,-1123.4353 64.288,-1136.2593 53.3504,-1147.1969\"/>\n<polygon fill=\"#000000\" stroke=\"#000000\" points=\"50.7359,-1144.8616 46.1397,-1154.4076 55.6857,-1149.8113 50.7359,-1144.8616\"/>\n</g>\n<!-- 1032 -->\n<g id=\"node32\" class=\"node\">\n<title>1032</title>\n<ellipse fill=\"none\" stroke=\"#000000\" cx=\"102.5473\" cy=\"-1242\" rx=\"30.5947\" ry=\"18\"/>\n<text text-anchor=\"middle\" x=\"102.5473\" y=\"-1238.3\" font-family=\"Times,serif\" font-size=\"14.00\" fill=\"#000000\">1032</text>\n</g>\n<!-- 1030&#45;&gt;1032 -->\n<g id=\"edge56\" class=\"edge\">\n<title>1030&#45;&gt;1032</title>\n<path fill=\"none\" stroke=\"#000000\" d=\"M102.5473,-1116.2377C102.5473,-1140.799 102.5473,-1184.7526 102.5473,-1213.6459\"/>\n<polygon fill=\"#000000\" stroke=\"#000000\" points=\"99.0474,-1213.9103 102.5473,-1223.9104 106.0474,-1213.9104 99.0474,-1213.9103\"/>\n</g>\n<!-- 1030&#45;&gt;1033 -->\n<g id=\"edge57\" class=\"edge\">\n<title>1030&#45;&gt;1033</title>\n<path fill=\"none\" stroke=\"#000000\" d=\"M118.2319,-1113.6846C143.6594,-1139.1121 194.0001,-1189.4528 223.5042,-1218.9569\"/>\n<polygon fill=\"#000000\" stroke=\"#000000\" points=\"221.336,-1221.7385 230.882,-1226.3347 226.2858,-1216.7887 221.336,-1221.7385\"/>\n</g>\n<!-- 1031&#45;&gt;1032 -->\n<g id=\"edge55\" class=\"edge\">\n<title>1031&#45;&gt;1032</title>\n<path fill=\"none\" stroke=\"#000000\" d=\"M46.1702,-1185.6229C55.9826,-1195.4353 68.8066,-1208.2593 79.7442,-1219.1969\"/>\n<polygon fill=\"#000000\" stroke=\"#000000\" points=\"77.4089,-1221.8113 86.9548,-1226.4076 82.3586,-1216.8616 77.4089,-1221.8113\"/>\n</g>\n<!-- 1035 -->\n<g id=\"node35\" class=\"node\">\n<title>1035</title>\n<ellipse fill=\"none\" stroke=\"#000000\" cx=\"102.5473\" cy=\"-1386\" rx=\"30.5947\" ry=\"18\"/>\n<text text-anchor=\"middle\" x=\"102.5473\" y=\"-1382.3\" font-family=\"Times,serif\" font-size=\"14.00\" fill=\"#000000\">1035</text>\n</g>\n<!-- 1032&#45;&gt;1035 -->\n<g id=\"edge62\" class=\"edge\">\n<title>1032&#45;&gt;1035</title>\n<path fill=\"none\" stroke=\"#000000\" d=\"M102.5473,-1260.2377C102.5473,-1284.799 102.5473,-1328.7526 102.5473,-1357.6459\"/>\n<polygon fill=\"#000000\" stroke=\"#000000\" points=\"99.0474,-1357.9103 102.5473,-1367.9104 106.0474,-1357.9104 99.0474,-1357.9103\"/>\n</g>\n<!-- 1033&#45;&gt;1034 -->\n<g id=\"edge60\" class=\"edge\">\n<title>1033&#45;&gt;1034</title>\n<path fill=\"none\" stroke=\"#000000\" d=\"M246.5473,-1260.1686C246.5473,-1267.869 246.5473,-1277.0257 246.5473,-1285.5834\"/>\n<polygon fill=\"#000000\" stroke=\"#000000\" points=\"243.0474,-1285.5867 246.5473,-1295.5867 250.0474,-1285.5868 243.0474,-1285.5867\"/>\n</g>\n<!-- 1034&#45;&gt;1035 -->\n<g id=\"edge61\" class=\"edge\">\n<title>1034&#45;&gt;1035</title>\n<path fill=\"none\" stroke=\"#000000\" d=\"M223.0907,-1325.7283C199.1372,-1337.705 161.7662,-1356.3905 134.9855,-1369.7809\"/>\n<polygon fill=\"#000000\" stroke=\"#000000\" points=\"133.3728,-1366.674 125.9938,-1374.2767 136.5034,-1372.935 133.3728,-1366.674\"/>\n</g>\n</g>\n</svg>\n"
          },
          "metadata": {},
          "execution_count": 36
        }
      ]
    },
    {
      "cell_type": "markdown",
      "source": [
        "The above image shows the input hashgraph. Each event has the event id."
      ],
      "metadata": {
        "id": "UhybXhsMPkJd"
      }
    },
    {
      "cell_type": "code",
      "source": [
        "divide_rounds()"
      ],
      "metadata": {
        "id": "KESbxFkaFNjG"
      },
      "execution_count": null,
      "outputs": []
    },
    {
      "cell_type": "code",
      "source": [
        "from IPython.display import Javascript\n",
        "display(Javascript('''google.colab.output.setIframeHeight(0, true, {maxHeight: 5000})'''))\n",
        "\n",
        "g = graphviz.Digraph('G', filename = \"divide_rounds_output.png\", engine=\"neato\")\n",
        "\n",
        "for event in  events:\n",
        "  if event.witness:\n",
        "    g.node(str(event.event_id), label=f\"{event.event_id}|{event.round}\", pos=f\"{event.node_id*1.5},{event.timestamp}!\", color=\"red\", style=\"filled\")\n",
        "  else:\n",
        "    g.node(str(event.event_id), label=f\"{event.event_id}|{event.round}\", pos=f\"{event.node_id*1.5},{event.timestamp}!\")\n",
        "\n",
        "\n",
        "for event in events:\n",
        "  op = event_id_to_event_obj_map.get(event.parent_event_id)\n",
        "  sp = event_id_to_event_obj_map.get(event.self_parent_event_id)\n",
        "  if op:\n",
        "    g.edge(f\"{op.event_id}\", f\"{event.event_id}\")\n",
        "  if sp:\n",
        "    g.edge(f\"{sp.event_id}\", f\"{event.event_id}\")\n",
        "    \n",
        "    \n",
        "g"
      ],
      "metadata": {
        "colab": {
          "base_uri": "https://localhost:8080/",
          "height": 1903
        },
        "id": "YAgTOOuTFkbt",
        "outputId": "6d2acc7a-8138-4bd8-b8d6-d3da6470164f"
      },
      "execution_count": null,
      "outputs": [
        {
          "output_type": "display_data",
          "data": {
            "text/plain": [
              "<IPython.core.display.Javascript object>"
            ],
            "application/javascript": [
              "google.colab.output.setIframeHeight(0, true, {maxHeight: 5000})"
            ]
          },
          "metadata": {}
        },
        {
          "output_type": "execute_result",
          "data": {
            "text/plain": [
              "<graphviz.dot.Digraph at 0x7fb4d8cec950>"
            ],
            "image/svg+xml": "<?xml version=\"1.0\" encoding=\"UTF-8\" standalone=\"no\"?>\n<!DOCTYPE svg PUBLIC \"-//W3C//DTD SVG 1.1//EN\"\n \"http://www.w3.org/Graphics/SVG/1.1/DTD/svg11.dtd\">\n<!-- Generated by graphviz version 2.40.1 (20161225.0304)\n -->\n<!-- Title: G Pages: 1 -->\n<svg width=\"406pt\" height=\"1412pt\"\n viewBox=\"0.00 0.00 406.09 1412.00\" xmlns=\"http://www.w3.org/2000/svg\" xmlns:xlink=\"http://www.w3.org/1999/xlink\">\n<g id=\"graph0\" class=\"graph\" transform=\"scale(1 1) rotate(0) translate(4 1408)\">\n<title>G</title>\n<polygon fill=\"#ffffff\" stroke=\"transparent\" points=\"-4,4 -4,-1408 402.0934,-1408 402.0934,4 -4,4\"/>\n<!-- 1001 -->\n<g id=\"node1\" class=\"node\">\n<title>1001</title>\n<ellipse fill=\"#ff0000\" stroke=\"#ff0000\" cx=\"37.0467\" cy=\"-18\" rx=\"37.0935\" ry=\"18\"/>\n<text text-anchor=\"middle\" x=\"37.0467\" y=\"-14.3\" font-family=\"Times,serif\" font-size=\"14.00\" fill=\"#000000\">1001|1</text>\n</g>\n<!-- 1009 -->\n<g id=\"node9\" class=\"node\">\n<title>1009</title>\n<ellipse fill=\"none\" stroke=\"#000000\" cx=\"37.0467\" cy=\"-234\" rx=\"37.0935\" ry=\"18\"/>\n<text text-anchor=\"middle\" x=\"37.0467\" y=\"-230.3\" font-family=\"Times,serif\" font-size=\"14.00\" fill=\"#000000\">1009|1</text>\n</g>\n<!-- 1001&#45;&gt;1009 -->\n<g id=\"edge10\" class=\"edge\">\n<title>1001&#45;&gt;1009</title>\n<path fill=\"none\" stroke=\"#000000\" d=\"M37.0467,-36.0445C37.0467,-73.6062 37.0467,-160.4459 37.0467,-205.5897\"/>\n<polygon fill=\"#000000\" stroke=\"#000000\" points=\"33.5468,-205.8549 37.0467,-215.8549 40.5468,-205.855 33.5468,-205.8549\"/>\n</g>\n<!-- 1002 -->\n<g id=\"node2\" class=\"node\">\n<title>1002</title>\n<ellipse fill=\"#ff0000\" stroke=\"#ff0000\" cx=\"145.0467\" cy=\"-18\" rx=\"37.0935\" ry=\"18\"/>\n<text text-anchor=\"middle\" x=\"145.0467\" y=\"-14.3\" font-family=\"Times,serif\" font-size=\"14.00\" fill=\"#000000\">1002|1</text>\n</g>\n<!-- 1005 -->\n<g id=\"node5\" class=\"node\">\n<title>1005</title>\n<ellipse fill=\"none\" stroke=\"#000000\" cx=\"361.0467\" cy=\"-90\" rx=\"37.0935\" ry=\"18\"/>\n<text text-anchor=\"middle\" x=\"361.0467\" y=\"-86.3\" font-family=\"Times,serif\" font-size=\"14.00\" fill=\"#000000\">1005|1</text>\n</g>\n<!-- 1002&#45;&gt;1005 -->\n<g id=\"edge1\" class=\"edge\">\n<title>1002&#45;&gt;1005</title>\n<path fill=\"none\" stroke=\"#000000\" d=\"M175.9942,-28.3158C214.0083,-40.9872 278.5971,-62.5168 320.5329,-76.4954\"/>\n<polygon fill=\"#000000\" stroke=\"#000000\" points=\"319.5629,-79.8613 330.1566,-79.7033 321.7766,-73.2206 319.5629,-79.8613\"/>\n</g>\n<!-- 1006 -->\n<g id=\"node6\" class=\"node\">\n<title>1006</title>\n<ellipse fill=\"none\" stroke=\"#000000\" cx=\"145.0467\" cy=\"-162\" rx=\"37.0935\" ry=\"18\"/>\n<text text-anchor=\"middle\" x=\"145.0467\" y=\"-158.3\" font-family=\"Times,serif\" font-size=\"14.00\" fill=\"#000000\">1006|1</text>\n</g>\n<!-- 1002&#45;&gt;1006 -->\n<g id=\"edge4\" class=\"edge\">\n<title>1002&#45;&gt;1006</title>\n<path fill=\"none\" stroke=\"#000000\" d=\"M145.0467,-36.2377C145.0467,-60.799 145.0467,-104.7526 145.0467,-133.6459\"/>\n<polygon fill=\"#000000\" stroke=\"#000000\" points=\"141.5468,-133.9103 145.0467,-143.9104 148.5468,-133.9104 141.5468,-133.9103\"/>\n</g>\n<!-- 1003 -->\n<g id=\"node3\" class=\"node\">\n<title>1003</title>\n<ellipse fill=\"#ff0000\" stroke=\"#ff0000\" cx=\"253.0467\" cy=\"-18\" rx=\"37.0935\" ry=\"18\"/>\n<text text-anchor=\"middle\" x=\"253.0467\" y=\"-14.3\" font-family=\"Times,serif\" font-size=\"14.00\" fill=\"#000000\">1003|1</text>\n</g>\n<!-- 1008 -->\n<g id=\"node8\" class=\"node\">\n<title>1008</title>\n<ellipse fill=\"none\" stroke=\"#000000\" cx=\"145.0467\" cy=\"-234\" rx=\"37.0935\" ry=\"18\"/>\n<text text-anchor=\"middle\" x=\"145.0467\" y=\"-230.3\" font-family=\"Times,serif\" font-size=\"14.00\" fill=\"#000000\">1008|1</text>\n</g>\n<!-- 1003&#45;&gt;1008 -->\n<g id=\"edge7\" class=\"edge\">\n<title>1003&#45;&gt;1008</title>\n<path fill=\"none\" stroke=\"#000000\" d=\"M244.2086,-35.6762C225.2941,-73.5052 180.7971,-162.4993 158.408,-207.2775\"/>\n<polygon fill=\"#000000\" stroke=\"#000000\" points=\"155.1972,-205.873 153.8555,-216.3825 161.4581,-209.0035 155.1972,-205.873\"/>\n</g>\n<!-- 1011 -->\n<g id=\"node11\" class=\"node\">\n<title>1011</title>\n<ellipse fill=\"none\" stroke=\"#000000\" cx=\"253.0467\" cy=\"-306\" rx=\"36.2938\" ry=\"18\"/>\n<text text-anchor=\"middle\" x=\"253.0467\" y=\"-302.3\" font-family=\"Times,serif\" font-size=\"14.00\" fill=\"#000000\">1011|1</text>\n</g>\n<!-- 1003&#45;&gt;1011 -->\n<g id=\"edge14\" class=\"edge\">\n<title>1003&#45;&gt;1011</title>\n<path fill=\"none\" stroke=\"#000000\" d=\"M253.0467,-36.0157C253.0467,-84.7061 253.0467,-219.2039 253.0467,-277.9427\"/>\n<polygon fill=\"#000000\" stroke=\"#000000\" points=\"249.5468,-277.9911 253.0467,-287.9911 256.5468,-277.9912 249.5468,-277.9911\"/>\n</g>\n<!-- 1004 -->\n<g id=\"node4\" class=\"node\">\n<title>1004</title>\n<ellipse fill=\"#ff0000\" stroke=\"#ff0000\" cx=\"361.0467\" cy=\"-18\" rx=\"37.0935\" ry=\"18\"/>\n<text text-anchor=\"middle\" x=\"361.0467\" y=\"-14.3\" font-family=\"Times,serif\" font-size=\"14.00\" fill=\"#000000\">1004|1</text>\n</g>\n<!-- 1004&#45;&gt;1005 -->\n<g id=\"edge2\" class=\"edge\">\n<title>1004&#45;&gt;1005</title>\n<path fill=\"none\" stroke=\"#000000\" d=\"M361.0467,-36.1686C361.0467,-43.869 361.0467,-53.0257 361.0467,-61.5834\"/>\n<polygon fill=\"#000000\" stroke=\"#000000\" points=\"357.5468,-61.5867 361.0467,-71.5867 364.5468,-61.5868 357.5468,-61.5867\"/>\n</g>\n<!-- 1005&#45;&gt;1006 -->\n<g id=\"edge3\" class=\"edge\">\n<title>1005&#45;&gt;1006</title>\n<path fill=\"none\" stroke=\"#000000\" d=\"M330.0992,-100.3158C292.0851,-112.9872 227.4963,-134.5168 185.5605,-148.4954\"/>\n<polygon fill=\"#000000\" stroke=\"#000000\" points=\"184.3169,-145.2206 175.9368,-151.7033 186.5305,-151.8613 184.3169,-145.2206\"/>\n</g>\n<!-- 1007 -->\n<g id=\"node7\" class=\"node\">\n<title>1007</title>\n<ellipse fill=\"none\" stroke=\"#000000\" cx=\"361.0467\" cy=\"-234\" rx=\"37.0935\" ry=\"18\"/>\n<text text-anchor=\"middle\" x=\"361.0467\" y=\"-230.3\" font-family=\"Times,serif\" font-size=\"14.00\" fill=\"#000000\">1007|1</text>\n</g>\n<!-- 1005&#45;&gt;1007 -->\n<g id=\"edge6\" class=\"edge\">\n<title>1005&#45;&gt;1007</title>\n<path fill=\"none\" stroke=\"#000000\" d=\"M361.0467,-108.2377C361.0467,-132.799 361.0467,-176.7526 361.0467,-205.6459\"/>\n<polygon fill=\"#000000\" stroke=\"#000000\" points=\"357.5468,-205.9103 361.0467,-215.9104 364.5468,-205.9104 357.5468,-205.9103\"/>\n</g>\n<!-- 1006&#45;&gt;1007 -->\n<g id=\"edge5\" class=\"edge\">\n<title>1006&#45;&gt;1007</title>\n<path fill=\"none\" stroke=\"#000000\" d=\"M175.9942,-172.3158C214.0083,-184.9872 278.5971,-206.5168 320.5329,-220.4954\"/>\n<polygon fill=\"#000000\" stroke=\"#000000\" points=\"319.5629,-223.8613 330.1566,-223.7033 321.7766,-217.2206 319.5629,-223.8613\"/>\n</g>\n<!-- 1006&#45;&gt;1008 -->\n<g id=\"edge8\" class=\"edge\">\n<title>1006&#45;&gt;1008</title>\n<path fill=\"none\" stroke=\"#000000\" d=\"M145.0467,-180.1686C145.0467,-187.869 145.0467,-197.0257 145.0467,-205.5834\"/>\n<polygon fill=\"#000000\" stroke=\"#000000\" points=\"141.5468,-205.5867 145.0467,-215.5867 148.5468,-205.5868 141.5468,-205.5867\"/>\n</g>\n<!-- 1006&#45;&gt;1009 -->\n<g id=\"edge9\" class=\"edge\">\n<title>1006&#45;&gt;1009</title>\n<path fill=\"none\" stroke=\"#000000\" d=\"M123.1913,-176.5703C107.0888,-187.3053 84.9905,-202.0375 67.2076,-213.8928\"/>\n<polygon fill=\"#000000\" stroke=\"#000000\" points=\"65.2487,-210.9922 58.8696,-219.4514 69.1316,-216.8165 65.2487,-210.9922\"/>\n</g>\n<!-- 1010 -->\n<g id=\"node10\" class=\"node\">\n<title>1010</title>\n<ellipse fill=\"none\" stroke=\"#000000\" cx=\"361.0467\" cy=\"-306\" rx=\"37.0935\" ry=\"18\"/>\n<text text-anchor=\"middle\" x=\"361.0467\" y=\"-302.3\" font-family=\"Times,serif\" font-size=\"14.00\" fill=\"#000000\">1010|1</text>\n</g>\n<!-- 1007&#45;&gt;1010 -->\n<g id=\"edge12\" class=\"edge\">\n<title>1007&#45;&gt;1010</title>\n<path fill=\"none\" stroke=\"#000000\" d=\"M361.0467,-252.1686C361.0467,-259.869 361.0467,-269.0257 361.0467,-277.5834\"/>\n<polygon fill=\"#000000\" stroke=\"#000000\" points=\"357.5468,-277.5867 361.0467,-287.5867 364.5468,-277.5868 357.5468,-277.5867\"/>\n</g>\n<!-- 1008&#45;&gt;1010 -->\n<g id=\"edge11\" class=\"edge\">\n<title>1008&#45;&gt;1010</title>\n<path fill=\"none\" stroke=\"#000000\" d=\"M175.9942,-244.3158C214.0083,-256.9872 278.5971,-278.5168 320.5329,-292.4954\"/>\n<polygon fill=\"#000000\" stroke=\"#000000\" points=\"319.5629,-295.8613 330.1566,-295.7033 321.7766,-289.2206 319.5629,-295.8613\"/>\n</g>\n<!-- 1008&#45;&gt;1011 -->\n<g id=\"edge13\" class=\"edge\">\n<title>1008&#45;&gt;1011</title>\n<path fill=\"none\" stroke=\"#000000\" d=\"M166.9021,-248.5703C183.0047,-259.3053 205.103,-274.0375 222.8859,-285.8928\"/>\n<polygon fill=\"#000000\" stroke=\"#000000\" points=\"220.9618,-288.8165 231.2238,-291.4514 224.8448,-282.9922 220.9618,-288.8165\"/>\n</g>\n<!-- 1012 -->\n<g id=\"node12\" class=\"node\">\n<title>1012</title>\n<ellipse fill=\"none\" stroke=\"#000000\" cx=\"145.0467\" cy=\"-378\" rx=\"37.0935\" ry=\"18\"/>\n<text text-anchor=\"middle\" x=\"145.0467\" y=\"-374.3\" font-family=\"Times,serif\" font-size=\"14.00\" fill=\"#000000\">1012|1</text>\n</g>\n<!-- 1008&#45;&gt;1012 -->\n<g id=\"edge16\" class=\"edge\">\n<title>1008&#45;&gt;1012</title>\n<path fill=\"none\" stroke=\"#000000\" d=\"M145.0467,-252.2377C145.0467,-276.799 145.0467,-320.7526 145.0467,-349.646\"/>\n<polygon fill=\"#000000\" stroke=\"#000000\" points=\"141.5468,-349.9104 145.0467,-359.9104 148.5468,-349.9104 141.5468,-349.9104\"/>\n</g>\n<!-- 1013 -->\n<g id=\"node13\" class=\"node\">\n<title>1013</title>\n<ellipse fill=\"#ff0000\" stroke=\"#ff0000\" cx=\"361.0467\" cy=\"-450\" rx=\"37.0935\" ry=\"18\"/>\n<text text-anchor=\"middle\" x=\"361.0467\" y=\"-446.3\" font-family=\"Times,serif\" font-size=\"14.00\" fill=\"#000000\">1013|2</text>\n</g>\n<!-- 1009&#45;&gt;1013 -->\n<g id=\"edge17\" class=\"edge\">\n<title>1009&#45;&gt;1013</title>\n<path fill=\"none\" stroke=\"#000000\" d=\"M59.0618,-248.6767C115.5147,-286.312 265.5385,-386.3279 330.4287,-429.588\"/>\n<polygon fill=\"#000000\" stroke=\"#000000\" points=\"328.7393,-432.6682 339.0013,-435.3031 332.6223,-426.8439 328.7393,-432.6682\"/>\n</g>\n<!-- 1014 -->\n<g id=\"node14\" class=\"node\">\n<title>1014</title>\n<ellipse fill=\"#ff0000\" stroke=\"#ff0000\" cx=\"37.0467\" cy=\"-522\" rx=\"37.0935\" ry=\"18\"/>\n<text text-anchor=\"middle\" x=\"37.0467\" y=\"-518.3\" font-family=\"Times,serif\" font-size=\"14.00\" fill=\"#000000\">1014|2</text>\n</g>\n<!-- 1009&#45;&gt;1014 -->\n<g id=\"edge20\" class=\"edge\">\n<title>1009&#45;&gt;1014</title>\n<path fill=\"none\" stroke=\"#000000\" d=\"M37.0467,-252.0157C37.0467,-300.7061 37.0467,-435.2039 37.0467,-493.9427\"/>\n<polygon fill=\"#000000\" stroke=\"#000000\" points=\"33.5468,-493.9911 37.0467,-503.9911 40.5468,-493.9912 33.5468,-493.9911\"/>\n</g>\n<!-- 1010&#45;&gt;1012 -->\n<g id=\"edge15\" class=\"edge\">\n<title>1010&#45;&gt;1012</title>\n<path fill=\"none\" stroke=\"#000000\" d=\"M330.0992,-316.3158C292.0851,-328.9872 227.4963,-350.5168 185.5605,-364.4954\"/>\n<polygon fill=\"#000000\" stroke=\"#000000\" points=\"184.3169,-361.2206 175.9368,-367.7033 186.5305,-367.8614 184.3169,-361.2206\"/>\n</g>\n<!-- 1010&#45;&gt;1013 -->\n<g id=\"edge18\" class=\"edge\">\n<title>1010&#45;&gt;1013</title>\n<path fill=\"none\" stroke=\"#000000\" d=\"M361.0467,-324.2377C361.0467,-348.799 361.0467,-392.7526 361.0467,-421.646\"/>\n<polygon fill=\"#000000\" stroke=\"#000000\" points=\"357.5468,-421.9104 361.0467,-431.9104 364.5468,-421.9104 357.5468,-421.9104\"/>\n</g>\n<!-- 1016 -->\n<g id=\"node16\" class=\"node\">\n<title>1016</title>\n<ellipse fill=\"none\" stroke=\"#000000\" cx=\"37.0467\" cy=\"-594\" rx=\"37.0935\" ry=\"18\"/>\n<text text-anchor=\"middle\" x=\"37.0467\" y=\"-590.3\" font-family=\"Times,serif\" font-size=\"14.00\" fill=\"#000000\">1016|2</text>\n</g>\n<!-- 1011&#45;&gt;1016 -->\n<g id=\"edge23\" class=\"edge\">\n<title>1011&#45;&gt;1016</title>\n<path fill=\"none\" stroke=\"#000000\" d=\"M240.1818,-323.1532C203.64,-371.8756 99.0874,-511.2791 55.9797,-568.756\"/>\n<polygon fill=\"#000000\" stroke=\"#000000\" points=\"53.0443,-566.8366 49.8442,-576.9367 58.6443,-571.0367 53.0443,-566.8366\"/>\n</g>\n<!-- 1018 -->\n<g id=\"node18\" class=\"node\">\n<title>1018</title>\n<ellipse fill=\"#ff0000\" stroke=\"#ff0000\" cx=\"253.0467\" cy=\"-666\" rx=\"37.0935\" ry=\"18\"/>\n<text text-anchor=\"middle\" x=\"253.0467\" y=\"-662.3\" font-family=\"Times,serif\" font-size=\"14.00\" fill=\"#000000\">1018|2</text>\n</g>\n<!-- 1011&#45;&gt;1018 -->\n<g id=\"edge28\" class=\"edge\">\n<title>1011&#45;&gt;1018</title>\n<path fill=\"none\" stroke=\"#000000\" d=\"M253.0467,-324.3474C253.0467,-382.9664 253.0467,-566.0448 253.0467,-637.2571\"/>\n<polygon fill=\"#000000\" stroke=\"#000000\" points=\"249.5468,-637.6895 253.0467,-647.6896 256.5468,-637.6896 249.5468,-637.6895\"/>\n</g>\n<!-- 1015 -->\n<g id=\"node15\" class=\"node\">\n<title>1015</title>\n<ellipse fill=\"#ff0000\" stroke=\"#ff0000\" cx=\"145.0467\" cy=\"-522\" rx=\"37.0935\" ry=\"18\"/>\n<text text-anchor=\"middle\" x=\"145.0467\" y=\"-518.3\" font-family=\"Times,serif\" font-size=\"14.00\" fill=\"#000000\">1015|2</text>\n</g>\n<!-- 1012&#45;&gt;1015 -->\n<g id=\"edge22\" class=\"edge\">\n<title>1012&#45;&gt;1015</title>\n<path fill=\"none\" stroke=\"#000000\" d=\"M145.0467,-396.2377C145.0467,-420.799 145.0467,-464.7526 145.0467,-493.646\"/>\n<polygon fill=\"#000000\" stroke=\"#000000\" points=\"141.5468,-493.9104 145.0467,-503.9104 148.5468,-493.9104 141.5468,-493.9104\"/>\n</g>\n<!-- 1013&#45;&gt;1014 -->\n<g id=\"edge19\" class=\"edge\">\n<title>1013&#45;&gt;1014</title>\n<path fill=\"none\" stroke=\"#000000\" d=\"M327.2899,-457.5015C268.366,-470.5957 146.7847,-497.6138 81.2357,-512.1802\"/>\n<polygon fill=\"#000000\" stroke=\"#000000\" points=\"80.2173,-508.8211 71.2147,-514.4071 81.7359,-515.6544 80.2173,-508.8211\"/>\n</g>\n<!-- 1013&#45;&gt;1015 -->\n<g id=\"edge21\" class=\"edge\">\n<title>1013&#45;&gt;1015</title>\n<path fill=\"none\" stroke=\"#000000\" d=\"M330.0992,-460.3159C292.0851,-472.9872 227.4963,-494.5168 185.5605,-508.4954\"/>\n<polygon fill=\"#000000\" stroke=\"#000000\" points=\"184.3169,-505.2206 175.9368,-511.7033 186.5305,-511.8614 184.3169,-505.2206\"/>\n</g>\n<!-- 1017 -->\n<g id=\"node17\" class=\"node\">\n<title>1017</title>\n<ellipse fill=\"none\" stroke=\"#000000\" cx=\"361.0467\" cy=\"-594\" rx=\"37.0935\" ry=\"18\"/>\n<text text-anchor=\"middle\" x=\"361.0467\" y=\"-590.3\" font-family=\"Times,serif\" font-size=\"14.00\" fill=\"#000000\">1017|2</text>\n</g>\n<!-- 1013&#45;&gt;1017 -->\n<g id=\"edge26\" class=\"edge\">\n<title>1013&#45;&gt;1017</title>\n<path fill=\"none\" stroke=\"#000000\" d=\"M361.0467,-468.2377C361.0467,-492.799 361.0467,-536.7526 361.0467,-565.646\"/>\n<polygon fill=\"#000000\" stroke=\"#000000\" points=\"357.5468,-565.9104 361.0467,-575.9104 364.5468,-565.9104 357.5468,-565.9104\"/>\n</g>\n<!-- 1014&#45;&gt;1016 -->\n<g id=\"edge24\" class=\"edge\">\n<title>1014&#45;&gt;1016</title>\n<path fill=\"none\" stroke=\"#000000\" d=\"M37.0467,-540.1686C37.0467,-547.8691 37.0467,-557.0257 37.0467,-565.5834\"/>\n<polygon fill=\"#000000\" stroke=\"#000000\" points=\"33.5468,-565.5867 37.0467,-575.5867 40.5468,-565.5868 33.5468,-565.5867\"/>\n</g>\n<!-- 1015&#45;&gt;1017 -->\n<g id=\"edge25\" class=\"edge\">\n<title>1015&#45;&gt;1017</title>\n<path fill=\"none\" stroke=\"#000000\" d=\"M175.9942,-532.3159C214.0083,-544.9872 278.5971,-566.5168 320.5329,-580.4954\"/>\n<polygon fill=\"#000000\" stroke=\"#000000\" points=\"319.5629,-583.8613 330.1566,-583.7033 321.7766,-577.2206 319.5629,-583.8613\"/>\n</g>\n<!-- 1019 -->\n<g id=\"node19\" class=\"node\">\n<title>1019</title>\n<ellipse fill=\"none\" stroke=\"#000000\" cx=\"37.0467\" cy=\"-666\" rx=\"37.0935\" ry=\"18\"/>\n<text text-anchor=\"middle\" x=\"37.0467\" y=\"-662.3\" font-family=\"Times,serif\" font-size=\"14.00\" fill=\"#000000\">1019|2</text>\n</g>\n<!-- 1015&#45;&gt;1019 -->\n<g id=\"edge29\" class=\"edge\">\n<title>1015&#45;&gt;1019</title>\n<path fill=\"none\" stroke=\"#000000\" d=\"M132.2336,-539.0842C113.3155,-564.3083 77.7928,-611.6718 55.8992,-640.8634\"/>\n<polygon fill=\"#000000\" stroke=\"#000000\" points=\"53.0432,-638.838 49.8432,-648.9381 58.6432,-643.0381 53.0432,-638.838\"/>\n</g>\n<!-- 1021 -->\n<g id=\"node21\" class=\"node\">\n<title>1021</title>\n<ellipse fill=\"none\" stroke=\"#000000\" cx=\"145.0467\" cy=\"-738\" rx=\"37.0935\" ry=\"18\"/>\n<text text-anchor=\"middle\" x=\"145.0467\" y=\"-734.3\" font-family=\"Times,serif\" font-size=\"14.00\" fill=\"#000000\">1021|2</text>\n</g>\n<!-- 1015&#45;&gt;1021 -->\n<g id=\"edge34\" class=\"edge\">\n<title>1015&#45;&gt;1021</title>\n<path fill=\"none\" stroke=\"#000000\" d=\"M145.0467,-540.0445C145.0467,-577.6062 145.0467,-664.4459 145.0467,-709.5897\"/>\n<polygon fill=\"#000000\" stroke=\"#000000\" points=\"141.5468,-709.8549 145.0467,-719.8549 148.5468,-709.855 141.5468,-709.8549\"/>\n</g>\n<!-- 1016&#45;&gt;1018 -->\n<g id=\"edge27\" class=\"edge\">\n<title>1016&#45;&gt;1018</title>\n<path fill=\"none\" stroke=\"#000000\" d=\"M67.9942,-604.3159C106.0083,-616.9872 170.5971,-638.5168 212.5329,-652.4954\"/>\n<polygon fill=\"#000000\" stroke=\"#000000\" points=\"211.5629,-655.8614 222.1566,-655.7033 213.7766,-649.2206 211.5629,-655.8614\"/>\n</g>\n<!-- 1016&#45;&gt;1019 -->\n<g id=\"edge30\" class=\"edge\">\n<title>1016&#45;&gt;1019</title>\n<path fill=\"none\" stroke=\"#000000\" d=\"M37.0467,-612.1686C37.0467,-619.8691 37.0467,-629.0257 37.0467,-637.5834\"/>\n<polygon fill=\"#000000\" stroke=\"#000000\" points=\"33.5468,-637.5867 37.0467,-647.5867 40.5468,-637.5868 33.5468,-637.5867\"/>\n</g>\n<!-- 1020 -->\n<g id=\"node20\" class=\"node\">\n<title>1020</title>\n<ellipse fill=\"none\" stroke=\"#000000\" cx=\"361.0467\" cy=\"-738\" rx=\"37.0935\" ry=\"18\"/>\n<text text-anchor=\"middle\" x=\"361.0467\" y=\"-734.3\" font-family=\"Times,serif\" font-size=\"14.00\" fill=\"#000000\">1020|2</text>\n</g>\n<!-- 1017&#45;&gt;1020 -->\n<g id=\"edge32\" class=\"edge\">\n<title>1017&#45;&gt;1020</title>\n<path fill=\"none\" stroke=\"#000000\" d=\"M361.0467,-612.2377C361.0467,-636.799 361.0467,-680.7526 361.0467,-709.646\"/>\n<polygon fill=\"#000000\" stroke=\"#000000\" points=\"357.5468,-709.9104 361.0467,-719.9104 364.5468,-709.9104 357.5468,-709.9104\"/>\n</g>\n<!-- 1026 -->\n<g id=\"node26\" class=\"node\">\n<title>1026</title>\n<ellipse fill=\"none\" stroke=\"#000000\" cx=\"361.0467\" cy=\"-954\" rx=\"37.0935\" ry=\"18\"/>\n<text text-anchor=\"middle\" x=\"361.0467\" y=\"-950.3\" font-family=\"Times,serif\" font-size=\"14.00\" fill=\"#000000\">1026|3</text>\n</g>\n<!-- 1018&#45;&gt;1026 -->\n<g id=\"edge43\" class=\"edge\">\n<title>1018&#45;&gt;1026</title>\n<path fill=\"none\" stroke=\"#000000\" d=\"M259.8026,-684.0157C278.0994,-732.8071 328.7076,-867.7623 350.662,-926.3073\"/>\n<polygon fill=\"#000000\" stroke=\"#000000\" points=\"347.5049,-927.8568 354.2934,-935.9911 354.0592,-925.3989 347.5049,-927.8568\"/>\n</g>\n<!-- 1027 -->\n<g id=\"node27\" class=\"node\">\n<title>1027</title>\n<ellipse fill=\"#ff0000\" stroke=\"#ff0000\" cx=\"253.0467\" cy=\"-1026\" rx=\"37.0935\" ry=\"18\"/>\n<text text-anchor=\"middle\" x=\"253.0467\" y=\"-1022.3\" font-family=\"Times,serif\" font-size=\"14.00\" fill=\"#000000\">1027|3</text>\n</g>\n<!-- 1018&#45;&gt;1027 -->\n<g id=\"edge46\" class=\"edge\">\n<title>1018&#45;&gt;1027</title>\n<path fill=\"none\" stroke=\"#000000\" d=\"M253.0467,-684.3474C253.0467,-742.9664 253.0467,-926.0448 253.0467,-997.2571\"/>\n<polygon fill=\"#000000\" stroke=\"#000000\" points=\"249.5468,-997.6895 253.0467,-1007.6896 256.5468,-997.6896 249.5468,-997.6895\"/>\n</g>\n<!-- 1019&#45;&gt;1020 -->\n<g id=\"edge31\" class=\"edge\">\n<title>1019&#45;&gt;1020</title>\n<path fill=\"none\" stroke=\"#000000\" d=\"M70.8035,-673.5015C129.7274,-686.5957 251.3087,-713.6138 316.8577,-728.1802\"/>\n<polygon fill=\"#000000\" stroke=\"#000000\" points=\"316.3575,-731.6544 326.8787,-730.4071 317.8761,-724.8211 316.3575,-731.6544\"/>\n</g>\n<!-- 1019&#45;&gt;1021 -->\n<g id=\"edge33\" class=\"edge\">\n<title>1019&#45;&gt;1021</title>\n<path fill=\"none\" stroke=\"#000000\" d=\"M58.9021,-680.5703C75.0047,-691.3053 97.103,-706.0375 114.8859,-717.8928\"/>\n<polygon fill=\"#000000\" stroke=\"#000000\" points=\"112.9618,-720.8165 123.2238,-723.4514 116.8448,-714.9922 112.9618,-720.8165\"/>\n</g>\n<!-- 1023 -->\n<g id=\"node23\" class=\"node\">\n<title>1023</title>\n<ellipse fill=\"#ff0000\" stroke=\"#ff0000\" cx=\"37.0467\" cy=\"-882\" rx=\"37.0935\" ry=\"18\"/>\n<text text-anchor=\"middle\" x=\"37.0467\" y=\"-878.3\" font-family=\"Times,serif\" font-size=\"14.00\" fill=\"#000000\">1023|3</text>\n</g>\n<!-- 1019&#45;&gt;1023 -->\n<g id=\"edge38\" class=\"edge\">\n<title>1019&#45;&gt;1023</title>\n<path fill=\"none\" stroke=\"#000000\" d=\"M37.0467,-684.0445C37.0467,-721.6062 37.0467,-808.4459 37.0467,-853.5897\"/>\n<polygon fill=\"#000000\" stroke=\"#000000\" points=\"33.5468,-853.8549 37.0467,-863.8549 40.5468,-853.855 33.5468,-853.8549\"/>\n</g>\n<!-- 1022 -->\n<g id=\"node22\" class=\"node\">\n<title>1022</title>\n<ellipse fill=\"#ff0000\" stroke=\"#ff0000\" cx=\"145.0467\" cy=\"-810\" rx=\"37.0935\" ry=\"18\"/>\n<text text-anchor=\"middle\" x=\"145.0467\" y=\"-806.3\" font-family=\"Times,serif\" font-size=\"14.00\" fill=\"#000000\">1022|3</text>\n</g>\n<!-- 1020&#45;&gt;1022 -->\n<g id=\"edge35\" class=\"edge\">\n<title>1020&#45;&gt;1022</title>\n<path fill=\"none\" stroke=\"#000000\" d=\"M330.0992,-748.3159C292.0851,-760.9872 227.4963,-782.5168 185.5605,-796.4954\"/>\n<polygon fill=\"#000000\" stroke=\"#000000\" points=\"184.3169,-793.2206 175.9368,-799.7033 186.5305,-799.8614 184.3169,-793.2206\"/>\n</g>\n<!-- 1024 -->\n<g id=\"node24\" class=\"node\">\n<title>1024</title>\n<ellipse fill=\"#ff0000\" stroke=\"#ff0000\" cx=\"361.0467\" cy=\"-882\" rx=\"37.0935\" ry=\"18\"/>\n<text text-anchor=\"middle\" x=\"361.0467\" y=\"-878.3\" font-family=\"Times,serif\" font-size=\"14.00\" fill=\"#000000\">1024|3</text>\n</g>\n<!-- 1020&#45;&gt;1024 -->\n<g id=\"edge40\" class=\"edge\">\n<title>1020&#45;&gt;1024</title>\n<path fill=\"none\" stroke=\"#000000\" d=\"M361.0467,-756.2377C361.0467,-780.799 361.0467,-824.7526 361.0467,-853.646\"/>\n<polygon fill=\"#000000\" stroke=\"#000000\" points=\"357.5468,-853.9104 361.0467,-863.9104 364.5468,-853.9104 357.5468,-853.9104\"/>\n</g>\n<!-- 1021&#45;&gt;1022 -->\n<g id=\"edge36\" class=\"edge\">\n<title>1021&#45;&gt;1022</title>\n<path fill=\"none\" stroke=\"#000000\" d=\"M145.0467,-756.1687C145.0467,-763.8691 145.0467,-773.0257 145.0467,-781.5834\"/>\n<polygon fill=\"#000000\" stroke=\"#000000\" points=\"141.5468,-781.5867 145.0467,-791.5867 148.5468,-781.5868 141.5468,-781.5867\"/>\n</g>\n<!-- 1022&#45;&gt;1023 -->\n<g id=\"edge37\" class=\"edge\">\n<title>1022&#45;&gt;1023</title>\n<path fill=\"none\" stroke=\"#000000\" d=\"M123.1913,-824.5703C107.0888,-835.3053 84.9905,-850.0375 67.2076,-861.8928\"/>\n<polygon fill=\"#000000\" stroke=\"#000000\" points=\"65.2487,-858.9922 58.8696,-867.4514 69.1316,-864.8165 65.2487,-858.9922\"/>\n</g>\n<!-- 1022&#45;&gt;1024 -->\n<g id=\"edge39\" class=\"edge\">\n<title>1022&#45;&gt;1024</title>\n<path fill=\"none\" stroke=\"#000000\" d=\"M175.9942,-820.3159C214.0083,-832.9872 278.5971,-854.5168 320.5329,-868.4954\"/>\n<polygon fill=\"#000000\" stroke=\"#000000\" points=\"319.5629,-871.8614 330.1566,-871.7033 321.7766,-865.2206 319.5629,-871.8614\"/>\n</g>\n<!-- 1025 -->\n<g id=\"node25\" class=\"node\">\n<title>1025</title>\n<ellipse fill=\"none\" stroke=\"#000000\" cx=\"145.0467\" cy=\"-954\" rx=\"37.0935\" ry=\"18\"/>\n<text text-anchor=\"middle\" x=\"145.0467\" y=\"-950.3\" font-family=\"Times,serif\" font-size=\"14.00\" fill=\"#000000\">1025|3</text>\n</g>\n<!-- 1022&#45;&gt;1025 -->\n<g id=\"edge42\" class=\"edge\">\n<title>1022&#45;&gt;1025</title>\n<path fill=\"none\" stroke=\"#000000\" d=\"M145.0467,-828.2377C145.0467,-852.799 145.0467,-896.7526 145.0467,-925.646\"/>\n<polygon fill=\"#000000\" stroke=\"#000000\" points=\"141.5468,-925.9104 145.0467,-935.9104 148.5468,-925.9104 141.5468,-925.9104\"/>\n</g>\n<!-- 1023&#45;&gt;1025 -->\n<g id=\"edge41\" class=\"edge\">\n<title>1023&#45;&gt;1025</title>\n<path fill=\"none\" stroke=\"#000000\" d=\"M58.9021,-896.5703C75.0047,-907.3053 97.103,-922.0375 114.8859,-933.8928\"/>\n<polygon fill=\"#000000\" stroke=\"#000000\" points=\"112.9618,-936.8165 123.2238,-939.4514 116.8448,-930.9922 112.9618,-936.8165\"/>\n</g>\n<!-- 1028 -->\n<g id=\"node28\" class=\"node\">\n<title>1028</title>\n<ellipse fill=\"none\" stroke=\"#000000\" cx=\"145.0467\" cy=\"-1026\" rx=\"37.0935\" ry=\"18\"/>\n<text text-anchor=\"middle\" x=\"145.0467\" y=\"-1022.3\" font-family=\"Times,serif\" font-size=\"14.00\" fill=\"#000000\">1028|3</text>\n</g>\n<!-- 1023&#45;&gt;1028 -->\n<g id=\"edge47\" class=\"edge\">\n<title>1023&#45;&gt;1028</title>\n<path fill=\"none\" stroke=\"#000000\" d=\"M49.8598,-899.0842C68.7779,-924.3083 104.3006,-971.6718 126.1942,-1000.8634\"/>\n<polygon fill=\"#000000\" stroke=\"#000000\" points=\"123.4502,-1003.0381 132.2503,-1008.9381 129.0502,-998.838 123.4502,-1003.0381\"/>\n</g>\n<!-- 1029 -->\n<g id=\"node29\" class=\"node\">\n<title>1029</title>\n<ellipse fill=\"none\" stroke=\"#000000\" cx=\"37.0467\" cy=\"-1098\" rx=\"37.0935\" ry=\"18\"/>\n<text text-anchor=\"middle\" x=\"37.0467\" y=\"-1094.3\" font-family=\"Times,serif\" font-size=\"14.00\" fill=\"#000000\">1029|3</text>\n</g>\n<!-- 1023&#45;&gt;1029 -->\n<g id=\"edge50\" class=\"edge\">\n<title>1023&#45;&gt;1029</title>\n<path fill=\"none\" stroke=\"#000000\" d=\"M37.0467,-900.0445C37.0467,-937.6062 37.0467,-1024.4459 37.0467,-1069.5897\"/>\n<polygon fill=\"#000000\" stroke=\"#000000\" points=\"33.5468,-1069.8549 37.0467,-1079.8549 40.5468,-1069.855 33.5468,-1069.8549\"/>\n</g>\n<!-- 1024&#45;&gt;1026 -->\n<g id=\"edge44\" class=\"edge\">\n<title>1024&#45;&gt;1026</title>\n<path fill=\"none\" stroke=\"#000000\" d=\"M361.0467,-900.1687C361.0467,-907.8691 361.0467,-917.0257 361.0467,-925.5834\"/>\n<polygon fill=\"#000000\" stroke=\"#000000\" points=\"357.5468,-925.5867 361.0467,-935.5867 364.5468,-925.5868 357.5468,-925.5867\"/>\n</g>\n<!-- 1025&#45;&gt;1028 -->\n<g id=\"edge48\" class=\"edge\">\n<title>1025&#45;&gt;1028</title>\n<path fill=\"none\" stroke=\"#000000\" d=\"M145.0467,-972.1686C145.0467,-979.869 145.0467,-989.0257 145.0467,-997.5834\"/>\n<polygon fill=\"#000000\" stroke=\"#000000\" points=\"141.5468,-997.5867 145.0467,-1007.5867 148.5468,-997.5868 141.5468,-997.5867\"/>\n</g>\n<!-- 1026&#45;&gt;1027 -->\n<g id=\"edge45\" class=\"edge\">\n<title>1026&#45;&gt;1027</title>\n<path fill=\"none\" stroke=\"#000000\" d=\"M339.1913,-968.5703C323.0888,-979.3053 300.9905,-994.0375 283.2076,-1005.8928\"/>\n<polygon fill=\"#000000\" stroke=\"#000000\" points=\"281.2487,-1002.9922 274.8696,-1011.4514 285.1316,-1008.8165 281.2487,-1002.9922\"/>\n</g>\n<!-- 1030 -->\n<g id=\"node30\" class=\"node\">\n<title>1030</title>\n<ellipse fill=\"none\" stroke=\"#000000\" cx=\"145.0467\" cy=\"-1098\" rx=\"37.0935\" ry=\"18\"/>\n<text text-anchor=\"middle\" x=\"145.0467\" y=\"-1094.3\" font-family=\"Times,serif\" font-size=\"14.00\" fill=\"#000000\">1030|3</text>\n</g>\n<!-- 1026&#45;&gt;1030 -->\n<g id=\"edge51\" class=\"edge\">\n<title>1026&#45;&gt;1030</title>\n<path fill=\"none\" stroke=\"#000000\" d=\"M339.1468,-968.5999C300.4155,-994.4208 219.761,-1048.1905 175.589,-1077.6385\"/>\n<polygon fill=\"#000000\" stroke=\"#000000\" points=\"173.3836,-1074.9022 167.0046,-1083.3614 177.2666,-1080.7266 173.3836,-1074.9022\"/>\n</g>\n<!-- 1033 -->\n<g id=\"node33\" class=\"node\">\n<title>1033</title>\n<ellipse fill=\"none\" stroke=\"#000000\" cx=\"361.0467\" cy=\"-1242\" rx=\"37.0935\" ry=\"18\"/>\n<text text-anchor=\"middle\" x=\"361.0467\" y=\"-1238.3\" font-family=\"Times,serif\" font-size=\"14.00\" fill=\"#000000\">1033|3</text>\n</g>\n<!-- 1026&#45;&gt;1033 -->\n<g id=\"edge58\" class=\"edge\">\n<title>1026&#45;&gt;1033</title>\n<path fill=\"none\" stroke=\"#000000\" d=\"M361.0467,-972.0157C361.0467,-1020.7061 361.0467,-1155.2039 361.0467,-1213.9427\"/>\n<polygon fill=\"#000000\" stroke=\"#000000\" points=\"357.5468,-1213.9911 361.0467,-1223.9911 364.5468,-1213.9912 357.5468,-1213.9911\"/>\n</g>\n<!-- 1034 -->\n<g id=\"node34\" class=\"node\">\n<title>1034</title>\n<ellipse fill=\"#ff0000\" stroke=\"#ff0000\" cx=\"361.0467\" cy=\"-1314\" rx=\"37.0935\" ry=\"18\"/>\n<text text-anchor=\"middle\" x=\"361.0467\" y=\"-1310.3\" font-family=\"Times,serif\" font-size=\"14.00\" fill=\"#000000\">1034|4</text>\n</g>\n<!-- 1027&#45;&gt;1034 -->\n<g id=\"edge59\" class=\"edge\">\n<title>1027&#45;&gt;1034</title>\n<path fill=\"none\" stroke=\"#000000\" d=\"M259.8026,-1044.0157C278.0994,-1092.8071 328.7076,-1227.7623 350.662,-1286.3073\"/>\n<polygon fill=\"#000000\" stroke=\"#000000\" points=\"347.5049,-1287.8568 354.2934,-1295.9911 354.0592,-1285.3989 347.5049,-1287.8568\"/>\n</g>\n<!-- 1028&#45;&gt;1029 -->\n<g id=\"edge49\" class=\"edge\">\n<title>1028&#45;&gt;1029</title>\n<path fill=\"none\" stroke=\"#000000\" d=\"M123.1913,-1040.5703C107.0888,-1051.3053 84.9905,-1066.0375 67.2076,-1077.8928\"/>\n<polygon fill=\"#000000\" stroke=\"#000000\" points=\"65.2487,-1074.9922 58.8696,-1083.4514 69.1316,-1080.8165 65.2487,-1074.9922\"/>\n</g>\n<!-- 1028&#45;&gt;1030 -->\n<g id=\"edge52\" class=\"edge\">\n<title>1028&#45;&gt;1030</title>\n<path fill=\"none\" stroke=\"#000000\" d=\"M145.0467,-1044.1686C145.0467,-1051.869 145.0467,-1061.0257 145.0467,-1069.5834\"/>\n<polygon fill=\"#000000\" stroke=\"#000000\" points=\"141.5468,-1069.5867 145.0467,-1079.5867 148.5468,-1069.5868 141.5468,-1069.5867\"/>\n</g>\n<!-- 1031 -->\n<g id=\"node31\" class=\"node\">\n<title>1031</title>\n<ellipse fill=\"none\" stroke=\"#000000\" cx=\"37.0467\" cy=\"-1170\" rx=\"37.0935\" ry=\"18\"/>\n<text text-anchor=\"middle\" x=\"37.0467\" y=\"-1166.3\" font-family=\"Times,serif\" font-size=\"14.00\" fill=\"#000000\">1031|3</text>\n</g>\n<!-- 1029&#45;&gt;1031 -->\n<g id=\"edge54\" class=\"edge\">\n<title>1029&#45;&gt;1031</title>\n<path fill=\"none\" stroke=\"#000000\" d=\"M37.0467,-1116.1686C37.0467,-1123.869 37.0467,-1133.0257 37.0467,-1141.5834\"/>\n<polygon fill=\"#000000\" stroke=\"#000000\" points=\"33.5468,-1141.5867 37.0467,-1151.5867 40.5468,-1141.5868 33.5468,-1141.5867\"/>\n</g>\n<!-- 1030&#45;&gt;1031 -->\n<g id=\"edge53\" class=\"edge\">\n<title>1030&#45;&gt;1031</title>\n<path fill=\"none\" stroke=\"#000000\" d=\"M123.1913,-1112.5703C107.0888,-1123.3053 84.9905,-1138.0375 67.2076,-1149.8928\"/>\n<polygon fill=\"#000000\" stroke=\"#000000\" points=\"65.2487,-1146.9922 58.8696,-1155.4514 69.1316,-1152.8165 65.2487,-1146.9922\"/>\n</g>\n<!-- 1032 -->\n<g id=\"node32\" class=\"node\">\n<title>1032</title>\n<ellipse fill=\"none\" stroke=\"#000000\" cx=\"145.0467\" cy=\"-1242\" rx=\"37.0935\" ry=\"18\"/>\n<text text-anchor=\"middle\" x=\"145.0467\" y=\"-1238.3\" font-family=\"Times,serif\" font-size=\"14.00\" fill=\"#000000\">1032|3</text>\n</g>\n<!-- 1030&#45;&gt;1032 -->\n<g id=\"edge56\" class=\"edge\">\n<title>1030&#45;&gt;1032</title>\n<path fill=\"none\" stroke=\"#000000\" d=\"M145.0467,-1116.2377C145.0467,-1140.799 145.0467,-1184.7526 145.0467,-1213.6459\"/>\n<polygon fill=\"#000000\" stroke=\"#000000\" points=\"141.5468,-1213.9103 145.0467,-1223.9104 148.5468,-1213.9104 141.5468,-1213.9103\"/>\n</g>\n<!-- 1030&#45;&gt;1033 -->\n<g id=\"edge57\" class=\"edge\">\n<title>1030&#45;&gt;1033</title>\n<path fill=\"none\" stroke=\"#000000\" d=\"M166.9466,-1112.5999C205.6779,-1138.4208 286.3324,-1192.1905 330.5044,-1221.6385\"/>\n<polygon fill=\"#000000\" stroke=\"#000000\" points=\"328.8268,-1224.7266 339.0888,-1227.3614 332.7098,-1218.9022 328.8268,-1224.7266\"/>\n</g>\n<!-- 1031&#45;&gt;1032 -->\n<g id=\"edge55\" class=\"edge\">\n<title>1031&#45;&gt;1032</title>\n<path fill=\"none\" stroke=\"#000000\" d=\"M58.9021,-1184.5703C75.0047,-1195.3053 97.103,-1210.0375 114.8859,-1221.8928\"/>\n<polygon fill=\"#000000\" stroke=\"#000000\" points=\"112.9618,-1224.8165 123.2238,-1227.4514 116.8448,-1218.9922 112.9618,-1224.8165\"/>\n</g>\n<!-- 1035 -->\n<g id=\"node35\" class=\"node\">\n<title>1035</title>\n<ellipse fill=\"#ff0000\" stroke=\"#ff0000\" cx=\"145.0467\" cy=\"-1386\" rx=\"37.0935\" ry=\"18\"/>\n<text text-anchor=\"middle\" x=\"145.0467\" y=\"-1382.3\" font-family=\"Times,serif\" font-size=\"14.00\" fill=\"#000000\">1035|4</text>\n</g>\n<!-- 1032&#45;&gt;1035 -->\n<g id=\"edge62\" class=\"edge\">\n<title>1032&#45;&gt;1035</title>\n<path fill=\"none\" stroke=\"#000000\" d=\"M145.0467,-1260.2377C145.0467,-1284.799 145.0467,-1328.7526 145.0467,-1357.6459\"/>\n<polygon fill=\"#000000\" stroke=\"#000000\" points=\"141.5468,-1357.9103 145.0467,-1367.9104 148.5468,-1357.9104 141.5468,-1357.9103\"/>\n</g>\n<!-- 1033&#45;&gt;1034 -->\n<g id=\"edge60\" class=\"edge\">\n<title>1033&#45;&gt;1034</title>\n<path fill=\"none\" stroke=\"#000000\" d=\"M361.0467,-1260.1686C361.0467,-1267.869 361.0467,-1277.0257 361.0467,-1285.5834\"/>\n<polygon fill=\"#000000\" stroke=\"#000000\" points=\"357.5468,-1285.5867 361.0467,-1295.5867 364.5468,-1285.5868 357.5468,-1285.5867\"/>\n</g>\n<!-- 1034&#45;&gt;1035 -->\n<g id=\"edge61\" class=\"edge\">\n<title>1034&#45;&gt;1035</title>\n<path fill=\"none\" stroke=\"#000000\" d=\"M330.0992,-1324.3158C292.0851,-1336.9872 227.4963,-1358.5168 185.5605,-1372.4954\"/>\n<polygon fill=\"#000000\" stroke=\"#000000\" points=\"184.3169,-1369.2206 175.9368,-1375.7033 186.5305,-1375.8613 184.3169,-1369.2206\"/>\n</g>\n</g>\n</svg>\n"
          },
          "metadata": {},
          "execution_count": 38
        }
      ]
    },
    {
      "cell_type": "markdown",
      "source": [
        "The above image shows the state of the hashgraph after the divide rounds procedure. Each event has been assigned the round created value. Each event has the following format: {event_id}|{round_created}. <br>\n",
        "The events in red are the witnesses."
      ],
      "metadata": {
        "id": "RRsWzQLxQNOI"
      }
    },
    {
      "cell_type": "code",
      "source": [
        "decide_fame()"
      ],
      "metadata": {
        "id": "TjHI01fqKilI"
      },
      "execution_count": null,
      "outputs": []
    },
    {
      "cell_type": "code",
      "source": [
        "from IPython.display import Javascript\n",
        "display(Javascript('''google.colab.output.setIframeHeight(0, true, {maxHeight: 5000})'''))\n",
        "\n",
        "g = graphviz.Digraph('G', filename = \"decide_fame_output\", engine=\"neato\")\n",
        "\n",
        "for event in  events:\n",
        "  if event.witness:\n",
        "    if event.famous == famous.YES:\n",
        "      g.node(str(event.event_id), label=f\"{event.event_id}|{event.round}\", pos=f\"{event.node_id*1.5},{event.timestamp}!\", color=\"green\", style=\"filled\")\n",
        "    elif event.famous == famous.NO:\n",
        "      g.node(str(event.event_id), label=f\"{event.event_id}|{event.round}\", pos=f\"{event.node_id*1.5},{event.timestamp}!\", color=\"blue\", style=\"filled\")\n",
        "    elif event.famous == famous.UNDECIDED:\n",
        "      g.node(str(event.event_id), label=f\"{event.event_id}|{event.round}\", pos=f\"{event.node_id*1.5},{event.timestamp}!\", color=\"red\", style=\"filled\")\n",
        "  else:\n",
        "    g.node(str(event.event_id), label=f\"{event.event_id}|{event.round}\", pos=f\"{event.node_id*1.5},{event.timestamp}!\")\n",
        "\n",
        "\n",
        "for event in events:\n",
        "  op = event_id_to_event_obj_map.get(event.parent_event_id)\n",
        "  sp = event_id_to_event_obj_map.get(event.self_parent_event_id)\n",
        "  if op:\n",
        "    g.edge(f\"{op.event_id}\", f\"{event.event_id}\")\n",
        "  if sp:\n",
        "    g.edge(f\"{sp.event_id}\", f\"{event.event_id}\")\n",
        "       \n",
        "g"
      ],
      "metadata": {
        "colab": {
          "base_uri": "https://localhost:8080/",
          "height": 1903
        },
        "id": "Yz3BgchUQ5Ts",
        "outputId": "954ef986-3afb-4d38-ca0a-cd7b99792638"
      },
      "execution_count": null,
      "outputs": [
        {
          "output_type": "display_data",
          "data": {
            "text/plain": [
              "<IPython.core.display.Javascript object>"
            ],
            "application/javascript": [
              "google.colab.output.setIframeHeight(0, true, {maxHeight: 5000})"
            ]
          },
          "metadata": {}
        },
        {
          "output_type": "execute_result",
          "data": {
            "text/plain": [
              "<graphviz.dot.Digraph at 0x7fb4d8c66750>"
            ],
            "image/svg+xml": "<?xml version=\"1.0\" encoding=\"UTF-8\" standalone=\"no\"?>\n<!DOCTYPE svg PUBLIC \"-//W3C//DTD SVG 1.1//EN\"\n \"http://www.w3.org/Graphics/SVG/1.1/DTD/svg11.dtd\">\n<!-- Generated by graphviz version 2.40.1 (20161225.0304)\n -->\n<!-- Title: G Pages: 1 -->\n<svg width=\"406pt\" height=\"1412pt\"\n viewBox=\"0.00 0.00 406.09 1412.00\" xmlns=\"http://www.w3.org/2000/svg\" xmlns:xlink=\"http://www.w3.org/1999/xlink\">\n<g id=\"graph0\" class=\"graph\" transform=\"scale(1 1) rotate(0) translate(4 1408)\">\n<title>G</title>\n<polygon fill=\"#ffffff\" stroke=\"transparent\" points=\"-4,4 -4,-1408 402.0934,-1408 402.0934,4 -4,4\"/>\n<!-- 1001 -->\n<g id=\"node1\" class=\"node\">\n<title>1001</title>\n<ellipse fill=\"#00ff00\" stroke=\"#00ff00\" cx=\"37.0467\" cy=\"-18\" rx=\"37.0935\" ry=\"18\"/>\n<text text-anchor=\"middle\" x=\"37.0467\" y=\"-14.3\" font-family=\"Times,serif\" font-size=\"14.00\" fill=\"#000000\">1001|1</text>\n</g>\n<!-- 1009 -->\n<g id=\"node9\" class=\"node\">\n<title>1009</title>\n<ellipse fill=\"none\" stroke=\"#000000\" cx=\"37.0467\" cy=\"-234\" rx=\"37.0935\" ry=\"18\"/>\n<text text-anchor=\"middle\" x=\"37.0467\" y=\"-230.3\" font-family=\"Times,serif\" font-size=\"14.00\" fill=\"#000000\">1009|1</text>\n</g>\n<!-- 1001&#45;&gt;1009 -->\n<g id=\"edge10\" class=\"edge\">\n<title>1001&#45;&gt;1009</title>\n<path fill=\"none\" stroke=\"#000000\" d=\"M37.0467,-36.0445C37.0467,-73.6062 37.0467,-160.4459 37.0467,-205.5897\"/>\n<polygon fill=\"#000000\" stroke=\"#000000\" points=\"33.5468,-205.8549 37.0467,-215.8549 40.5468,-205.855 33.5468,-205.8549\"/>\n</g>\n<!-- 1002 -->\n<g id=\"node2\" class=\"node\">\n<title>1002</title>\n<ellipse fill=\"#00ff00\" stroke=\"#00ff00\" cx=\"145.0467\" cy=\"-18\" rx=\"37.0935\" ry=\"18\"/>\n<text text-anchor=\"middle\" x=\"145.0467\" y=\"-14.3\" font-family=\"Times,serif\" font-size=\"14.00\" fill=\"#000000\">1002|1</text>\n</g>\n<!-- 1005 -->\n<g id=\"node5\" class=\"node\">\n<title>1005</title>\n<ellipse fill=\"none\" stroke=\"#000000\" cx=\"361.0467\" cy=\"-90\" rx=\"37.0935\" ry=\"18\"/>\n<text text-anchor=\"middle\" x=\"361.0467\" y=\"-86.3\" font-family=\"Times,serif\" font-size=\"14.00\" fill=\"#000000\">1005|1</text>\n</g>\n<!-- 1002&#45;&gt;1005 -->\n<g id=\"edge1\" class=\"edge\">\n<title>1002&#45;&gt;1005</title>\n<path fill=\"none\" stroke=\"#000000\" d=\"M175.9942,-28.3158C214.0083,-40.9872 278.5971,-62.5168 320.5329,-76.4954\"/>\n<polygon fill=\"#000000\" stroke=\"#000000\" points=\"319.5629,-79.8613 330.1566,-79.7033 321.7766,-73.2206 319.5629,-79.8613\"/>\n</g>\n<!-- 1006 -->\n<g id=\"node6\" class=\"node\">\n<title>1006</title>\n<ellipse fill=\"none\" stroke=\"#000000\" cx=\"145.0467\" cy=\"-162\" rx=\"37.0935\" ry=\"18\"/>\n<text text-anchor=\"middle\" x=\"145.0467\" y=\"-158.3\" font-family=\"Times,serif\" font-size=\"14.00\" fill=\"#000000\">1006|1</text>\n</g>\n<!-- 1002&#45;&gt;1006 -->\n<g id=\"edge4\" class=\"edge\">\n<title>1002&#45;&gt;1006</title>\n<path fill=\"none\" stroke=\"#000000\" d=\"M145.0467,-36.2377C145.0467,-60.799 145.0467,-104.7526 145.0467,-133.6459\"/>\n<polygon fill=\"#000000\" stroke=\"#000000\" points=\"141.5468,-133.9103 145.0467,-143.9104 148.5468,-133.9104 141.5468,-133.9103\"/>\n</g>\n<!-- 1003 -->\n<g id=\"node3\" class=\"node\">\n<title>1003</title>\n<ellipse fill=\"#00ff00\" stroke=\"#00ff00\" cx=\"253.0467\" cy=\"-18\" rx=\"37.0935\" ry=\"18\"/>\n<text text-anchor=\"middle\" x=\"253.0467\" y=\"-14.3\" font-family=\"Times,serif\" font-size=\"14.00\" fill=\"#000000\">1003|1</text>\n</g>\n<!-- 1008 -->\n<g id=\"node8\" class=\"node\">\n<title>1008</title>\n<ellipse fill=\"none\" stroke=\"#000000\" cx=\"145.0467\" cy=\"-234\" rx=\"37.0935\" ry=\"18\"/>\n<text text-anchor=\"middle\" x=\"145.0467\" y=\"-230.3\" font-family=\"Times,serif\" font-size=\"14.00\" fill=\"#000000\">1008|1</text>\n</g>\n<!-- 1003&#45;&gt;1008 -->\n<g id=\"edge7\" class=\"edge\">\n<title>1003&#45;&gt;1008</title>\n<path fill=\"none\" stroke=\"#000000\" d=\"M244.2086,-35.6762C225.2941,-73.5052 180.7971,-162.4993 158.408,-207.2775\"/>\n<polygon fill=\"#000000\" stroke=\"#000000\" points=\"155.1972,-205.873 153.8555,-216.3825 161.4581,-209.0035 155.1972,-205.873\"/>\n</g>\n<!-- 1011 -->\n<g id=\"node11\" class=\"node\">\n<title>1011</title>\n<ellipse fill=\"none\" stroke=\"#000000\" cx=\"253.0467\" cy=\"-306\" rx=\"36.2938\" ry=\"18\"/>\n<text text-anchor=\"middle\" x=\"253.0467\" y=\"-302.3\" font-family=\"Times,serif\" font-size=\"14.00\" fill=\"#000000\">1011|1</text>\n</g>\n<!-- 1003&#45;&gt;1011 -->\n<g id=\"edge14\" class=\"edge\">\n<title>1003&#45;&gt;1011</title>\n<path fill=\"none\" stroke=\"#000000\" d=\"M253.0467,-36.0157C253.0467,-84.7061 253.0467,-219.2039 253.0467,-277.9427\"/>\n<polygon fill=\"#000000\" stroke=\"#000000\" points=\"249.5468,-277.9911 253.0467,-287.9911 256.5468,-277.9912 249.5468,-277.9911\"/>\n</g>\n<!-- 1004 -->\n<g id=\"node4\" class=\"node\">\n<title>1004</title>\n<ellipse fill=\"#00ff00\" stroke=\"#00ff00\" cx=\"361.0467\" cy=\"-18\" rx=\"37.0935\" ry=\"18\"/>\n<text text-anchor=\"middle\" x=\"361.0467\" y=\"-14.3\" font-family=\"Times,serif\" font-size=\"14.00\" fill=\"#000000\">1004|1</text>\n</g>\n<!-- 1004&#45;&gt;1005 -->\n<g id=\"edge2\" class=\"edge\">\n<title>1004&#45;&gt;1005</title>\n<path fill=\"none\" stroke=\"#000000\" d=\"M361.0467,-36.1686C361.0467,-43.869 361.0467,-53.0257 361.0467,-61.5834\"/>\n<polygon fill=\"#000000\" stroke=\"#000000\" points=\"357.5468,-61.5867 361.0467,-71.5867 364.5468,-61.5868 357.5468,-61.5867\"/>\n</g>\n<!-- 1005&#45;&gt;1006 -->\n<g id=\"edge3\" class=\"edge\">\n<title>1005&#45;&gt;1006</title>\n<path fill=\"none\" stroke=\"#000000\" d=\"M330.0992,-100.3158C292.0851,-112.9872 227.4963,-134.5168 185.5605,-148.4954\"/>\n<polygon fill=\"#000000\" stroke=\"#000000\" points=\"184.3169,-145.2206 175.9368,-151.7033 186.5305,-151.8613 184.3169,-145.2206\"/>\n</g>\n<!-- 1007 -->\n<g id=\"node7\" class=\"node\">\n<title>1007</title>\n<ellipse fill=\"none\" stroke=\"#000000\" cx=\"361.0467\" cy=\"-234\" rx=\"37.0935\" ry=\"18\"/>\n<text text-anchor=\"middle\" x=\"361.0467\" y=\"-230.3\" font-family=\"Times,serif\" font-size=\"14.00\" fill=\"#000000\">1007|1</text>\n</g>\n<!-- 1005&#45;&gt;1007 -->\n<g id=\"edge6\" class=\"edge\">\n<title>1005&#45;&gt;1007</title>\n<path fill=\"none\" stroke=\"#000000\" d=\"M361.0467,-108.2377C361.0467,-132.799 361.0467,-176.7526 361.0467,-205.6459\"/>\n<polygon fill=\"#000000\" stroke=\"#000000\" points=\"357.5468,-205.9103 361.0467,-215.9104 364.5468,-205.9104 357.5468,-205.9103\"/>\n</g>\n<!-- 1006&#45;&gt;1007 -->\n<g id=\"edge5\" class=\"edge\">\n<title>1006&#45;&gt;1007</title>\n<path fill=\"none\" stroke=\"#000000\" d=\"M175.9942,-172.3158C214.0083,-184.9872 278.5971,-206.5168 320.5329,-220.4954\"/>\n<polygon fill=\"#000000\" stroke=\"#000000\" points=\"319.5629,-223.8613 330.1566,-223.7033 321.7766,-217.2206 319.5629,-223.8613\"/>\n</g>\n<!-- 1006&#45;&gt;1008 -->\n<g id=\"edge8\" class=\"edge\">\n<title>1006&#45;&gt;1008</title>\n<path fill=\"none\" stroke=\"#000000\" d=\"M145.0467,-180.1686C145.0467,-187.869 145.0467,-197.0257 145.0467,-205.5834\"/>\n<polygon fill=\"#000000\" stroke=\"#000000\" points=\"141.5468,-205.5867 145.0467,-215.5867 148.5468,-205.5868 141.5468,-205.5867\"/>\n</g>\n<!-- 1006&#45;&gt;1009 -->\n<g id=\"edge9\" class=\"edge\">\n<title>1006&#45;&gt;1009</title>\n<path fill=\"none\" stroke=\"#000000\" d=\"M123.1913,-176.5703C107.0888,-187.3053 84.9905,-202.0375 67.2076,-213.8928\"/>\n<polygon fill=\"#000000\" stroke=\"#000000\" points=\"65.2487,-210.9922 58.8696,-219.4514 69.1316,-216.8165 65.2487,-210.9922\"/>\n</g>\n<!-- 1010 -->\n<g id=\"node10\" class=\"node\">\n<title>1010</title>\n<ellipse fill=\"none\" stroke=\"#000000\" cx=\"361.0467\" cy=\"-306\" rx=\"37.0935\" ry=\"18\"/>\n<text text-anchor=\"middle\" x=\"361.0467\" y=\"-302.3\" font-family=\"Times,serif\" font-size=\"14.00\" fill=\"#000000\">1010|1</text>\n</g>\n<!-- 1007&#45;&gt;1010 -->\n<g id=\"edge12\" class=\"edge\">\n<title>1007&#45;&gt;1010</title>\n<path fill=\"none\" stroke=\"#000000\" d=\"M361.0467,-252.1686C361.0467,-259.869 361.0467,-269.0257 361.0467,-277.5834\"/>\n<polygon fill=\"#000000\" stroke=\"#000000\" points=\"357.5468,-277.5867 361.0467,-287.5867 364.5468,-277.5868 357.5468,-277.5867\"/>\n</g>\n<!-- 1008&#45;&gt;1010 -->\n<g id=\"edge11\" class=\"edge\">\n<title>1008&#45;&gt;1010</title>\n<path fill=\"none\" stroke=\"#000000\" d=\"M175.9942,-244.3158C214.0083,-256.9872 278.5971,-278.5168 320.5329,-292.4954\"/>\n<polygon fill=\"#000000\" stroke=\"#000000\" points=\"319.5629,-295.8613 330.1566,-295.7033 321.7766,-289.2206 319.5629,-295.8613\"/>\n</g>\n<!-- 1008&#45;&gt;1011 -->\n<g id=\"edge13\" class=\"edge\">\n<title>1008&#45;&gt;1011</title>\n<path fill=\"none\" stroke=\"#000000\" d=\"M166.9021,-248.5703C183.0047,-259.3053 205.103,-274.0375 222.8859,-285.8928\"/>\n<polygon fill=\"#000000\" stroke=\"#000000\" points=\"220.9618,-288.8165 231.2238,-291.4514 224.8448,-282.9922 220.9618,-288.8165\"/>\n</g>\n<!-- 1012 -->\n<g id=\"node12\" class=\"node\">\n<title>1012</title>\n<ellipse fill=\"none\" stroke=\"#000000\" cx=\"145.0467\" cy=\"-378\" rx=\"37.0935\" ry=\"18\"/>\n<text text-anchor=\"middle\" x=\"145.0467\" y=\"-374.3\" font-family=\"Times,serif\" font-size=\"14.00\" fill=\"#000000\">1012|1</text>\n</g>\n<!-- 1008&#45;&gt;1012 -->\n<g id=\"edge16\" class=\"edge\">\n<title>1008&#45;&gt;1012</title>\n<path fill=\"none\" stroke=\"#000000\" d=\"M145.0467,-252.2377C145.0467,-276.799 145.0467,-320.7526 145.0467,-349.646\"/>\n<polygon fill=\"#000000\" stroke=\"#000000\" points=\"141.5468,-349.9104 145.0467,-359.9104 148.5468,-349.9104 141.5468,-349.9104\"/>\n</g>\n<!-- 1013 -->\n<g id=\"node13\" class=\"node\">\n<title>1013</title>\n<ellipse fill=\"#00ff00\" stroke=\"#00ff00\" cx=\"361.0467\" cy=\"-450\" rx=\"37.0935\" ry=\"18\"/>\n<text text-anchor=\"middle\" x=\"361.0467\" y=\"-446.3\" font-family=\"Times,serif\" font-size=\"14.00\" fill=\"#000000\">1013|2</text>\n</g>\n<!-- 1009&#45;&gt;1013 -->\n<g id=\"edge17\" class=\"edge\">\n<title>1009&#45;&gt;1013</title>\n<path fill=\"none\" stroke=\"#000000\" d=\"M59.0618,-248.6767C115.5147,-286.312 265.5385,-386.3279 330.4287,-429.588\"/>\n<polygon fill=\"#000000\" stroke=\"#000000\" points=\"328.7393,-432.6682 339.0013,-435.3031 332.6223,-426.8439 328.7393,-432.6682\"/>\n</g>\n<!-- 1014 -->\n<g id=\"node14\" class=\"node\">\n<title>1014</title>\n<ellipse fill=\"#00ff00\" stroke=\"#00ff00\" cx=\"37.0467\" cy=\"-522\" rx=\"37.0935\" ry=\"18\"/>\n<text text-anchor=\"middle\" x=\"37.0467\" y=\"-518.3\" font-family=\"Times,serif\" font-size=\"14.00\" fill=\"#000000\">1014|2</text>\n</g>\n<!-- 1009&#45;&gt;1014 -->\n<g id=\"edge20\" class=\"edge\">\n<title>1009&#45;&gt;1014</title>\n<path fill=\"none\" stroke=\"#000000\" d=\"M37.0467,-252.0157C37.0467,-300.7061 37.0467,-435.2039 37.0467,-493.9427\"/>\n<polygon fill=\"#000000\" stroke=\"#000000\" points=\"33.5468,-493.9911 37.0467,-503.9911 40.5468,-493.9912 33.5468,-493.9911\"/>\n</g>\n<!-- 1010&#45;&gt;1012 -->\n<g id=\"edge15\" class=\"edge\">\n<title>1010&#45;&gt;1012</title>\n<path fill=\"none\" stroke=\"#000000\" d=\"M330.0992,-316.3158C292.0851,-328.9872 227.4963,-350.5168 185.5605,-364.4954\"/>\n<polygon fill=\"#000000\" stroke=\"#000000\" points=\"184.3169,-361.2206 175.9368,-367.7033 186.5305,-367.8614 184.3169,-361.2206\"/>\n</g>\n<!-- 1010&#45;&gt;1013 -->\n<g id=\"edge18\" class=\"edge\">\n<title>1010&#45;&gt;1013</title>\n<path fill=\"none\" stroke=\"#000000\" d=\"M361.0467,-324.2377C361.0467,-348.799 361.0467,-392.7526 361.0467,-421.646\"/>\n<polygon fill=\"#000000\" stroke=\"#000000\" points=\"357.5468,-421.9104 361.0467,-431.9104 364.5468,-421.9104 357.5468,-421.9104\"/>\n</g>\n<!-- 1016 -->\n<g id=\"node16\" class=\"node\">\n<title>1016</title>\n<ellipse fill=\"none\" stroke=\"#000000\" cx=\"37.0467\" cy=\"-594\" rx=\"37.0935\" ry=\"18\"/>\n<text text-anchor=\"middle\" x=\"37.0467\" y=\"-590.3\" font-family=\"Times,serif\" font-size=\"14.00\" fill=\"#000000\">1016|2</text>\n</g>\n<!-- 1011&#45;&gt;1016 -->\n<g id=\"edge23\" class=\"edge\">\n<title>1011&#45;&gt;1016</title>\n<path fill=\"none\" stroke=\"#000000\" d=\"M240.1818,-323.1532C203.64,-371.8756 99.0874,-511.2791 55.9797,-568.756\"/>\n<polygon fill=\"#000000\" stroke=\"#000000\" points=\"53.0443,-566.8366 49.8442,-576.9367 58.6443,-571.0367 53.0443,-566.8366\"/>\n</g>\n<!-- 1018 -->\n<g id=\"node18\" class=\"node\">\n<title>1018</title>\n<ellipse fill=\"#0000ff\" stroke=\"#0000ff\" cx=\"253.0467\" cy=\"-666\" rx=\"37.0935\" ry=\"18\"/>\n<text text-anchor=\"middle\" x=\"253.0467\" y=\"-662.3\" font-family=\"Times,serif\" font-size=\"14.00\" fill=\"#000000\">1018|2</text>\n</g>\n<!-- 1011&#45;&gt;1018 -->\n<g id=\"edge28\" class=\"edge\">\n<title>1011&#45;&gt;1018</title>\n<path fill=\"none\" stroke=\"#000000\" d=\"M253.0467,-324.3474C253.0467,-382.9664 253.0467,-566.0448 253.0467,-637.2571\"/>\n<polygon fill=\"#000000\" stroke=\"#000000\" points=\"249.5468,-637.6895 253.0467,-647.6896 256.5468,-637.6896 249.5468,-637.6895\"/>\n</g>\n<!-- 1015 -->\n<g id=\"node15\" class=\"node\">\n<title>1015</title>\n<ellipse fill=\"#00ff00\" stroke=\"#00ff00\" cx=\"145.0467\" cy=\"-522\" rx=\"37.0935\" ry=\"18\"/>\n<text text-anchor=\"middle\" x=\"145.0467\" y=\"-518.3\" font-family=\"Times,serif\" font-size=\"14.00\" fill=\"#000000\">1015|2</text>\n</g>\n<!-- 1012&#45;&gt;1015 -->\n<g id=\"edge22\" class=\"edge\">\n<title>1012&#45;&gt;1015</title>\n<path fill=\"none\" stroke=\"#000000\" d=\"M145.0467,-396.2377C145.0467,-420.799 145.0467,-464.7526 145.0467,-493.646\"/>\n<polygon fill=\"#000000\" stroke=\"#000000\" points=\"141.5468,-493.9104 145.0467,-503.9104 148.5468,-493.9104 141.5468,-493.9104\"/>\n</g>\n<!-- 1013&#45;&gt;1014 -->\n<g id=\"edge19\" class=\"edge\">\n<title>1013&#45;&gt;1014</title>\n<path fill=\"none\" stroke=\"#000000\" d=\"M327.2899,-457.5015C268.366,-470.5957 146.7847,-497.6138 81.2357,-512.1802\"/>\n<polygon fill=\"#000000\" stroke=\"#000000\" points=\"80.2173,-508.8211 71.2147,-514.4071 81.7359,-515.6544 80.2173,-508.8211\"/>\n</g>\n<!-- 1013&#45;&gt;1015 -->\n<g id=\"edge21\" class=\"edge\">\n<title>1013&#45;&gt;1015</title>\n<path fill=\"none\" stroke=\"#000000\" d=\"M330.0992,-460.3159C292.0851,-472.9872 227.4963,-494.5168 185.5605,-508.4954\"/>\n<polygon fill=\"#000000\" stroke=\"#000000\" points=\"184.3169,-505.2206 175.9368,-511.7033 186.5305,-511.8614 184.3169,-505.2206\"/>\n</g>\n<!-- 1017 -->\n<g id=\"node17\" class=\"node\">\n<title>1017</title>\n<ellipse fill=\"none\" stroke=\"#000000\" cx=\"361.0467\" cy=\"-594\" rx=\"37.0935\" ry=\"18\"/>\n<text text-anchor=\"middle\" x=\"361.0467\" y=\"-590.3\" font-family=\"Times,serif\" font-size=\"14.00\" fill=\"#000000\">1017|2</text>\n</g>\n<!-- 1013&#45;&gt;1017 -->\n<g id=\"edge26\" class=\"edge\">\n<title>1013&#45;&gt;1017</title>\n<path fill=\"none\" stroke=\"#000000\" d=\"M361.0467,-468.2377C361.0467,-492.799 361.0467,-536.7526 361.0467,-565.646\"/>\n<polygon fill=\"#000000\" stroke=\"#000000\" points=\"357.5468,-565.9104 361.0467,-575.9104 364.5468,-565.9104 357.5468,-565.9104\"/>\n</g>\n<!-- 1014&#45;&gt;1016 -->\n<g id=\"edge24\" class=\"edge\">\n<title>1014&#45;&gt;1016</title>\n<path fill=\"none\" stroke=\"#000000\" d=\"M37.0467,-540.1686C37.0467,-547.8691 37.0467,-557.0257 37.0467,-565.5834\"/>\n<polygon fill=\"#000000\" stroke=\"#000000\" points=\"33.5468,-565.5867 37.0467,-575.5867 40.5468,-565.5868 33.5468,-565.5867\"/>\n</g>\n<!-- 1015&#45;&gt;1017 -->\n<g id=\"edge25\" class=\"edge\">\n<title>1015&#45;&gt;1017</title>\n<path fill=\"none\" stroke=\"#000000\" d=\"M175.9942,-532.3159C214.0083,-544.9872 278.5971,-566.5168 320.5329,-580.4954\"/>\n<polygon fill=\"#000000\" stroke=\"#000000\" points=\"319.5629,-583.8613 330.1566,-583.7033 321.7766,-577.2206 319.5629,-583.8613\"/>\n</g>\n<!-- 1019 -->\n<g id=\"node19\" class=\"node\">\n<title>1019</title>\n<ellipse fill=\"none\" stroke=\"#000000\" cx=\"37.0467\" cy=\"-666\" rx=\"37.0935\" ry=\"18\"/>\n<text text-anchor=\"middle\" x=\"37.0467\" y=\"-662.3\" font-family=\"Times,serif\" font-size=\"14.00\" fill=\"#000000\">1019|2</text>\n</g>\n<!-- 1015&#45;&gt;1019 -->\n<g id=\"edge29\" class=\"edge\">\n<title>1015&#45;&gt;1019</title>\n<path fill=\"none\" stroke=\"#000000\" d=\"M132.2336,-539.0842C113.3155,-564.3083 77.7928,-611.6718 55.8992,-640.8634\"/>\n<polygon fill=\"#000000\" stroke=\"#000000\" points=\"53.0432,-638.838 49.8432,-648.9381 58.6432,-643.0381 53.0432,-638.838\"/>\n</g>\n<!-- 1021 -->\n<g id=\"node21\" class=\"node\">\n<title>1021</title>\n<ellipse fill=\"none\" stroke=\"#000000\" cx=\"145.0467\" cy=\"-738\" rx=\"37.0935\" ry=\"18\"/>\n<text text-anchor=\"middle\" x=\"145.0467\" y=\"-734.3\" font-family=\"Times,serif\" font-size=\"14.00\" fill=\"#000000\">1021|2</text>\n</g>\n<!-- 1015&#45;&gt;1021 -->\n<g id=\"edge34\" class=\"edge\">\n<title>1015&#45;&gt;1021</title>\n<path fill=\"none\" stroke=\"#000000\" d=\"M145.0467,-540.0445C145.0467,-577.6062 145.0467,-664.4459 145.0467,-709.5897\"/>\n<polygon fill=\"#000000\" stroke=\"#000000\" points=\"141.5468,-709.8549 145.0467,-719.8549 148.5468,-709.855 141.5468,-709.8549\"/>\n</g>\n<!-- 1016&#45;&gt;1018 -->\n<g id=\"edge27\" class=\"edge\">\n<title>1016&#45;&gt;1018</title>\n<path fill=\"none\" stroke=\"#000000\" d=\"M67.9942,-604.3159C106.0083,-616.9872 170.5971,-638.5168 212.5329,-652.4954\"/>\n<polygon fill=\"#000000\" stroke=\"#000000\" points=\"211.5629,-655.8614 222.1566,-655.7033 213.7766,-649.2206 211.5629,-655.8614\"/>\n</g>\n<!-- 1016&#45;&gt;1019 -->\n<g id=\"edge30\" class=\"edge\">\n<title>1016&#45;&gt;1019</title>\n<path fill=\"none\" stroke=\"#000000\" d=\"M37.0467,-612.1686C37.0467,-619.8691 37.0467,-629.0257 37.0467,-637.5834\"/>\n<polygon fill=\"#000000\" stroke=\"#000000\" points=\"33.5468,-637.5867 37.0467,-647.5867 40.5468,-637.5868 33.5468,-637.5867\"/>\n</g>\n<!-- 1020 -->\n<g id=\"node20\" class=\"node\">\n<title>1020</title>\n<ellipse fill=\"none\" stroke=\"#000000\" cx=\"361.0467\" cy=\"-738\" rx=\"37.0935\" ry=\"18\"/>\n<text text-anchor=\"middle\" x=\"361.0467\" y=\"-734.3\" font-family=\"Times,serif\" font-size=\"14.00\" fill=\"#000000\">1020|2</text>\n</g>\n<!-- 1017&#45;&gt;1020 -->\n<g id=\"edge32\" class=\"edge\">\n<title>1017&#45;&gt;1020</title>\n<path fill=\"none\" stroke=\"#000000\" d=\"M361.0467,-612.2377C361.0467,-636.799 361.0467,-680.7526 361.0467,-709.646\"/>\n<polygon fill=\"#000000\" stroke=\"#000000\" points=\"357.5468,-709.9104 361.0467,-719.9104 364.5468,-709.9104 357.5468,-709.9104\"/>\n</g>\n<!-- 1026 -->\n<g id=\"node26\" class=\"node\">\n<title>1026</title>\n<ellipse fill=\"none\" stroke=\"#000000\" cx=\"361.0467\" cy=\"-954\" rx=\"37.0935\" ry=\"18\"/>\n<text text-anchor=\"middle\" x=\"361.0467\" y=\"-950.3\" font-family=\"Times,serif\" font-size=\"14.00\" fill=\"#000000\">1026|3</text>\n</g>\n<!-- 1018&#45;&gt;1026 -->\n<g id=\"edge43\" class=\"edge\">\n<title>1018&#45;&gt;1026</title>\n<path fill=\"none\" stroke=\"#000000\" d=\"M259.8026,-684.0157C278.0994,-732.8071 328.7076,-867.7623 350.662,-926.3073\"/>\n<polygon fill=\"#000000\" stroke=\"#000000\" points=\"347.5049,-927.8568 354.2934,-935.9911 354.0592,-925.3989 347.5049,-927.8568\"/>\n</g>\n<!-- 1027 -->\n<g id=\"node27\" class=\"node\">\n<title>1027</title>\n<ellipse fill=\"#ff0000\" stroke=\"#ff0000\" cx=\"253.0467\" cy=\"-1026\" rx=\"37.0935\" ry=\"18\"/>\n<text text-anchor=\"middle\" x=\"253.0467\" y=\"-1022.3\" font-family=\"Times,serif\" font-size=\"14.00\" fill=\"#000000\">1027|3</text>\n</g>\n<!-- 1018&#45;&gt;1027 -->\n<g id=\"edge46\" class=\"edge\">\n<title>1018&#45;&gt;1027</title>\n<path fill=\"none\" stroke=\"#000000\" d=\"M253.0467,-684.3474C253.0467,-742.9664 253.0467,-926.0448 253.0467,-997.2571\"/>\n<polygon fill=\"#000000\" stroke=\"#000000\" points=\"249.5468,-997.6895 253.0467,-1007.6896 256.5468,-997.6896 249.5468,-997.6895\"/>\n</g>\n<!-- 1019&#45;&gt;1020 -->\n<g id=\"edge31\" class=\"edge\">\n<title>1019&#45;&gt;1020</title>\n<path fill=\"none\" stroke=\"#000000\" d=\"M70.8035,-673.5015C129.7274,-686.5957 251.3087,-713.6138 316.8577,-728.1802\"/>\n<polygon fill=\"#000000\" stroke=\"#000000\" points=\"316.3575,-731.6544 326.8787,-730.4071 317.8761,-724.8211 316.3575,-731.6544\"/>\n</g>\n<!-- 1019&#45;&gt;1021 -->\n<g id=\"edge33\" class=\"edge\">\n<title>1019&#45;&gt;1021</title>\n<path fill=\"none\" stroke=\"#000000\" d=\"M58.9021,-680.5703C75.0047,-691.3053 97.103,-706.0375 114.8859,-717.8928\"/>\n<polygon fill=\"#000000\" stroke=\"#000000\" points=\"112.9618,-720.8165 123.2238,-723.4514 116.8448,-714.9922 112.9618,-720.8165\"/>\n</g>\n<!-- 1023 -->\n<g id=\"node23\" class=\"node\">\n<title>1023</title>\n<ellipse fill=\"#ff0000\" stroke=\"#ff0000\" cx=\"37.0467\" cy=\"-882\" rx=\"37.0935\" ry=\"18\"/>\n<text text-anchor=\"middle\" x=\"37.0467\" y=\"-878.3\" font-family=\"Times,serif\" font-size=\"14.00\" fill=\"#000000\">1023|3</text>\n</g>\n<!-- 1019&#45;&gt;1023 -->\n<g id=\"edge38\" class=\"edge\">\n<title>1019&#45;&gt;1023</title>\n<path fill=\"none\" stroke=\"#000000\" d=\"M37.0467,-684.0445C37.0467,-721.6062 37.0467,-808.4459 37.0467,-853.5897\"/>\n<polygon fill=\"#000000\" stroke=\"#000000\" points=\"33.5468,-853.8549 37.0467,-863.8549 40.5468,-853.855 33.5468,-853.8549\"/>\n</g>\n<!-- 1022 -->\n<g id=\"node22\" class=\"node\">\n<title>1022</title>\n<ellipse fill=\"#ff0000\" stroke=\"#ff0000\" cx=\"145.0467\" cy=\"-810\" rx=\"37.0935\" ry=\"18\"/>\n<text text-anchor=\"middle\" x=\"145.0467\" y=\"-806.3\" font-family=\"Times,serif\" font-size=\"14.00\" fill=\"#000000\">1022|3</text>\n</g>\n<!-- 1020&#45;&gt;1022 -->\n<g id=\"edge35\" class=\"edge\">\n<title>1020&#45;&gt;1022</title>\n<path fill=\"none\" stroke=\"#000000\" d=\"M330.0992,-748.3159C292.0851,-760.9872 227.4963,-782.5168 185.5605,-796.4954\"/>\n<polygon fill=\"#000000\" stroke=\"#000000\" points=\"184.3169,-793.2206 175.9368,-799.7033 186.5305,-799.8614 184.3169,-793.2206\"/>\n</g>\n<!-- 1024 -->\n<g id=\"node24\" class=\"node\">\n<title>1024</title>\n<ellipse fill=\"#ff0000\" stroke=\"#ff0000\" cx=\"361.0467\" cy=\"-882\" rx=\"37.0935\" ry=\"18\"/>\n<text text-anchor=\"middle\" x=\"361.0467\" y=\"-878.3\" font-family=\"Times,serif\" font-size=\"14.00\" fill=\"#000000\">1024|3</text>\n</g>\n<!-- 1020&#45;&gt;1024 -->\n<g id=\"edge40\" class=\"edge\">\n<title>1020&#45;&gt;1024</title>\n<path fill=\"none\" stroke=\"#000000\" d=\"M361.0467,-756.2377C361.0467,-780.799 361.0467,-824.7526 361.0467,-853.646\"/>\n<polygon fill=\"#000000\" stroke=\"#000000\" points=\"357.5468,-853.9104 361.0467,-863.9104 364.5468,-853.9104 357.5468,-853.9104\"/>\n</g>\n<!-- 1021&#45;&gt;1022 -->\n<g id=\"edge36\" class=\"edge\">\n<title>1021&#45;&gt;1022</title>\n<path fill=\"none\" stroke=\"#000000\" d=\"M145.0467,-756.1687C145.0467,-763.8691 145.0467,-773.0257 145.0467,-781.5834\"/>\n<polygon fill=\"#000000\" stroke=\"#000000\" points=\"141.5468,-781.5867 145.0467,-791.5867 148.5468,-781.5868 141.5468,-781.5867\"/>\n</g>\n<!-- 1022&#45;&gt;1023 -->\n<g id=\"edge37\" class=\"edge\">\n<title>1022&#45;&gt;1023</title>\n<path fill=\"none\" stroke=\"#000000\" d=\"M123.1913,-824.5703C107.0888,-835.3053 84.9905,-850.0375 67.2076,-861.8928\"/>\n<polygon fill=\"#000000\" stroke=\"#000000\" points=\"65.2487,-858.9922 58.8696,-867.4514 69.1316,-864.8165 65.2487,-858.9922\"/>\n</g>\n<!-- 1022&#45;&gt;1024 -->\n<g id=\"edge39\" class=\"edge\">\n<title>1022&#45;&gt;1024</title>\n<path fill=\"none\" stroke=\"#000000\" d=\"M175.9942,-820.3159C214.0083,-832.9872 278.5971,-854.5168 320.5329,-868.4954\"/>\n<polygon fill=\"#000000\" stroke=\"#000000\" points=\"319.5629,-871.8614 330.1566,-871.7033 321.7766,-865.2206 319.5629,-871.8614\"/>\n</g>\n<!-- 1025 -->\n<g id=\"node25\" class=\"node\">\n<title>1025</title>\n<ellipse fill=\"none\" stroke=\"#000000\" cx=\"145.0467\" cy=\"-954\" rx=\"37.0935\" ry=\"18\"/>\n<text text-anchor=\"middle\" x=\"145.0467\" y=\"-950.3\" font-family=\"Times,serif\" font-size=\"14.00\" fill=\"#000000\">1025|3</text>\n</g>\n<!-- 1022&#45;&gt;1025 -->\n<g id=\"edge42\" class=\"edge\">\n<title>1022&#45;&gt;1025</title>\n<path fill=\"none\" stroke=\"#000000\" d=\"M145.0467,-828.2377C145.0467,-852.799 145.0467,-896.7526 145.0467,-925.646\"/>\n<polygon fill=\"#000000\" stroke=\"#000000\" points=\"141.5468,-925.9104 145.0467,-935.9104 148.5468,-925.9104 141.5468,-925.9104\"/>\n</g>\n<!-- 1023&#45;&gt;1025 -->\n<g id=\"edge41\" class=\"edge\">\n<title>1023&#45;&gt;1025</title>\n<path fill=\"none\" stroke=\"#000000\" d=\"M58.9021,-896.5703C75.0047,-907.3053 97.103,-922.0375 114.8859,-933.8928\"/>\n<polygon fill=\"#000000\" stroke=\"#000000\" points=\"112.9618,-936.8165 123.2238,-939.4514 116.8448,-930.9922 112.9618,-936.8165\"/>\n</g>\n<!-- 1028 -->\n<g id=\"node28\" class=\"node\">\n<title>1028</title>\n<ellipse fill=\"none\" stroke=\"#000000\" cx=\"145.0467\" cy=\"-1026\" rx=\"37.0935\" ry=\"18\"/>\n<text text-anchor=\"middle\" x=\"145.0467\" y=\"-1022.3\" font-family=\"Times,serif\" font-size=\"14.00\" fill=\"#000000\">1028|3</text>\n</g>\n<!-- 1023&#45;&gt;1028 -->\n<g id=\"edge47\" class=\"edge\">\n<title>1023&#45;&gt;1028</title>\n<path fill=\"none\" stroke=\"#000000\" d=\"M49.8598,-899.0842C68.7779,-924.3083 104.3006,-971.6718 126.1942,-1000.8634\"/>\n<polygon fill=\"#000000\" stroke=\"#000000\" points=\"123.4502,-1003.0381 132.2503,-1008.9381 129.0502,-998.838 123.4502,-1003.0381\"/>\n</g>\n<!-- 1029 -->\n<g id=\"node29\" class=\"node\">\n<title>1029</title>\n<ellipse fill=\"none\" stroke=\"#000000\" cx=\"37.0467\" cy=\"-1098\" rx=\"37.0935\" ry=\"18\"/>\n<text text-anchor=\"middle\" x=\"37.0467\" y=\"-1094.3\" font-family=\"Times,serif\" font-size=\"14.00\" fill=\"#000000\">1029|3</text>\n</g>\n<!-- 1023&#45;&gt;1029 -->\n<g id=\"edge50\" class=\"edge\">\n<title>1023&#45;&gt;1029</title>\n<path fill=\"none\" stroke=\"#000000\" d=\"M37.0467,-900.0445C37.0467,-937.6062 37.0467,-1024.4459 37.0467,-1069.5897\"/>\n<polygon fill=\"#000000\" stroke=\"#000000\" points=\"33.5468,-1069.8549 37.0467,-1079.8549 40.5468,-1069.855 33.5468,-1069.8549\"/>\n</g>\n<!-- 1024&#45;&gt;1026 -->\n<g id=\"edge44\" class=\"edge\">\n<title>1024&#45;&gt;1026</title>\n<path fill=\"none\" stroke=\"#000000\" d=\"M361.0467,-900.1687C361.0467,-907.8691 361.0467,-917.0257 361.0467,-925.5834\"/>\n<polygon fill=\"#000000\" stroke=\"#000000\" points=\"357.5468,-925.5867 361.0467,-935.5867 364.5468,-925.5868 357.5468,-925.5867\"/>\n</g>\n<!-- 1025&#45;&gt;1028 -->\n<g id=\"edge48\" class=\"edge\">\n<title>1025&#45;&gt;1028</title>\n<path fill=\"none\" stroke=\"#000000\" d=\"M145.0467,-972.1686C145.0467,-979.869 145.0467,-989.0257 145.0467,-997.5834\"/>\n<polygon fill=\"#000000\" stroke=\"#000000\" points=\"141.5468,-997.5867 145.0467,-1007.5867 148.5468,-997.5868 141.5468,-997.5867\"/>\n</g>\n<!-- 1026&#45;&gt;1027 -->\n<g id=\"edge45\" class=\"edge\">\n<title>1026&#45;&gt;1027</title>\n<path fill=\"none\" stroke=\"#000000\" d=\"M339.1913,-968.5703C323.0888,-979.3053 300.9905,-994.0375 283.2076,-1005.8928\"/>\n<polygon fill=\"#000000\" stroke=\"#000000\" points=\"281.2487,-1002.9922 274.8696,-1011.4514 285.1316,-1008.8165 281.2487,-1002.9922\"/>\n</g>\n<!-- 1030 -->\n<g id=\"node30\" class=\"node\">\n<title>1030</title>\n<ellipse fill=\"none\" stroke=\"#000000\" cx=\"145.0467\" cy=\"-1098\" rx=\"37.0935\" ry=\"18\"/>\n<text text-anchor=\"middle\" x=\"145.0467\" y=\"-1094.3\" font-family=\"Times,serif\" font-size=\"14.00\" fill=\"#000000\">1030|3</text>\n</g>\n<!-- 1026&#45;&gt;1030 -->\n<g id=\"edge51\" class=\"edge\">\n<title>1026&#45;&gt;1030</title>\n<path fill=\"none\" stroke=\"#000000\" d=\"M339.1468,-968.5999C300.4155,-994.4208 219.761,-1048.1905 175.589,-1077.6385\"/>\n<polygon fill=\"#000000\" stroke=\"#000000\" points=\"173.3836,-1074.9022 167.0046,-1083.3614 177.2666,-1080.7266 173.3836,-1074.9022\"/>\n</g>\n<!-- 1033 -->\n<g id=\"node33\" class=\"node\">\n<title>1033</title>\n<ellipse fill=\"none\" stroke=\"#000000\" cx=\"361.0467\" cy=\"-1242\" rx=\"37.0935\" ry=\"18\"/>\n<text text-anchor=\"middle\" x=\"361.0467\" y=\"-1238.3\" font-family=\"Times,serif\" font-size=\"14.00\" fill=\"#000000\">1033|3</text>\n</g>\n<!-- 1026&#45;&gt;1033 -->\n<g id=\"edge58\" class=\"edge\">\n<title>1026&#45;&gt;1033</title>\n<path fill=\"none\" stroke=\"#000000\" d=\"M361.0467,-972.0157C361.0467,-1020.7061 361.0467,-1155.2039 361.0467,-1213.9427\"/>\n<polygon fill=\"#000000\" stroke=\"#000000\" points=\"357.5468,-1213.9911 361.0467,-1223.9911 364.5468,-1213.9912 357.5468,-1213.9911\"/>\n</g>\n<!-- 1034 -->\n<g id=\"node34\" class=\"node\">\n<title>1034</title>\n<ellipse fill=\"#ff0000\" stroke=\"#ff0000\" cx=\"361.0467\" cy=\"-1314\" rx=\"37.0935\" ry=\"18\"/>\n<text text-anchor=\"middle\" x=\"361.0467\" y=\"-1310.3\" font-family=\"Times,serif\" font-size=\"14.00\" fill=\"#000000\">1034|4</text>\n</g>\n<!-- 1027&#45;&gt;1034 -->\n<g id=\"edge59\" class=\"edge\">\n<title>1027&#45;&gt;1034</title>\n<path fill=\"none\" stroke=\"#000000\" d=\"M259.8026,-1044.0157C278.0994,-1092.8071 328.7076,-1227.7623 350.662,-1286.3073\"/>\n<polygon fill=\"#000000\" stroke=\"#000000\" points=\"347.5049,-1287.8568 354.2934,-1295.9911 354.0592,-1285.3989 347.5049,-1287.8568\"/>\n</g>\n<!-- 1028&#45;&gt;1029 -->\n<g id=\"edge49\" class=\"edge\">\n<title>1028&#45;&gt;1029</title>\n<path fill=\"none\" stroke=\"#000000\" d=\"M123.1913,-1040.5703C107.0888,-1051.3053 84.9905,-1066.0375 67.2076,-1077.8928\"/>\n<polygon fill=\"#000000\" stroke=\"#000000\" points=\"65.2487,-1074.9922 58.8696,-1083.4514 69.1316,-1080.8165 65.2487,-1074.9922\"/>\n</g>\n<!-- 1028&#45;&gt;1030 -->\n<g id=\"edge52\" class=\"edge\">\n<title>1028&#45;&gt;1030</title>\n<path fill=\"none\" stroke=\"#000000\" d=\"M145.0467,-1044.1686C145.0467,-1051.869 145.0467,-1061.0257 145.0467,-1069.5834\"/>\n<polygon fill=\"#000000\" stroke=\"#000000\" points=\"141.5468,-1069.5867 145.0467,-1079.5867 148.5468,-1069.5868 141.5468,-1069.5867\"/>\n</g>\n<!-- 1031 -->\n<g id=\"node31\" class=\"node\">\n<title>1031</title>\n<ellipse fill=\"none\" stroke=\"#000000\" cx=\"37.0467\" cy=\"-1170\" rx=\"37.0935\" ry=\"18\"/>\n<text text-anchor=\"middle\" x=\"37.0467\" y=\"-1166.3\" font-family=\"Times,serif\" font-size=\"14.00\" fill=\"#000000\">1031|3</text>\n</g>\n<!-- 1029&#45;&gt;1031 -->\n<g id=\"edge54\" class=\"edge\">\n<title>1029&#45;&gt;1031</title>\n<path fill=\"none\" stroke=\"#000000\" d=\"M37.0467,-1116.1686C37.0467,-1123.869 37.0467,-1133.0257 37.0467,-1141.5834\"/>\n<polygon fill=\"#000000\" stroke=\"#000000\" points=\"33.5468,-1141.5867 37.0467,-1151.5867 40.5468,-1141.5868 33.5468,-1141.5867\"/>\n</g>\n<!-- 1030&#45;&gt;1031 -->\n<g id=\"edge53\" class=\"edge\">\n<title>1030&#45;&gt;1031</title>\n<path fill=\"none\" stroke=\"#000000\" d=\"M123.1913,-1112.5703C107.0888,-1123.3053 84.9905,-1138.0375 67.2076,-1149.8928\"/>\n<polygon fill=\"#000000\" stroke=\"#000000\" points=\"65.2487,-1146.9922 58.8696,-1155.4514 69.1316,-1152.8165 65.2487,-1146.9922\"/>\n</g>\n<!-- 1032 -->\n<g id=\"node32\" class=\"node\">\n<title>1032</title>\n<ellipse fill=\"none\" stroke=\"#000000\" cx=\"145.0467\" cy=\"-1242\" rx=\"37.0935\" ry=\"18\"/>\n<text text-anchor=\"middle\" x=\"145.0467\" y=\"-1238.3\" font-family=\"Times,serif\" font-size=\"14.00\" fill=\"#000000\">1032|3</text>\n</g>\n<!-- 1030&#45;&gt;1032 -->\n<g id=\"edge56\" class=\"edge\">\n<title>1030&#45;&gt;1032</title>\n<path fill=\"none\" stroke=\"#000000\" d=\"M145.0467,-1116.2377C145.0467,-1140.799 145.0467,-1184.7526 145.0467,-1213.6459\"/>\n<polygon fill=\"#000000\" stroke=\"#000000\" points=\"141.5468,-1213.9103 145.0467,-1223.9104 148.5468,-1213.9104 141.5468,-1213.9103\"/>\n</g>\n<!-- 1030&#45;&gt;1033 -->\n<g id=\"edge57\" class=\"edge\">\n<title>1030&#45;&gt;1033</title>\n<path fill=\"none\" stroke=\"#000000\" d=\"M166.9466,-1112.5999C205.6779,-1138.4208 286.3324,-1192.1905 330.5044,-1221.6385\"/>\n<polygon fill=\"#000000\" stroke=\"#000000\" points=\"328.8268,-1224.7266 339.0888,-1227.3614 332.7098,-1218.9022 328.8268,-1224.7266\"/>\n</g>\n<!-- 1031&#45;&gt;1032 -->\n<g id=\"edge55\" class=\"edge\">\n<title>1031&#45;&gt;1032</title>\n<path fill=\"none\" stroke=\"#000000\" d=\"M58.9021,-1184.5703C75.0047,-1195.3053 97.103,-1210.0375 114.8859,-1221.8928\"/>\n<polygon fill=\"#000000\" stroke=\"#000000\" points=\"112.9618,-1224.8165 123.2238,-1227.4514 116.8448,-1218.9922 112.9618,-1224.8165\"/>\n</g>\n<!-- 1035 -->\n<g id=\"node35\" class=\"node\">\n<title>1035</title>\n<ellipse fill=\"#ff0000\" stroke=\"#ff0000\" cx=\"145.0467\" cy=\"-1386\" rx=\"37.0935\" ry=\"18\"/>\n<text text-anchor=\"middle\" x=\"145.0467\" y=\"-1382.3\" font-family=\"Times,serif\" font-size=\"14.00\" fill=\"#000000\">1035|4</text>\n</g>\n<!-- 1032&#45;&gt;1035 -->\n<g id=\"edge62\" class=\"edge\">\n<title>1032&#45;&gt;1035</title>\n<path fill=\"none\" stroke=\"#000000\" d=\"M145.0467,-1260.2377C145.0467,-1284.799 145.0467,-1328.7526 145.0467,-1357.6459\"/>\n<polygon fill=\"#000000\" stroke=\"#000000\" points=\"141.5468,-1357.9103 145.0467,-1367.9104 148.5468,-1357.9104 141.5468,-1357.9103\"/>\n</g>\n<!-- 1033&#45;&gt;1034 -->\n<g id=\"edge60\" class=\"edge\">\n<title>1033&#45;&gt;1034</title>\n<path fill=\"none\" stroke=\"#000000\" d=\"M361.0467,-1260.1686C361.0467,-1267.869 361.0467,-1277.0257 361.0467,-1285.5834\"/>\n<polygon fill=\"#000000\" stroke=\"#000000\" points=\"357.5468,-1285.5867 361.0467,-1295.5867 364.5468,-1285.5868 357.5468,-1285.5867\"/>\n</g>\n<!-- 1034&#45;&gt;1035 -->\n<g id=\"edge61\" class=\"edge\">\n<title>1034&#45;&gt;1035</title>\n<path fill=\"none\" stroke=\"#000000\" d=\"M330.0992,-1324.3158C292.0851,-1336.9872 227.4963,-1358.5168 185.5605,-1372.4954\"/>\n<polygon fill=\"#000000\" stroke=\"#000000\" points=\"184.3169,-1369.2206 175.9368,-1375.7033 186.5305,-1375.8613 184.3169,-1369.2206\"/>\n</g>\n</g>\n</svg>\n"
          },
          "metadata": {},
          "execution_count": 40
        }
      ]
    },
    {
      "cell_type": "markdown",
      "source": [
        "The above image shows the state of the hashgraph after the divide rounds procedure. Each witness has been assigned the value of fame. <br>\n",
        "The witnesses in red have undecided fame.<br>\n",
        "The witnesses in green are famous.<br>\n",
        "The witnesses in blue are not famous.\n"
      ],
      "metadata": {
        "id": "lhNKLoctRmis"
      }
    },
    {
      "cell_type": "code",
      "source": [
        "order = find_order()"
      ],
      "metadata": {
        "id": "msz-62mooRuy"
      },
      "execution_count": null,
      "outputs": []
    },
    {
      "cell_type": "code",
      "source": [
        "from IPython.display import Javascript\n",
        "display(Javascript('''google.colab.output.setIframeHeight(0, true, {maxHeight: 5000})'''))\n",
        "\n",
        "g = graphviz.Digraph('G', filename = \"find_order_output\", engine=\"neato\")\n",
        "\n",
        "for event in events:\n",
        "  if event.round_received:\n",
        "    g.node(str(event.event_id), label=f\"{event.event_id}|{event.round_received}|{event.consensus_timestamp}\", pos=f\"{event.node_id*2},{event.timestamp}!\", color=\"grey\", style=\"filled\")\n",
        "  elif event.witness:\n",
        "    if event.famous == famous.YES:\n",
        "      g.node(str(event.event_id), label=f\"{event.event_id}|{event.round}\", pos=f\"{event.node_id*2},{event.timestamp}!\", color=\"green\", style=\"filled\")\n",
        "    elif event.famous == famous.NO:\n",
        "      g.node(str(event.event_id), label=f\"{event.event_id}|{event.round}\", pos=f\"{event.node_id*2},{event.timestamp}!\", color=\"blue\", style=\"filled\")\n",
        "    elif event.famous == famous.UNDECIDED:\n",
        "      g.node(str(event.event_id), label=f\"{event.event_id}|{event.round}\", pos=f\"{event.node_id*2},{event.timestamp}!\", color=\"red\", style=\"filled\")\n",
        "  else:\n",
        "    g.node(str(event.event_id), label=f\"{event.event_id}|{event.round}\", pos=f\"{event.node_id*2},{event.timestamp}!\")\n",
        "\n",
        "\n",
        "for event in events:\n",
        "  op = event_id_to_event_obj_map.get(event.parent_event_id)\n",
        "  sp = event_id_to_event_obj_map.get(event.self_parent_event_id)\n",
        "  if op:\n",
        "    g.edge(f\"{op.event_id}\", f\"{event.event_id}\")\n",
        "  if sp:\n",
        "    g.edge(f\"{sp.event_id}\", f\"{event.event_id}\")\n",
        "       \n",
        "g"
      ],
      "metadata": {
        "colab": {
          "base_uri": "https://localhost:8080/",
          "height": 1903
        },
        "id": "BvWMcAJ_Ws0G",
        "outputId": "506236c3-8b03-4ee1-c8a7-ca882d940f2d"
      },
      "execution_count": null,
      "outputs": [
        {
          "output_type": "display_data",
          "data": {
            "text/plain": [
              "<IPython.core.display.Javascript object>"
            ],
            "application/javascript": [
              "google.colab.output.setIframeHeight(0, true, {maxHeight: 5000})"
            ]
          },
          "metadata": {}
        },
        {
          "output_type": "execute_result",
          "data": {
            "text/plain": [
              "<graphviz.dot.Digraph at 0x7fb4d8b9acd0>"
            ],
            "image/svg+xml": "<?xml version=\"1.0\" encoding=\"UTF-8\" standalone=\"no\"?>\n<!DOCTYPE svg PUBLIC \"-//W3C//DTD SVG 1.1//EN\"\n \"http://www.w3.org/Graphics/SVG/1.1/DTD/svg11.dtd\">\n<!-- Generated by graphviz version 2.40.1 (20161225.0304)\n -->\n<!-- Title: G Pages: 1 -->\n<svg width=\"528pt\" height=\"1412pt\"\n viewBox=\"0.00 0.00 528.39 1412.00\" xmlns=\"http://www.w3.org/2000/svg\" xmlns:xlink=\"http://www.w3.org/1999/xlink\">\n<g id=\"graph0\" class=\"graph\" transform=\"scale(1 1) rotate(0) translate(4 1408)\">\n<title>G</title>\n<polygon fill=\"#ffffff\" stroke=\"transparent\" points=\"-4,4 -4,-1408 524.3922,-1408 524.3922,4 -4,4\"/>\n<!-- 1001 -->\n<g id=\"node1\" class=\"node\">\n<title>1001</title>\n<ellipse fill=\"#c0c0c0\" stroke=\"#c0c0c0\" cx=\"44.1961\" cy=\"-18\" rx=\"44.393\" ry=\"18\"/>\n<text text-anchor=\"middle\" x=\"44.1961\" y=\"-14.3\" font-family=\"Times,serif\" font-size=\"14.00\" fill=\"#000000\">1001|2|6</text>\n</g>\n<!-- 1009 -->\n<g id=\"node9\" class=\"node\">\n<title>1009</title>\n<ellipse fill=\"#c0c0c0\" stroke=\"#c0c0c0\" cx=\"44.1961\" cy=\"-234\" rx=\"44.393\" ry=\"18\"/>\n<text text-anchor=\"middle\" x=\"44.1961\" y=\"-230.3\" font-family=\"Times,serif\" font-size=\"14.00\" fill=\"#000000\">1009|2|6</text>\n</g>\n<!-- 1001&#45;&gt;1009 -->\n<g id=\"edge10\" class=\"edge\">\n<title>1001&#45;&gt;1009</title>\n<path fill=\"none\" stroke=\"#000000\" d=\"M44.1961,-36.0445C44.1961,-73.6062 44.1961,-160.4459 44.1961,-205.5897\"/>\n<polygon fill=\"#000000\" stroke=\"#000000\" points=\"40.6962,-205.8549 44.1961,-215.8549 47.6962,-205.855 40.6962,-205.8549\"/>\n</g>\n<!-- 1002 -->\n<g id=\"node2\" class=\"node\">\n<title>1002</title>\n<ellipse fill=\"#c0c0c0\" stroke=\"#c0c0c0\" cx=\"188.1961\" cy=\"-18\" rx=\"44.393\" ry=\"18\"/>\n<text text-anchor=\"middle\" x=\"188.1961\" y=\"-14.3\" font-family=\"Times,serif\" font-size=\"14.00\" fill=\"#000000\">1002|2|1</text>\n</g>\n<!-- 1005 -->\n<g id=\"node5\" class=\"node\">\n<title>1005</title>\n<ellipse fill=\"#c0c0c0\" stroke=\"#c0c0c0\" cx=\"476.1961\" cy=\"-90\" rx=\"44.393\" ry=\"18\"/>\n<text text-anchor=\"middle\" x=\"476.1961\" y=\"-86.3\" font-family=\"Times,serif\" font-size=\"14.00\" fill=\"#000000\">1005|2|2</text>\n</g>\n<!-- 1002&#45;&gt;1005 -->\n<g id=\"edge1\" class=\"edge\">\n<title>1002&#45;&gt;1005</title>\n<path fill=\"none\" stroke=\"#000000\" d=\"M226.1432,-27.4868C278.1603,-40.491 371.6067,-63.8527 428.3567,-78.0401\"/>\n<polygon fill=\"#000000\" stroke=\"#000000\" points=\"427.6146,-81.4623 438.1649,-80.4922 429.3124,-74.6713 427.6146,-81.4623\"/>\n</g>\n<!-- 1006 -->\n<g id=\"node6\" class=\"node\">\n<title>1006</title>\n<ellipse fill=\"#c0c0c0\" stroke=\"#c0c0c0\" cx=\"188.1961\" cy=\"-162\" rx=\"44.393\" ry=\"18\"/>\n<text text-anchor=\"middle\" x=\"188.1961\" y=\"-158.3\" font-family=\"Times,serif\" font-size=\"14.00\" fill=\"#000000\">1006|2|3</text>\n</g>\n<!-- 1002&#45;&gt;1006 -->\n<g id=\"edge4\" class=\"edge\">\n<title>1002&#45;&gt;1006</title>\n<path fill=\"none\" stroke=\"#000000\" d=\"M188.1961,-36.2377C188.1961,-60.799 188.1961,-104.7526 188.1961,-133.6459\"/>\n<polygon fill=\"#000000\" stroke=\"#000000\" points=\"184.6962,-133.9103 188.1961,-143.9104 191.6962,-133.9104 184.6962,-133.9103\"/>\n</g>\n<!-- 1003 -->\n<g id=\"node3\" class=\"node\">\n<title>1003</title>\n<ellipse fill=\"#c0c0c0\" stroke=\"#c0c0c0\" cx=\"332.1961\" cy=\"-18\" rx=\"44.393\" ry=\"18\"/>\n<text text-anchor=\"middle\" x=\"332.1961\" y=\"-14.3\" font-family=\"Times,serif\" font-size=\"14.00\" fill=\"#000000\">1003|2|4</text>\n</g>\n<!-- 1008 -->\n<g id=\"node8\" class=\"node\">\n<title>1008</title>\n<ellipse fill=\"#c0c0c0\" stroke=\"#c0c0c0\" cx=\"188.1961\" cy=\"-234\" rx=\"44.393\" ry=\"18\"/>\n<text text-anchor=\"middle\" x=\"188.1961\" y=\"-230.3\" font-family=\"Times,serif\" font-size=\"14.00\" fill=\"#000000\">1008|2|4</text>\n</g>\n<!-- 1003&#45;&gt;1008 -->\n<g id=\"edge7\" class=\"edge\">\n<title>1003&#45;&gt;1008</title>\n<path fill=\"none\" stroke=\"#000000\" d=\"M320.4119,-35.6762C295.0869,-73.6638 235.3651,-163.2465 205.6371,-207.8384\"/>\n<polygon fill=\"#000000\" stroke=\"#000000\" points=\"202.5759,-206.1205 199.9411,-216.3825 208.4003,-210.0035 202.5759,-206.1205\"/>\n</g>\n<!-- 1011 -->\n<g id=\"node11\" class=\"node\">\n<title>1011</title>\n<ellipse fill=\"none\" stroke=\"#000000\" cx=\"332.1961\" cy=\"-306\" rx=\"36.2938\" ry=\"18\"/>\n<text text-anchor=\"middle\" x=\"332.1961\" y=\"-302.3\" font-family=\"Times,serif\" font-size=\"14.00\" fill=\"#000000\">1011|1</text>\n</g>\n<!-- 1003&#45;&gt;1011 -->\n<g id=\"edge14\" class=\"edge\">\n<title>1003&#45;&gt;1011</title>\n<path fill=\"none\" stroke=\"#000000\" d=\"M332.1961,-36.0157C332.1961,-84.7061 332.1961,-219.2039 332.1961,-277.9427\"/>\n<polygon fill=\"#000000\" stroke=\"#000000\" points=\"328.6962,-277.9911 332.1961,-287.9911 335.6962,-277.9912 328.6962,-277.9911\"/>\n</g>\n<!-- 1004 -->\n<g id=\"node4\" class=\"node\">\n<title>1004</title>\n<ellipse fill=\"#c0c0c0\" stroke=\"#c0c0c0\" cx=\"476.1961\" cy=\"-18\" rx=\"44.393\" ry=\"18\"/>\n<text text-anchor=\"middle\" x=\"476.1961\" y=\"-14.3\" font-family=\"Times,serif\" font-size=\"14.00\" fill=\"#000000\">1004|2|2</text>\n</g>\n<!-- 1004&#45;&gt;1005 -->\n<g id=\"edge2\" class=\"edge\">\n<title>1004&#45;&gt;1005</title>\n<path fill=\"none\" stroke=\"#000000\" d=\"M476.1961,-36.1686C476.1961,-43.869 476.1961,-53.0257 476.1961,-61.5834\"/>\n<polygon fill=\"#000000\" stroke=\"#000000\" points=\"472.6962,-61.5867 476.1961,-71.5867 479.6962,-61.5868 472.6962,-61.5867\"/>\n</g>\n<!-- 1005&#45;&gt;1006 -->\n<g id=\"edge3\" class=\"edge\">\n<title>1005&#45;&gt;1006</title>\n<path fill=\"none\" stroke=\"#000000\" d=\"M438.249,-99.4868C386.2319,-112.491 292.7854,-135.8527 236.0355,-150.0401\"/>\n<polygon fill=\"#000000\" stroke=\"#000000\" points=\"235.0798,-146.6713 226.2272,-152.4922 236.7776,-153.4623 235.0798,-146.6713\"/>\n</g>\n<!-- 1007 -->\n<g id=\"node7\" class=\"node\">\n<title>1007</title>\n<ellipse fill=\"#c0c0c0\" stroke=\"#c0c0c0\" cx=\"476.1961\" cy=\"-234\" rx=\"44.393\" ry=\"18\"/>\n<text text-anchor=\"middle\" x=\"476.1961\" y=\"-230.3\" font-family=\"Times,serif\" font-size=\"14.00\" fill=\"#000000\">1007|2|5</text>\n</g>\n<!-- 1005&#45;&gt;1007 -->\n<g id=\"edge6\" class=\"edge\">\n<title>1005&#45;&gt;1007</title>\n<path fill=\"none\" stroke=\"#000000\" d=\"M476.1961,-108.2377C476.1961,-132.799 476.1961,-176.7526 476.1961,-205.6459\"/>\n<polygon fill=\"#000000\" stroke=\"#000000\" points=\"472.6962,-205.9103 476.1961,-215.9104 479.6962,-205.9104 472.6962,-205.9103\"/>\n</g>\n<!-- 1006&#45;&gt;1007 -->\n<g id=\"edge5\" class=\"edge\">\n<title>1006&#45;&gt;1007</title>\n<path fill=\"none\" stroke=\"#000000\" d=\"M226.1432,-171.4868C278.1603,-184.491 371.6067,-207.8527 428.3567,-222.0401\"/>\n<polygon fill=\"#000000\" stroke=\"#000000\" points=\"427.6146,-225.4623 438.1649,-224.4922 429.3124,-218.6713 427.6146,-225.4623\"/>\n</g>\n<!-- 1006&#45;&gt;1008 -->\n<g id=\"edge8\" class=\"edge\">\n<title>1006&#45;&gt;1008</title>\n<path fill=\"none\" stroke=\"#000000\" d=\"M188.1961,-180.1686C188.1961,-187.869 188.1961,-197.0257 188.1961,-205.5834\"/>\n<polygon fill=\"#000000\" stroke=\"#000000\" points=\"184.6962,-205.5867 188.1961,-215.5867 191.6962,-205.5868 184.6962,-205.5867\"/>\n</g>\n<!-- 1006&#45;&gt;1009 -->\n<g id=\"edge9\" class=\"edge\">\n<title>1006&#45;&gt;1009</title>\n<path fill=\"none\" stroke=\"#000000\" d=\"M160.0896,-176.0532C137.5907,-187.3027 105.845,-203.1755 81.2665,-215.4648\"/>\n<polygon fill=\"#000000\" stroke=\"#000000\" points=\"79.6107,-212.3795 72.2317,-219.9822 82.7412,-218.6405 79.6107,-212.3795\"/>\n</g>\n<!-- 1010 -->\n<g id=\"node10\" class=\"node\">\n<title>1010</title>\n<ellipse fill=\"#c0c0c0\" stroke=\"#c0c0c0\" cx=\"476.1961\" cy=\"-306\" rx=\"44.393\" ry=\"18\"/>\n<text text-anchor=\"middle\" x=\"476.1961\" y=\"-302.3\" font-family=\"Times,serif\" font-size=\"14.00\" fill=\"#000000\">1010|2|5</text>\n</g>\n<!-- 1007&#45;&gt;1010 -->\n<g id=\"edge12\" class=\"edge\">\n<title>1007&#45;&gt;1010</title>\n<path fill=\"none\" stroke=\"#000000\" d=\"M476.1961,-252.1686C476.1961,-259.869 476.1961,-269.0257 476.1961,-277.5834\"/>\n<polygon fill=\"#000000\" stroke=\"#000000\" points=\"472.6962,-277.5867 476.1961,-287.5867 479.6962,-277.5868 472.6962,-277.5867\"/>\n</g>\n<!-- 1008&#45;&gt;1010 -->\n<g id=\"edge11\" class=\"edge\">\n<title>1008&#45;&gt;1010</title>\n<path fill=\"none\" stroke=\"#000000\" d=\"M226.1432,-243.4868C278.1603,-256.491 371.6067,-279.8527 428.3567,-294.0401\"/>\n<polygon fill=\"#000000\" stroke=\"#000000\" points=\"427.6146,-297.4623 438.1649,-296.4922 429.3124,-290.6713 427.6146,-297.4623\"/>\n</g>\n<!-- 1008&#45;&gt;1011 -->\n<g id=\"edge13\" class=\"edge\">\n<title>1008&#45;&gt;1011</title>\n<path fill=\"none\" stroke=\"#000000\" d=\"M216.3026,-248.0532C239.5272,-259.6656 272.6048,-276.2044 297.4813,-288.6426\"/>\n<polygon fill=\"#000000\" stroke=\"#000000\" points=\"296.0667,-291.8484 306.5762,-293.1901 299.1972,-285.5874 296.0667,-291.8484\"/>\n</g>\n<!-- 1012 -->\n<g id=\"node12\" class=\"node\">\n<title>1012</title>\n<ellipse fill=\"none\" stroke=\"#000000\" cx=\"188.1961\" cy=\"-378\" rx=\"37.0935\" ry=\"18\"/>\n<text text-anchor=\"middle\" x=\"188.1961\" y=\"-374.3\" font-family=\"Times,serif\" font-size=\"14.00\" fill=\"#000000\">1012|1</text>\n</g>\n<!-- 1008&#45;&gt;1012 -->\n<g id=\"edge16\" class=\"edge\">\n<title>1008&#45;&gt;1012</title>\n<path fill=\"none\" stroke=\"#000000\" d=\"M188.1961,-252.2377C188.1961,-276.799 188.1961,-320.7526 188.1961,-349.646\"/>\n<polygon fill=\"#000000\" stroke=\"#000000\" points=\"184.6962,-349.9104 188.1961,-359.9104 191.6962,-349.9104 184.6962,-349.9104\"/>\n</g>\n<!-- 1013 -->\n<g id=\"node13\" class=\"node\">\n<title>1013</title>\n<ellipse fill=\"#c0c0c0\" stroke=\"#c0c0c0\" cx=\"476.1961\" cy=\"-450\" rx=\"44.393\" ry=\"18\"/>\n<text text-anchor=\"middle\" x=\"476.1961\" y=\"-446.3\" font-family=\"Times,serif\" font-size=\"14.00\" fill=\"#000000\">1013|2|7</text>\n</g>\n<!-- 1009&#45;&gt;1013 -->\n<g id=\"edge17\" class=\"edge\">\n<title>1009&#45;&gt;1013</title>\n<path fill=\"none\" stroke=\"#000000\" d=\"M72.2079,-248.0059C147.5377,-285.6708 354.4711,-389.1375 439.2426,-431.5233\"/>\n<polygon fill=\"#000000\" stroke=\"#000000\" points=\"437.7382,-434.6841 448.2477,-436.0258 440.8687,-428.4232 437.7382,-434.6841\"/>\n</g>\n<!-- 1014 -->\n<g id=\"node14\" class=\"node\">\n<title>1014</title>\n<ellipse fill=\"#00ff00\" stroke=\"#00ff00\" cx=\"44.1961\" cy=\"-522\" rx=\"37.0935\" ry=\"18\"/>\n<text text-anchor=\"middle\" x=\"44.1961\" y=\"-518.3\" font-family=\"Times,serif\" font-size=\"14.00\" fill=\"#000000\">1014|2</text>\n</g>\n<!-- 1009&#45;&gt;1014 -->\n<g id=\"edge20\" class=\"edge\">\n<title>1009&#45;&gt;1014</title>\n<path fill=\"none\" stroke=\"#000000\" d=\"M44.1961,-252.0157C44.1961,-300.7061 44.1961,-435.2039 44.1961,-493.9427\"/>\n<polygon fill=\"#000000\" stroke=\"#000000\" points=\"40.6962,-493.9911 44.1961,-503.9911 47.6962,-493.9912 40.6962,-493.9911\"/>\n</g>\n<!-- 1010&#45;&gt;1012 -->\n<g id=\"edge15\" class=\"edge\">\n<title>1010&#45;&gt;1012</title>\n<path fill=\"none\" stroke=\"#000000\" d=\"M438.249,-315.4868C384.7578,-328.8596 287.4561,-353.185 231.3012,-367.2237\"/>\n<polygon fill=\"#000000\" stroke=\"#000000\" points=\"230.1671,-363.8995 221.3146,-369.7204 231.8649,-370.6905 230.1671,-363.8995\"/>\n</g>\n<!-- 1010&#45;&gt;1013 -->\n<g id=\"edge18\" class=\"edge\">\n<title>1010&#45;&gt;1013</title>\n<path fill=\"none\" stroke=\"#000000\" d=\"M476.1961,-324.2377C476.1961,-348.799 476.1961,-392.7526 476.1961,-421.646\"/>\n<polygon fill=\"#000000\" stroke=\"#000000\" points=\"472.6962,-421.9104 476.1961,-431.9104 479.6962,-421.9104 472.6962,-421.9104\"/>\n</g>\n<!-- 1016 -->\n<g id=\"node16\" class=\"node\">\n<title>1016</title>\n<ellipse fill=\"none\" stroke=\"#000000\" cx=\"44.1961\" cy=\"-594\" rx=\"37.0935\" ry=\"18\"/>\n<text text-anchor=\"middle\" x=\"44.1961\" y=\"-590.3\" font-family=\"Times,serif\" font-size=\"14.00\" fill=\"#000000\">1016|2</text>\n</g>\n<!-- 1011&#45;&gt;1016 -->\n<g id=\"edge23\" class=\"edge\">\n<title>1011&#45;&gt;1016</title>\n<path fill=\"none\" stroke=\"#000000\" d=\"M315.8868,-322.3093C267.4876,-370.7084 124.5252,-513.6708 67.7879,-570.4082\"/>\n<polygon fill=\"#000000\" stroke=\"#000000\" points=\"65.2797,-567.9666 60.6835,-577.5126 70.2295,-572.9164 65.2797,-567.9666\"/>\n</g>\n<!-- 1018 -->\n<g id=\"node18\" class=\"node\">\n<title>1018</title>\n<ellipse fill=\"#0000ff\" stroke=\"#0000ff\" cx=\"332.1961\" cy=\"-666\" rx=\"37.0935\" ry=\"18\"/>\n<text text-anchor=\"middle\" x=\"332.1961\" y=\"-662.3\" font-family=\"Times,serif\" font-size=\"14.00\" fill=\"#000000\">1018|2</text>\n</g>\n<!-- 1011&#45;&gt;1018 -->\n<g id=\"edge28\" class=\"edge\">\n<title>1011&#45;&gt;1018</title>\n<path fill=\"none\" stroke=\"#000000\" d=\"M332.1961,-324.3474C332.1961,-382.9664 332.1961,-566.0448 332.1961,-637.2571\"/>\n<polygon fill=\"#000000\" stroke=\"#000000\" points=\"328.6962,-637.6895 332.1961,-647.6896 335.6962,-637.6896 328.6962,-637.6895\"/>\n</g>\n<!-- 1015 -->\n<g id=\"node15\" class=\"node\">\n<title>1015</title>\n<ellipse fill=\"#00ff00\" stroke=\"#00ff00\" cx=\"188.1961\" cy=\"-522\" rx=\"37.0935\" ry=\"18\"/>\n<text text-anchor=\"middle\" x=\"188.1961\" y=\"-518.3\" font-family=\"Times,serif\" font-size=\"14.00\" fill=\"#000000\">1015|2</text>\n</g>\n<!-- 1012&#45;&gt;1015 -->\n<g id=\"edge22\" class=\"edge\">\n<title>1012&#45;&gt;1015</title>\n<path fill=\"none\" stroke=\"#000000\" d=\"M188.1961,-396.2377C188.1961,-420.799 188.1961,-464.7526 188.1961,-493.646\"/>\n<polygon fill=\"#000000\" stroke=\"#000000\" points=\"184.6962,-493.9104 188.1961,-503.9104 191.6962,-493.9104 184.6962,-493.9104\"/>\n</g>\n<!-- 1013&#45;&gt;1014 -->\n<g id=\"edge19\" class=\"edge\">\n<title>1013&#45;&gt;1014</title>\n<path fill=\"none\" stroke=\"#000000\" d=\"M435.1651,-456.8385C354.0904,-470.351 173.9237,-500.3787 89.4977,-514.4497\"/>\n<polygon fill=\"#000000\" stroke=\"#000000\" points=\"88.736,-511.0283 79.4475,-516.1248 89.8869,-517.9331 88.736,-511.0283\"/>\n</g>\n<!-- 1013&#45;&gt;1015 -->\n<g id=\"edge21\" class=\"edge\">\n<title>1013&#45;&gt;1015</title>\n<path fill=\"none\" stroke=\"#000000\" d=\"M438.249,-459.4868C384.7578,-472.8596 287.4561,-497.185 231.3012,-511.2237\"/>\n<polygon fill=\"#000000\" stroke=\"#000000\" points=\"230.1671,-507.8995 221.3146,-513.7204 231.8649,-514.6905 230.1671,-507.8995\"/>\n</g>\n<!-- 1017 -->\n<g id=\"node17\" class=\"node\">\n<title>1017</title>\n<ellipse fill=\"none\" stroke=\"#000000\" cx=\"476.1961\" cy=\"-594\" rx=\"37.0935\" ry=\"18\"/>\n<text text-anchor=\"middle\" x=\"476.1961\" y=\"-590.3\" font-family=\"Times,serif\" font-size=\"14.00\" fill=\"#000000\">1017|2</text>\n</g>\n<!-- 1013&#45;&gt;1017 -->\n<g id=\"edge26\" class=\"edge\">\n<title>1013&#45;&gt;1017</title>\n<path fill=\"none\" stroke=\"#000000\" d=\"M476.1961,-468.2377C476.1961,-492.799 476.1961,-536.7526 476.1961,-565.646\"/>\n<polygon fill=\"#000000\" stroke=\"#000000\" points=\"472.6962,-565.9104 476.1961,-575.9104 479.6962,-565.9104 472.6962,-565.9104\"/>\n</g>\n<!-- 1014&#45;&gt;1016 -->\n<g id=\"edge24\" class=\"edge\">\n<title>1014&#45;&gt;1016</title>\n<path fill=\"none\" stroke=\"#000000\" d=\"M44.1961,-540.1686C44.1961,-547.8691 44.1961,-557.0257 44.1961,-565.5834\"/>\n<polygon fill=\"#000000\" stroke=\"#000000\" points=\"40.6962,-565.5867 44.1961,-575.5867 47.6962,-565.5868 40.6962,-565.5867\"/>\n</g>\n<!-- 1015&#45;&gt;1017 -->\n<g id=\"edge25\" class=\"edge\">\n<title>1015&#45;&gt;1017</title>\n<path fill=\"none\" stroke=\"#000000\" d=\"M221.2333,-530.2593C273.5015,-543.3264 375.2593,-568.7658 433.1658,-583.2424\"/>\n<polygon fill=\"#000000\" stroke=\"#000000\" points=\"432.5514,-586.6965 443.1017,-585.7264 434.2492,-579.9055 432.5514,-586.6965\"/>\n</g>\n<!-- 1019 -->\n<g id=\"node19\" class=\"node\">\n<title>1019</title>\n<ellipse fill=\"none\" stroke=\"#000000\" cx=\"44.1961\" cy=\"-666\" rx=\"37.0935\" ry=\"18\"/>\n<text text-anchor=\"middle\" x=\"44.1961\" y=\"-662.3\" font-family=\"Times,serif\" font-size=\"14.00\" fill=\"#000000\">1019|2</text>\n</g>\n<!-- 1015&#45;&gt;1019 -->\n<g id=\"edge29\" class=\"edge\">\n<title>1015&#45;&gt;1019</title>\n<path fill=\"none\" stroke=\"#000000\" d=\"M171.9574,-538.2387C146.5697,-563.6264 97.3495,-612.8465 67.967,-642.2291\"/>\n<polygon fill=\"#000000\" stroke=\"#000000\" points=\"65.1926,-640.0537 60.5964,-649.5997 70.1424,-645.0035 65.1926,-640.0537\"/>\n</g>\n<!-- 1021 -->\n<g id=\"node21\" class=\"node\">\n<title>1021</title>\n<ellipse fill=\"none\" stroke=\"#000000\" cx=\"188.1961\" cy=\"-738\" rx=\"37.0935\" ry=\"18\"/>\n<text text-anchor=\"middle\" x=\"188.1961\" y=\"-734.3\" font-family=\"Times,serif\" font-size=\"14.00\" fill=\"#000000\">1021|2</text>\n</g>\n<!-- 1015&#45;&gt;1021 -->\n<g id=\"edge34\" class=\"edge\">\n<title>1015&#45;&gt;1021</title>\n<path fill=\"none\" stroke=\"#000000\" d=\"M188.1961,-540.0445C188.1961,-577.6062 188.1961,-664.4459 188.1961,-709.5897\"/>\n<polygon fill=\"#000000\" stroke=\"#000000\" points=\"184.6962,-709.8549 188.1961,-719.8549 191.6962,-709.855 184.6962,-709.8549\"/>\n</g>\n<!-- 1016&#45;&gt;1018 -->\n<g id=\"edge27\" class=\"edge\">\n<title>1016&#45;&gt;1018</title>\n<path fill=\"none\" stroke=\"#000000\" d=\"M77.2333,-602.2593C129.5015,-615.3264 231.2593,-640.7658 289.1658,-655.2424\"/>\n<polygon fill=\"#000000\" stroke=\"#000000\" points=\"288.5514,-658.6965 299.1017,-657.7264 290.2492,-651.9055 288.5514,-658.6965\"/>\n</g>\n<!-- 1016&#45;&gt;1019 -->\n<g id=\"edge30\" class=\"edge\">\n<title>1016&#45;&gt;1019</title>\n<path fill=\"none\" stroke=\"#000000\" d=\"M44.1961,-612.1686C44.1961,-619.8691 44.1961,-629.0257 44.1961,-637.5834\"/>\n<polygon fill=\"#000000\" stroke=\"#000000\" points=\"40.6962,-637.5867 44.1961,-647.5867 47.6962,-637.5868 40.6962,-637.5867\"/>\n</g>\n<!-- 1020 -->\n<g id=\"node20\" class=\"node\">\n<title>1020</title>\n<ellipse fill=\"none\" stroke=\"#000000\" cx=\"476.1961\" cy=\"-738\" rx=\"37.0935\" ry=\"18\"/>\n<text text-anchor=\"middle\" x=\"476.1961\" y=\"-734.3\" font-family=\"Times,serif\" font-size=\"14.00\" fill=\"#000000\">1020|2</text>\n</g>\n<!-- 1017&#45;&gt;1020 -->\n<g id=\"edge32\" class=\"edge\">\n<title>1017&#45;&gt;1020</title>\n<path fill=\"none\" stroke=\"#000000\" d=\"M476.1961,-612.2377C476.1961,-636.799 476.1961,-680.7526 476.1961,-709.646\"/>\n<polygon fill=\"#000000\" stroke=\"#000000\" points=\"472.6962,-709.9104 476.1961,-719.9104 479.6962,-709.9104 472.6962,-709.9104\"/>\n</g>\n<!-- 1026 -->\n<g id=\"node26\" class=\"node\">\n<title>1026</title>\n<ellipse fill=\"none\" stroke=\"#000000\" cx=\"476.1961\" cy=\"-954\" rx=\"37.0935\" ry=\"18\"/>\n<text text-anchor=\"middle\" x=\"476.1961\" y=\"-950.3\" font-family=\"Times,serif\" font-size=\"14.00\" fill=\"#000000\">1026|3</text>\n</g>\n<!-- 1018&#45;&gt;1026 -->\n<g id=\"edge43\" class=\"edge\">\n<title>1018&#45;&gt;1026</title>\n<path fill=\"none\" stroke=\"#000000\" d=\"M340.9872,-683.5822C365.3392,-732.2863 433.7855,-869.1789 462.8615,-927.3309\"/>\n<polygon fill=\"#000000\" stroke=\"#000000\" points=\"459.7344,-928.903 467.3371,-936.282 465.9954,-925.7725 459.7344,-928.903\"/>\n</g>\n<!-- 1027 -->\n<g id=\"node27\" class=\"node\">\n<title>1027</title>\n<ellipse fill=\"#ff0000\" stroke=\"#ff0000\" cx=\"332.1961\" cy=\"-1026\" rx=\"37.0935\" ry=\"18\"/>\n<text text-anchor=\"middle\" x=\"332.1961\" y=\"-1022.3\" font-family=\"Times,serif\" font-size=\"14.00\" fill=\"#000000\">1027|3</text>\n</g>\n<!-- 1018&#45;&gt;1027 -->\n<g id=\"edge46\" class=\"edge\">\n<title>1018&#45;&gt;1027</title>\n<path fill=\"none\" stroke=\"#000000\" d=\"M332.1961,-684.3474C332.1961,-742.9664 332.1961,-926.0448 332.1961,-997.2571\"/>\n<polygon fill=\"#000000\" stroke=\"#000000\" points=\"328.6962,-997.6895 332.1961,-1007.6896 335.6962,-997.6896 328.6962,-997.6895\"/>\n</g>\n<!-- 1019&#45;&gt;1020 -->\n<g id=\"edge31\" class=\"edge\">\n<title>1019&#45;&gt;1020</title>\n<path fill=\"none\" stroke=\"#000000\" d=\"M79.5485,-671.8921C157.5856,-684.8983 344.49,-716.049 430.9315,-730.4559\"/>\n<polygon fill=\"#000000\" stroke=\"#000000\" points=\"430.5217,-733.9358 440.9611,-732.1275 431.6726,-727.0311 430.5217,-733.9358\"/>\n</g>\n<!-- 1019&#45;&gt;1021 -->\n<g id=\"edge33\" class=\"edge\">\n<title>1019&#45;&gt;1021</title>\n<path fill=\"none\" stroke=\"#000000\" d=\"M70.2734,-679.0387C93.5166,-690.6603 127.7182,-707.7611 153.31,-720.557\"/>\n<polygon fill=\"#000000\" stroke=\"#000000\" points=\"151.8032,-723.7167 162.3128,-725.0584 154.9337,-717.4557 151.8032,-723.7167\"/>\n</g>\n<!-- 1023 -->\n<g id=\"node23\" class=\"node\">\n<title>1023</title>\n<ellipse fill=\"#ff0000\" stroke=\"#ff0000\" cx=\"44.1961\" cy=\"-882\" rx=\"37.0935\" ry=\"18\"/>\n<text text-anchor=\"middle\" x=\"44.1961\" y=\"-878.3\" font-family=\"Times,serif\" font-size=\"14.00\" fill=\"#000000\">1023|3</text>\n</g>\n<!-- 1019&#45;&gt;1023 -->\n<g id=\"edge38\" class=\"edge\">\n<title>1019&#45;&gt;1023</title>\n<path fill=\"none\" stroke=\"#000000\" d=\"M44.1961,-684.0445C44.1961,-721.6062 44.1961,-808.4459 44.1961,-853.5897\"/>\n<polygon fill=\"#000000\" stroke=\"#000000\" points=\"40.6962,-853.8549 44.1961,-863.8549 47.6962,-853.855 40.6962,-853.8549\"/>\n</g>\n<!-- 1022 -->\n<g id=\"node22\" class=\"node\">\n<title>1022</title>\n<ellipse fill=\"#ff0000\" stroke=\"#ff0000\" cx=\"188.1961\" cy=\"-810\" rx=\"37.0935\" ry=\"18\"/>\n<text text-anchor=\"middle\" x=\"188.1961\" y=\"-806.3\" font-family=\"Times,serif\" font-size=\"14.00\" fill=\"#000000\">1022|3</text>\n</g>\n<!-- 1020&#45;&gt;1022 -->\n<g id=\"edge35\" class=\"edge\">\n<title>1020&#45;&gt;1022</title>\n<path fill=\"none\" stroke=\"#000000\" d=\"M443.1588,-746.2593C390.8906,-759.3264 289.1328,-784.7658 231.2263,-799.2425\"/>\n<polygon fill=\"#000000\" stroke=\"#000000\" points=\"230.1429,-795.9055 221.2904,-801.7264 231.8407,-802.6965 230.1429,-795.9055\"/>\n</g>\n<!-- 1024 -->\n<g id=\"node24\" class=\"node\">\n<title>1024</title>\n<ellipse fill=\"#ff0000\" stroke=\"#ff0000\" cx=\"476.1961\" cy=\"-882\" rx=\"37.0935\" ry=\"18\"/>\n<text text-anchor=\"middle\" x=\"476.1961\" y=\"-878.3\" font-family=\"Times,serif\" font-size=\"14.00\" fill=\"#000000\">1024|3</text>\n</g>\n<!-- 1020&#45;&gt;1024 -->\n<g id=\"edge40\" class=\"edge\">\n<title>1020&#45;&gt;1024</title>\n<path fill=\"none\" stroke=\"#000000\" d=\"M476.1961,-756.2377C476.1961,-780.799 476.1961,-824.7526 476.1961,-853.646\"/>\n<polygon fill=\"#000000\" stroke=\"#000000\" points=\"472.6962,-853.9104 476.1961,-863.9104 479.6962,-853.9104 472.6962,-853.9104\"/>\n</g>\n<!-- 1021&#45;&gt;1022 -->\n<g id=\"edge36\" class=\"edge\">\n<title>1021&#45;&gt;1022</title>\n<path fill=\"none\" stroke=\"#000000\" d=\"M188.1961,-756.1687C188.1961,-763.8691 188.1961,-773.0257 188.1961,-781.5834\"/>\n<polygon fill=\"#000000\" stroke=\"#000000\" points=\"184.6962,-781.5867 188.1961,-791.5867 191.6962,-781.5868 184.6962,-781.5867\"/>\n</g>\n<!-- 1022&#45;&gt;1023 -->\n<g id=\"edge37\" class=\"edge\">\n<title>1022&#45;&gt;1023</title>\n<path fill=\"none\" stroke=\"#000000\" d=\"M162.1188,-823.0387C138.8756,-834.6603 104.674,-851.7611 79.0822,-864.557\"/>\n<polygon fill=\"#000000\" stroke=\"#000000\" points=\"77.4584,-861.4557 70.0794,-869.0584 80.5889,-867.7167 77.4584,-861.4557\"/>\n</g>\n<!-- 1022&#45;&gt;1024 -->\n<g id=\"edge39\" class=\"edge\">\n<title>1022&#45;&gt;1024</title>\n<path fill=\"none\" stroke=\"#000000\" d=\"M221.2333,-818.2593C273.5015,-831.3264 375.2593,-856.7658 433.1658,-871.2425\"/>\n<polygon fill=\"#000000\" stroke=\"#000000\" points=\"432.5514,-874.6965 443.1017,-873.7264 434.2492,-867.9055 432.5514,-874.6965\"/>\n</g>\n<!-- 1025 -->\n<g id=\"node25\" class=\"node\">\n<title>1025</title>\n<ellipse fill=\"none\" stroke=\"#000000\" cx=\"188.1961\" cy=\"-954\" rx=\"37.0935\" ry=\"18\"/>\n<text text-anchor=\"middle\" x=\"188.1961\" y=\"-950.3\" font-family=\"Times,serif\" font-size=\"14.00\" fill=\"#000000\">1025|3</text>\n</g>\n<!-- 1022&#45;&gt;1025 -->\n<g id=\"edge42\" class=\"edge\">\n<title>1022&#45;&gt;1025</title>\n<path fill=\"none\" stroke=\"#000000\" d=\"M188.1961,-828.2377C188.1961,-852.799 188.1961,-896.7526 188.1961,-925.646\"/>\n<polygon fill=\"#000000\" stroke=\"#000000\" points=\"184.6962,-925.9104 188.1961,-935.9104 191.6962,-925.9104 184.6962,-925.9104\"/>\n</g>\n<!-- 1023&#45;&gt;1025 -->\n<g id=\"edge41\" class=\"edge\">\n<title>1023&#45;&gt;1025</title>\n<path fill=\"none\" stroke=\"#000000\" d=\"M70.2734,-895.0387C93.5166,-906.6603 127.7182,-923.7611 153.31,-936.557\"/>\n<polygon fill=\"#000000\" stroke=\"#000000\" points=\"151.8032,-939.7167 162.3128,-941.0583 154.9337,-933.4557 151.8032,-939.7167\"/>\n</g>\n<!-- 1028 -->\n<g id=\"node28\" class=\"node\">\n<title>1028</title>\n<ellipse fill=\"none\" stroke=\"#000000\" cx=\"188.1961\" cy=\"-1026\" rx=\"37.0935\" ry=\"18\"/>\n<text text-anchor=\"middle\" x=\"188.1961\" y=\"-1022.3\" font-family=\"Times,serif\" font-size=\"14.00\" fill=\"#000000\">1028|3</text>\n</g>\n<!-- 1023&#45;&gt;1028 -->\n<g id=\"edge47\" class=\"edge\">\n<title>1023&#45;&gt;1028</title>\n<path fill=\"none\" stroke=\"#000000\" d=\"M60.4348,-898.2387C85.8224,-923.6264 135.0426,-972.8465 164.4251,-1002.2291\"/>\n<polygon fill=\"#000000\" stroke=\"#000000\" points=\"162.2498,-1005.0035 171.7958,-1009.5997 167.1996,-1000.0537 162.2498,-1005.0035\"/>\n</g>\n<!-- 1029 -->\n<g id=\"node29\" class=\"node\">\n<title>1029</title>\n<ellipse fill=\"none\" stroke=\"#000000\" cx=\"44.1961\" cy=\"-1098\" rx=\"37.0935\" ry=\"18\"/>\n<text text-anchor=\"middle\" x=\"44.1961\" y=\"-1094.3\" font-family=\"Times,serif\" font-size=\"14.00\" fill=\"#000000\">1029|3</text>\n</g>\n<!-- 1023&#45;&gt;1029 -->\n<g id=\"edge50\" class=\"edge\">\n<title>1023&#45;&gt;1029</title>\n<path fill=\"none\" stroke=\"#000000\" d=\"M44.1961,-900.0445C44.1961,-937.6062 44.1961,-1024.4459 44.1961,-1069.5897\"/>\n<polygon fill=\"#000000\" stroke=\"#000000\" points=\"40.6962,-1069.8549 44.1961,-1079.8549 47.6962,-1069.855 40.6962,-1069.8549\"/>\n</g>\n<!-- 1024&#45;&gt;1026 -->\n<g id=\"edge44\" class=\"edge\">\n<title>1024&#45;&gt;1026</title>\n<path fill=\"none\" stroke=\"#000000\" d=\"M476.1961,-900.1687C476.1961,-907.8691 476.1961,-917.0257 476.1961,-925.5834\"/>\n<polygon fill=\"#000000\" stroke=\"#000000\" points=\"472.6962,-925.5867 476.1961,-935.5867 479.6962,-925.5868 472.6962,-925.5867\"/>\n</g>\n<!-- 1025&#45;&gt;1028 -->\n<g id=\"edge48\" class=\"edge\">\n<title>1025&#45;&gt;1028</title>\n<path fill=\"none\" stroke=\"#000000\" d=\"M188.1961,-972.1686C188.1961,-979.869 188.1961,-989.0257 188.1961,-997.5834\"/>\n<polygon fill=\"#000000\" stroke=\"#000000\" points=\"184.6962,-997.5867 188.1961,-1007.5867 191.6962,-997.5868 184.6962,-997.5867\"/>\n</g>\n<!-- 1026&#45;&gt;1027 -->\n<g id=\"edge45\" class=\"edge\">\n<title>1026&#45;&gt;1027</title>\n<path fill=\"none\" stroke=\"#000000\" d=\"M450.1188,-967.0387C426.8756,-978.6603 392.674,-995.7611 367.0822,-1008.557\"/>\n<polygon fill=\"#000000\" stroke=\"#000000\" points=\"365.4584,-1005.4557 358.0794,-1013.0583 368.5889,-1011.7167 365.4584,-1005.4557\"/>\n</g>\n<!-- 1030 -->\n<g id=\"node30\" class=\"node\">\n<title>1030</title>\n<ellipse fill=\"none\" stroke=\"#000000\" cx=\"188.1961\" cy=\"-1098\" rx=\"37.0935\" ry=\"18\"/>\n<text text-anchor=\"middle\" x=\"188.1961\" y=\"-1094.3\" font-family=\"Times,serif\" font-size=\"14.00\" fill=\"#000000\">1030|3</text>\n</g>\n<!-- 1026&#45;&gt;1030 -->\n<g id=\"edge51\" class=\"edge\">\n<title>1026&#45;&gt;1030</title>\n<path fill=\"none\" stroke=\"#000000\" d=\"M450.13,-967.033C398.3208,-992.9376 282.3451,-1050.9255 223.6584,-1080.2688\"/>\n<polygon fill=\"#000000\" stroke=\"#000000\" points=\"221.7897,-1077.29 214.4107,-1084.8927 224.9202,-1083.551 221.7897,-1077.29\"/>\n</g>\n<!-- 1033 -->\n<g id=\"node33\" class=\"node\">\n<title>1033</title>\n<ellipse fill=\"none\" stroke=\"#000000\" cx=\"476.1961\" cy=\"-1242\" rx=\"37.0935\" ry=\"18\"/>\n<text text-anchor=\"middle\" x=\"476.1961\" y=\"-1238.3\" font-family=\"Times,serif\" font-size=\"14.00\" fill=\"#000000\">1033|3</text>\n</g>\n<!-- 1026&#45;&gt;1033 -->\n<g id=\"edge58\" class=\"edge\">\n<title>1026&#45;&gt;1033</title>\n<path fill=\"none\" stroke=\"#000000\" d=\"M476.1961,-972.0157C476.1961,-1020.7061 476.1961,-1155.2039 476.1961,-1213.9427\"/>\n<polygon fill=\"#000000\" stroke=\"#000000\" points=\"472.6962,-1213.9911 476.1961,-1223.9911 479.6962,-1213.9912 472.6962,-1213.9911\"/>\n</g>\n<!-- 1034 -->\n<g id=\"node34\" class=\"node\">\n<title>1034</title>\n<ellipse fill=\"#ff0000\" stroke=\"#ff0000\" cx=\"476.1961\" cy=\"-1314\" rx=\"37.0935\" ry=\"18\"/>\n<text text-anchor=\"middle\" x=\"476.1961\" y=\"-1310.3\" font-family=\"Times,serif\" font-size=\"14.00\" fill=\"#000000\">1034|4</text>\n</g>\n<!-- 1027&#45;&gt;1034 -->\n<g id=\"edge59\" class=\"edge\">\n<title>1027&#45;&gt;1034</title>\n<path fill=\"none\" stroke=\"#000000\" d=\"M340.9872,-1043.5822C365.3392,-1092.2863 433.7855,-1229.1789 462.8615,-1287.3309\"/>\n<polygon fill=\"#000000\" stroke=\"#000000\" points=\"459.7344,-1288.903 467.3371,-1296.282 465.9954,-1285.7725 459.7344,-1288.903\"/>\n</g>\n<!-- 1028&#45;&gt;1029 -->\n<g id=\"edge49\" class=\"edge\">\n<title>1028&#45;&gt;1029</title>\n<path fill=\"none\" stroke=\"#000000\" d=\"M162.1188,-1039.0387C138.8756,-1050.6603 104.674,-1067.7611 79.0822,-1080.557\"/>\n<polygon fill=\"#000000\" stroke=\"#000000\" points=\"77.4584,-1077.4557 70.0794,-1085.0583 80.5889,-1083.7167 77.4584,-1077.4557\"/>\n</g>\n<!-- 1028&#45;&gt;1030 -->\n<g id=\"edge52\" class=\"edge\">\n<title>1028&#45;&gt;1030</title>\n<path fill=\"none\" stroke=\"#000000\" d=\"M188.1961,-1044.1686C188.1961,-1051.869 188.1961,-1061.0257 188.1961,-1069.5834\"/>\n<polygon fill=\"#000000\" stroke=\"#000000\" points=\"184.6962,-1069.5867 188.1961,-1079.5867 191.6962,-1069.5868 184.6962,-1069.5867\"/>\n</g>\n<!-- 1031 -->\n<g id=\"node31\" class=\"node\">\n<title>1031</title>\n<ellipse fill=\"none\" stroke=\"#000000\" cx=\"44.1961\" cy=\"-1170\" rx=\"37.0935\" ry=\"18\"/>\n<text text-anchor=\"middle\" x=\"44.1961\" y=\"-1166.3\" font-family=\"Times,serif\" font-size=\"14.00\" fill=\"#000000\">1031|3</text>\n</g>\n<!-- 1029&#45;&gt;1031 -->\n<g id=\"edge54\" class=\"edge\">\n<title>1029&#45;&gt;1031</title>\n<path fill=\"none\" stroke=\"#000000\" d=\"M44.1961,-1116.1686C44.1961,-1123.869 44.1961,-1133.0257 44.1961,-1141.5834\"/>\n<polygon fill=\"#000000\" stroke=\"#000000\" points=\"40.6962,-1141.5867 44.1961,-1151.5867 47.6962,-1141.5868 40.6962,-1141.5867\"/>\n</g>\n<!-- 1030&#45;&gt;1031 -->\n<g id=\"edge53\" class=\"edge\">\n<title>1030&#45;&gt;1031</title>\n<path fill=\"none\" stroke=\"#000000\" d=\"M162.1188,-1111.0387C138.8756,-1122.6603 104.674,-1139.7611 79.0822,-1152.557\"/>\n<polygon fill=\"#000000\" stroke=\"#000000\" points=\"77.4584,-1149.4557 70.0794,-1157.0583 80.5889,-1155.7167 77.4584,-1149.4557\"/>\n</g>\n<!-- 1032 -->\n<g id=\"node32\" class=\"node\">\n<title>1032</title>\n<ellipse fill=\"none\" stroke=\"#000000\" cx=\"188.1961\" cy=\"-1242\" rx=\"37.0935\" ry=\"18\"/>\n<text text-anchor=\"middle\" x=\"188.1961\" y=\"-1238.3\" font-family=\"Times,serif\" font-size=\"14.00\" fill=\"#000000\">1032|3</text>\n</g>\n<!-- 1030&#45;&gt;1032 -->\n<g id=\"edge56\" class=\"edge\">\n<title>1030&#45;&gt;1032</title>\n<path fill=\"none\" stroke=\"#000000\" d=\"M188.1961,-1116.2377C188.1961,-1140.799 188.1961,-1184.7526 188.1961,-1213.6459\"/>\n<polygon fill=\"#000000\" stroke=\"#000000\" points=\"184.6962,-1213.9103 188.1961,-1223.9104 191.6962,-1213.9104 184.6962,-1213.9103\"/>\n</g>\n<!-- 1030&#45;&gt;1033 -->\n<g id=\"edge57\" class=\"edge\">\n<title>1030&#45;&gt;1033</title>\n<path fill=\"none\" stroke=\"#000000\" d=\"M214.2621,-1111.033C266.0713,-1136.9376 382.0471,-1194.9255 440.7338,-1224.2688\"/>\n<polygon fill=\"#000000\" stroke=\"#000000\" points=\"439.4719,-1227.551 449.9814,-1228.8927 442.6024,-1221.29 439.4719,-1227.551\"/>\n</g>\n<!-- 1031&#45;&gt;1032 -->\n<g id=\"edge55\" class=\"edge\">\n<title>1031&#45;&gt;1032</title>\n<path fill=\"none\" stroke=\"#000000\" d=\"M70.2734,-1183.0387C93.5166,-1194.6603 127.7182,-1211.7611 153.31,-1224.557\"/>\n<polygon fill=\"#000000\" stroke=\"#000000\" points=\"151.8032,-1227.7167 162.3128,-1229.0583 154.9337,-1221.4557 151.8032,-1227.7167\"/>\n</g>\n<!-- 1035 -->\n<g id=\"node35\" class=\"node\">\n<title>1035</title>\n<ellipse fill=\"#ff0000\" stroke=\"#ff0000\" cx=\"188.1961\" cy=\"-1386\" rx=\"37.0935\" ry=\"18\"/>\n<text text-anchor=\"middle\" x=\"188.1961\" y=\"-1382.3\" font-family=\"Times,serif\" font-size=\"14.00\" fill=\"#000000\">1035|4</text>\n</g>\n<!-- 1032&#45;&gt;1035 -->\n<g id=\"edge62\" class=\"edge\">\n<title>1032&#45;&gt;1035</title>\n<path fill=\"none\" stroke=\"#000000\" d=\"M188.1961,-1260.2377C188.1961,-1284.799 188.1961,-1328.7526 188.1961,-1357.6459\"/>\n<polygon fill=\"#000000\" stroke=\"#000000\" points=\"184.6962,-1357.9103 188.1961,-1367.9104 191.6962,-1357.9104 184.6962,-1357.9103\"/>\n</g>\n<!-- 1033&#45;&gt;1034 -->\n<g id=\"edge60\" class=\"edge\">\n<title>1033&#45;&gt;1034</title>\n<path fill=\"none\" stroke=\"#000000\" d=\"M476.1961,-1260.1686C476.1961,-1267.869 476.1961,-1277.0257 476.1961,-1285.5834\"/>\n<polygon fill=\"#000000\" stroke=\"#000000\" points=\"472.6962,-1285.5867 476.1961,-1295.5867 479.6962,-1285.5868 472.6962,-1285.5867\"/>\n</g>\n<!-- 1034&#45;&gt;1035 -->\n<g id=\"edge61\" class=\"edge\">\n<title>1034&#45;&gt;1035</title>\n<path fill=\"none\" stroke=\"#000000\" d=\"M443.1588,-1322.2593C390.8906,-1335.3264 289.1328,-1360.7658 231.2263,-1375.2424\"/>\n<polygon fill=\"#000000\" stroke=\"#000000\" points=\"230.1429,-1371.9055 221.2904,-1377.7264 231.8407,-1378.6965 230.1429,-1371.9055\"/>\n</g>\n</g>\n</svg>\n"
          },
          "metadata": {},
          "execution_count": 42
        }
      ]
    },
    {
      "cell_type": "markdown",
      "source": [
        "After the find order procecure some events have been ordered. <br>\n",
        "The events in grey are present in the consensus order. Each event has the following format:<br> \n",
        "{event_id}|{round_received}|{consensus_timestamp}. <br>"
      ],
      "metadata": {
        "id": "gvYg_wFLS--k"
      }
    },
    {
      "cell_type": "code",
      "source": [
        "print(\"Consensus order:\")\n",
        "for event in order:\n",
        "  print(f\"Event Id: {event[2]} Round received: {event[0]} Consensus timestamp: {event[1]}\")"
      ],
      "metadata": {
        "id": "F0HAS268PquS",
        "colab": {
          "base_uri": "https://localhost:8080/"
        },
        "outputId": "ff1bb704-f5f9-4de3-bb2e-724fc1224bc5"
      },
      "execution_count": null,
      "outputs": [
        {
          "output_type": "stream",
          "name": "stdout",
          "text": [
            "Consensus order:\n",
            "Event Id: 1002 Round received: 2 Consensus timestamp: 1\n",
            "Event Id: 1004 Round received: 2 Consensus timestamp: 2\n",
            "Event Id: 1005 Round received: 2 Consensus timestamp: 2\n",
            "Event Id: 1006 Round received: 2 Consensus timestamp: 3\n",
            "Event Id: 1003 Round received: 2 Consensus timestamp: 4\n",
            "Event Id: 1008 Round received: 2 Consensus timestamp: 4\n",
            "Event Id: 1007 Round received: 2 Consensus timestamp: 5\n",
            "Event Id: 1010 Round received: 2 Consensus timestamp: 5\n",
            "Event Id: 1001 Round received: 2 Consensus timestamp: 6\n",
            "Event Id: 1009 Round received: 2 Consensus timestamp: 6\n",
            "Event Id: 1013 Round received: 2 Consensus timestamp: 7\n"
          ]
        }
      ]
    }
  ]
}